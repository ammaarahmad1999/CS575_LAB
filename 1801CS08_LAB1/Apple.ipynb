{
 "cells": [
  {
   "cell_type": "code",
   "execution_count": 1,
   "metadata": {
    "colab": {
     "base_uri": "https://localhost:8080/"
    },
    "id": "WAfQPRFxM8Gf",
    "outputId": "6d54ad02-8758-4494-84b1-3cb7f8f3de9e"
   },
   "outputs": [
    {
     "ename": "ModuleNotFoundError",
     "evalue": "No module named 'google'",
     "output_type": "error",
     "traceback": [
      "\u001b[0;31m---------------------------------------------------------------------------\u001b[0m",
      "\u001b[0;31mModuleNotFoundError\u001b[0m                       Traceback (most recent call last)",
      "\u001b[0;32m<ipython-input-1-d5df0069828e>\u001b[0m in \u001b[0;36m<module>\u001b[0;34m\u001b[0m\n\u001b[0;32m----> 1\u001b[0;31m \u001b[0;32mfrom\u001b[0m \u001b[0mgoogle\u001b[0m\u001b[0;34m.\u001b[0m\u001b[0mcolab\u001b[0m \u001b[0;32mimport\u001b[0m \u001b[0mdrive\u001b[0m\u001b[0;34m\u001b[0m\u001b[0;34m\u001b[0m\u001b[0m\n\u001b[0m\u001b[1;32m      2\u001b[0m \u001b[0mdrive\u001b[0m\u001b[0;34m.\u001b[0m\u001b[0mmount\u001b[0m\u001b[0;34m(\u001b[0m\u001b[0;34m'/content/drive'\u001b[0m\u001b[0;34m)\u001b[0m\u001b[0;34m\u001b[0m\u001b[0;34m\u001b[0m\u001b[0m\n",
      "\u001b[0;31mModuleNotFoundError\u001b[0m: No module named 'google'"
     ]
    }
   ],
   "source": [
    "from google.colab import drive\n",
    "drive.mount('/content/drive')"
   ]
  },
  {
   "cell_type": "code",
   "execution_count": null,
   "metadata": {
    "id": "dAnnu6lZNKKE"
   },
   "outputs": [],
   "source": [
    "%cp /content/drive/MyDrive/CSVs/* ./"
   ]
  },
  {
   "cell_type": "code",
   "execution_count": 2,
   "metadata": {
    "id": "2Shp_5CEgXC5"
   },
   "outputs": [],
   "source": [
    "import pandas as pd\n",
    "import numpy as np\n",
    "from scipy import stats\n",
    "import matplotlib.pyplot as plt\n",
    "%matplotlib inline\n",
    "from statsmodels.graphics.tsaplots import plot_pacf,plot_acf\n",
    "from statsmodels.graphics.gofplots import qqplot"
   ]
  },
  {
   "cell_type": "code",
   "execution_count": 3,
   "metadata": {
    "id": "mhSzo9Vr1TSP"
   },
   "outputs": [
    {
     "ename": "ModuleNotFoundError",
     "evalue": "No module named 'pandas_datareader'",
     "output_type": "error",
     "traceback": [
      "\u001b[0;31m---------------------------------------------------------------------------\u001b[0m",
      "\u001b[0;31mModuleNotFoundError\u001b[0m                       Traceback (most recent call last)",
      "\u001b[0;32m<ipython-input-3-e0c39a20e7eb>\u001b[0m in \u001b[0;36m<module>\u001b[0;34m\u001b[0m\n\u001b[0;32m----> 1\u001b[0;31m \u001b[0;32mfrom\u001b[0m \u001b[0mpandas_datareader\u001b[0m \u001b[0;32mimport\u001b[0m \u001b[0mdata\u001b[0m \u001b[0;32mas\u001b[0m \u001b[0mpdr\u001b[0m\u001b[0;34m\u001b[0m\u001b[0;34m\u001b[0m\u001b[0m\n\u001b[0m\u001b[1;32m      2\u001b[0m \u001b[0;32mfrom\u001b[0m \u001b[0mdatetime\u001b[0m \u001b[0;32mimport\u001b[0m \u001b[0mdatetime\u001b[0m\u001b[0;34m\u001b[0m\u001b[0;34m\u001b[0m\u001b[0m\n",
      "\u001b[0;31mModuleNotFoundError\u001b[0m: No module named 'pandas_datareader'"
     ]
    }
   ],
   "source": [
    "from pandas_datareader import data as pdr\n",
    "from datetime import datetime"
   ]
  },
  {
   "cell_type": "code",
   "execution_count": 526,
   "metadata": {
    "id": "BbrB17mPg_Eq"
   },
   "outputs": [],
   "source": [
    "df = pd.read_csv('/content/Apple_stock.csv')"
   ]
  },
  {
   "cell_type": "code",
   "execution_count": 527,
   "metadata": {
    "colab": {
     "base_uri": "https://localhost:8080/",
     "height": 204
    },
    "id": "qUhyts3DhtO9",
    "outputId": "91913dbb-3f1b-4422-d1c1-a999047f7d50"
   },
   "outputs": [
    {
     "data": {
      "text/html": [
       "<div>\n",
       "<style scoped>\n",
       "    .dataframe tbody tr th:only-of-type {\n",
       "        vertical-align: middle;\n",
       "    }\n",
       "\n",
       "    .dataframe tbody tr th {\n",
       "        vertical-align: top;\n",
       "    }\n",
       "\n",
       "    .dataframe thead th {\n",
       "        text-align: right;\n",
       "    }\n",
       "</style>\n",
       "<table border=\"1\" class=\"dataframe\">\n",
       "  <thead>\n",
       "    <tr style=\"text-align: right;\">\n",
       "      <th></th>\n",
       "      <th>Date</th>\n",
       "      <th>High</th>\n",
       "      <th>Low</th>\n",
       "      <th>Open</th>\n",
       "      <th>Close</th>\n",
       "      <th>Volume</th>\n",
       "      <th>Adj Close</th>\n",
       "    </tr>\n",
       "  </thead>\n",
       "  <tbody>\n",
       "    <tr>\n",
       "      <th>0</th>\n",
       "      <td>2018-12-31</td>\n",
       "      <td>39.840000</td>\n",
       "      <td>39.119999</td>\n",
       "      <td>39.632500</td>\n",
       "      <td>39.435001</td>\n",
       "      <td>140014000.0</td>\n",
       "      <td>38.338478</td>\n",
       "    </tr>\n",
       "    <tr>\n",
       "      <th>1</th>\n",
       "      <td>2019-01-02</td>\n",
       "      <td>39.712502</td>\n",
       "      <td>38.557499</td>\n",
       "      <td>38.722500</td>\n",
       "      <td>39.480000</td>\n",
       "      <td>148158800.0</td>\n",
       "      <td>38.382229</td>\n",
       "    </tr>\n",
       "    <tr>\n",
       "      <th>2</th>\n",
       "      <td>2019-01-03</td>\n",
       "      <td>36.430000</td>\n",
       "      <td>35.500000</td>\n",
       "      <td>35.994999</td>\n",
       "      <td>35.547501</td>\n",
       "      <td>365248800.0</td>\n",
       "      <td>34.559078</td>\n",
       "    </tr>\n",
       "    <tr>\n",
       "      <th>3</th>\n",
       "      <td>2019-01-04</td>\n",
       "      <td>37.137501</td>\n",
       "      <td>35.950001</td>\n",
       "      <td>36.132500</td>\n",
       "      <td>37.064999</td>\n",
       "      <td>234428400.0</td>\n",
       "      <td>36.034370</td>\n",
       "    </tr>\n",
       "    <tr>\n",
       "      <th>4</th>\n",
       "      <td>2019-01-07</td>\n",
       "      <td>37.207500</td>\n",
       "      <td>36.474998</td>\n",
       "      <td>37.174999</td>\n",
       "      <td>36.982498</td>\n",
       "      <td>219111200.0</td>\n",
       "      <td>35.954170</td>\n",
       "    </tr>\n",
       "  </tbody>\n",
       "</table>\n",
       "</div>"
      ],
      "text/plain": [
       "         Date       High        Low  ...      Close       Volume  Adj Close\n",
       "0  2018-12-31  39.840000  39.119999  ...  39.435001  140014000.0  38.338478\n",
       "1  2019-01-02  39.712502  38.557499  ...  39.480000  148158800.0  38.382229\n",
       "2  2019-01-03  36.430000  35.500000  ...  35.547501  365248800.0  34.559078\n",
       "3  2019-01-04  37.137501  35.950001  ...  37.064999  234428400.0  36.034370\n",
       "4  2019-01-07  37.207500  36.474998  ...  36.982498  219111200.0  35.954170\n",
       "\n",
       "[5 rows x 7 columns]"
      ]
     },
     "execution_count": 527,
     "metadata": {
      "tags": []
     },
     "output_type": "execute_result"
    }
   ],
   "source": [
    "df.head()"
   ]
  },
  {
   "cell_type": "code",
   "execution_count": 528,
   "metadata": {
    "colab": {
     "base_uri": "https://localhost:8080/",
     "height": 204
    },
    "id": "yeJFr1OGRGYw",
    "outputId": "eaad7043-2ffb-46d7-f6f4-d84ff2e3cfb2"
   },
   "outputs": [
    {
     "data": {
      "text/html": [
       "<div>\n",
       "<style scoped>\n",
       "    .dataframe tbody tr th:only-of-type {\n",
       "        vertical-align: middle;\n",
       "    }\n",
       "\n",
       "    .dataframe tbody tr th {\n",
       "        vertical-align: top;\n",
       "    }\n",
       "\n",
       "    .dataframe thead th {\n",
       "        text-align: right;\n",
       "    }\n",
       "</style>\n",
       "<table border=\"1\" class=\"dataframe\">\n",
       "  <thead>\n",
       "    <tr style=\"text-align: right;\">\n",
       "      <th></th>\n",
       "      <th>Date</th>\n",
       "      <th>High</th>\n",
       "      <th>Low</th>\n",
       "      <th>Open</th>\n",
       "      <th>Close</th>\n",
       "      <th>Volume</th>\n",
       "      <th>Adj Close</th>\n",
       "    </tr>\n",
       "  </thead>\n",
       "  <tbody>\n",
       "    <tr>\n",
       "      <th>248</th>\n",
       "      <td>2019-12-24</td>\n",
       "      <td>71.222504</td>\n",
       "      <td>70.730003</td>\n",
       "      <td>71.172501</td>\n",
       "      <td>71.067497</td>\n",
       "      <td>48478800.0</td>\n",
       "      <td>70.129517</td>\n",
       "    </tr>\n",
       "    <tr>\n",
       "      <th>249</th>\n",
       "      <td>2019-12-26</td>\n",
       "      <td>72.495003</td>\n",
       "      <td>71.175003</td>\n",
       "      <td>71.205002</td>\n",
       "      <td>72.477501</td>\n",
       "      <td>93121200.0</td>\n",
       "      <td>71.520905</td>\n",
       "    </tr>\n",
       "    <tr>\n",
       "      <th>250</th>\n",
       "      <td>2019-12-27</td>\n",
       "      <td>73.492500</td>\n",
       "      <td>72.029999</td>\n",
       "      <td>72.779999</td>\n",
       "      <td>72.449997</td>\n",
       "      <td>146266000.0</td>\n",
       "      <td>71.493759</td>\n",
       "    </tr>\n",
       "    <tr>\n",
       "      <th>251</th>\n",
       "      <td>2019-12-30</td>\n",
       "      <td>73.172501</td>\n",
       "      <td>71.305000</td>\n",
       "      <td>72.364998</td>\n",
       "      <td>72.879997</td>\n",
       "      <td>144114400.0</td>\n",
       "      <td>71.918083</td>\n",
       "    </tr>\n",
       "    <tr>\n",
       "      <th>252</th>\n",
       "      <td>2019-12-31</td>\n",
       "      <td>73.419998</td>\n",
       "      <td>72.379997</td>\n",
       "      <td>72.482498</td>\n",
       "      <td>73.412498</td>\n",
       "      <td>100805600.0</td>\n",
       "      <td>72.443558</td>\n",
       "    </tr>\n",
       "  </tbody>\n",
       "</table>\n",
       "</div>"
      ],
      "text/plain": [
       "           Date       High        Low  ...      Close       Volume  Adj Close\n",
       "248  2019-12-24  71.222504  70.730003  ...  71.067497   48478800.0  70.129517\n",
       "249  2019-12-26  72.495003  71.175003  ...  72.477501   93121200.0  71.520905\n",
       "250  2019-12-27  73.492500  72.029999  ...  72.449997  146266000.0  71.493759\n",
       "251  2019-12-30  73.172501  71.305000  ...  72.879997  144114400.0  71.918083\n",
       "252  2019-12-31  73.419998  72.379997  ...  73.412498  100805600.0  72.443558\n",
       "\n",
       "[5 rows x 7 columns]"
      ]
     },
     "execution_count": 528,
     "metadata": {
      "tags": []
     },
     "output_type": "execute_result"
    }
   ],
   "source": [
    "df.tail()"
   ]
  },
  {
   "cell_type": "markdown",
   "metadata": {
    "id": "IiRxDWtd-UBq"
   },
   "source": [
    "#Closing Price Analysis"
   ]
  },
  {
   "cell_type": "code",
   "execution_count": 529,
   "metadata": {
    "colab": {
     "base_uri": "https://localhost:8080/"
    },
    "id": "IPPMNBe3h2ae",
    "outputId": "00b15d08-670b-4fc6-9199-e694e7fec5a3"
   },
   "outputs": [
    {
     "name": "stdout",
     "output_type": "stream",
     "text": [
      "0      39.435001\n",
      "1      39.480000\n",
      "2      35.547501\n",
      "3      37.064999\n",
      "4      36.982498\n",
      "         ...    \n",
      "248    71.067497\n",
      "249    72.477501\n",
      "250    72.449997\n",
      "251    72.879997\n",
      "252    73.412498\n",
      "Name: Close, Length: 253, dtype: float64\n"
     ]
    }
   ],
   "source": [
    "close = df['Close']\n",
    "print(close)"
   ]
  },
  {
   "cell_type": "code",
   "execution_count": 530,
   "metadata": {
    "colab": {
     "base_uri": "https://localhost:8080/",
     "height": 265
    },
    "id": "HZEi2-_VE9OO",
    "outputId": "29faa5b6-76ee-41bb-a57f-d96b20474b38"
   },
   "outputs": [
    {
     "data": {
      "image/png": "[encoded data removed]",
      "text/plain": [
       "<Figure size 432x288 with 1 Axes>"
      ]
     },
     "metadata": {
      "needs_background": "light",
      "tags": []
     },
     "output_type": "display_data"
    }
   ],
   "source": [
    "plt.hist(close,bins=\"rice\",label=\"Daily close price\")\n",
    "plt.legend()\n",
    "plt.show()"
   ]
  },
  {
   "cell_type": "code",
   "execution_count": 531,
   "metadata": {
    "colab": {
     "base_uri": "https://localhost:8080/",
     "height": 268
    },
    "id": "no83EeQ9F5a0",
    "outputId": "e4349519-9925-4209-9857-5adc725b3bc6"
   },
   "outputs": [
    {
     "data": {
      "image/png": "[encoded data removed]",
      "text/plain": [
       "<Figure size 432x288 with 1 Axes>"
      ]
     },
     "metadata": {
      "needs_background": "light",
      "tags": []
     },
     "output_type": "display_data"
    }
   ],
   "source": [
    "plt.boxplot(close,labels=[\"Daily close price\"])\n",
    "plt.show()"
   ]
  },
  {
   "cell_type": "code",
   "execution_count": 532,
   "metadata": {
    "colab": {
     "base_uri": "https://localhost:8080/",
     "height": 279
    },
    "id": "f3ZjNoDTSHW6",
    "outputId": "1e0c7e37-7f37-4555-981d-467db650414c"
   },
   "outputs": [
    {
     "data": {
      "image/png": "[encoded data removed]",
      "text/plain": [
       "<Figure size 432x288 with 1 Axes>"
      ]
     },
     "metadata": {
      "needs_background": "light",
      "tags": []
     },
     "output_type": "display_data"
    }
   ],
   "source": [
    "from statsmodels.graphics.gofplots import qqplot\n",
    "qqplot(close, line='s')\n",
    "plt.show()"
   ]
  },
  {
   "cell_type": "code",
   "execution_count": 533,
   "metadata": {
    "colab": {
     "base_uri": "https://localhost:8080/"
    },
    "id": "XsnmEw04SnIs",
    "outputId": "981bfb26-55b9-4f31-d092-a9def939c7a5"
   },
   "outputs": [
    {
     "name": "stdout",
     "output_type": "stream",
     "text": [
      "Mean is:  52.01407110643952\n",
      "Standard deviation is:  8.63697421408136\n",
      "Median is:  50.724998474121094\n",
      "Skewness of the distribution is:  0.5624153223275167\n",
      "Skewtest of the distribution is:  SkewtestResult(statistic=3.5237456559966773, pvalue=0.00042549247141409507)\n",
      "Kurtosis of the distributionn is:  -0.3060753558059197\n",
      "Kurtosis test of the distribution is:  KurtosistestResult(statistic=-0.9865315410802911, pvalue=0.3238723453990211)\n"
     ]
    }
   ],
   "source": [
    "# Summary of stock price descriptive analysis\n",
    "print(\"Mean is: \", np.mean(close))\n",
    "print(\"Standard deviation is: \", np.std(close))\n",
    "print(\"Median is: \", np.quantile(close,0.5))\n",
    "print(\"Skewness of the distribution is: \", stats.skew(close))\n",
    "print(\"Skewtest of the distribution is: \", stats.skewtest(close))\n",
    "print(\"Kurtosis of the distributionn is: \", stats.kurtosis(close))\n",
    "print(\"Kurtosis test of the distribution is: \", stats.kurtosistest(close))"
   ]
  },
  {
   "cell_type": "code",
   "execution_count": 534,
   "metadata": {
    "colab": {
     "base_uri": "https://localhost:8080/",
     "height": 279
    },
    "id": "VolGoXiOWjyE",
    "outputId": "96345488-033c-4e4b-bf40-5bddd8a2fd3a"
   },
   "outputs": [
    {
     "data": {
      "image/png": "[encoded data removed]",
      "text/plain": [
       "<Figure size 432x288 with 1 Axes>"
      ]
     },
     "metadata": {
      "needs_background": "light",
      "tags": []
     },
     "output_type": "display_data"
    }
   ],
   "source": [
    "## Checking for normal distribution\n",
    "t = np.linspace(0.01,0.99,1000)\n",
    "q1 = np.quantile(close,t)\n",
    "q2 = stats.norm.ppf(t,loc=np.mean(returns),scale=np.std(returns))\n",
    "plt.plot(q1,q2)\n",
    "plt.plot([min(q1),max(q1)],[min(q2),max(q2)])\n",
    "plt.xlim((min(q1),max(q1)))\n",
    "plt.ylim((min(q2),max(q2)))\n",
    "plt.xlabel(\"Daily returns\")\n",
    "plt.ylabel(\"Normal distribution\")\n",
    "plt.show()"
   ]
  },
  {
   "cell_type": "markdown",
   "metadata": {
    "id": "W6Kw7RoD9zyD"
   },
   "source": [
    "#**Stock Return Analysis**"
   ]
  },
  {
   "cell_type": "code",
   "execution_count": 535,
   "metadata": {
    "colab": {
     "base_uri": "https://localhost:8080/"
    },
    "id": "T8ulxjvjEcWo",
    "outputId": "0aed81f4-c314-4fea-a09e-9860c9fa0816"
   },
   "outputs": [
    {
     "name": "stdout",
     "output_type": "stream",
     "text": [
      "1      0.114107\n",
      "2     -9.960737\n",
      "3      4.268930\n",
      "4     -0.222583\n",
      "5      1.906312\n",
      "         ...   \n",
      "248    0.095067\n",
      "249    1.984034\n",
      "250   -0.037948\n",
      "251    0.593513\n",
      "252    0.730655\n",
      "Name: Close, Length: 252, dtype: float64\n"
     ]
    }
   ],
   "source": [
    "## Daily Return\n",
    "returns = close.pct_change(1).dropna()\n",
    "returns = returns * 100\n",
    "print(returns)"
   ]
  },
  {
   "cell_type": "code",
   "execution_count": 536,
   "metadata": {
    "colab": {
     "base_uri": "https://localhost:8080/",
     "height": 265
    },
    "id": "XwOAVHb4UE3X",
    "outputId": "d2a01e2c-530b-4b47-e3be-f43ba22928c9"
   },
   "outputs": [
    {
     "data": {
      "image/png": "[encoded data removed]",
      "text/plain": [
       "<Figure size 432x288 with 1 Axes>"
      ]
     },
     "metadata": {
      "needs_background": "light",
      "tags": []
     },
     "output_type": "display_data"
    }
   ],
   "source": [
    "plt.hist(returns, bins=\"rice\", label=\"Return\")\n",
    "plt.axvline(returns.mean(), color='darkorange')\n",
    "plt.axvline(returns.median(), color='red')\n",
    "plt.axvline(returns.mean() - 2*returns.std(), color='green')\n",
    "plt.axvline(returns.mean() + 2*returns.std(), color='green')\n",
    "\n",
    "plt.legend()\n",
    "plt.show()"
   ]
  },
  {
   "cell_type": "code",
   "execution_count": 537,
   "metadata": {
    "colab": {
     "base_uri": "https://localhost:8080/",
     "height": 267
    },
    "id": "5mxD_GDtUFq1",
    "outputId": "4262677a-f6c5-44a1-b6b1-c0768a713835"
   },
   "outputs": [
    {
     "data": {
      "image/png": "[encoded data removed]",
      "text/plain": [
       "<Figure size 432x288 with 1 Axes>"
      ]
     },
     "metadata": {
      "needs_background": "light",
      "tags": []
     },
     "output_type": "display_data"
    }
   ],
   "source": [
    "plt.boxplot(returns ,labels=[\"Return\"])\n",
    "plt.show()"
   ]
  },
  {
   "cell_type": "code",
   "execution_count": 538,
   "metadata": {
    "colab": {
     "base_uri": "https://localhost:8080/",
     "height": 281
    },
    "id": "wJN4MeUtx_r5",
    "outputId": "c8c6a1f3-aa8c-47c4-ef37-e7bf97da06eb"
   },
   "outputs": [
    {
     "data": {
      "image/png": "[encoded data removed]",
      "text/plain": [
       "<Figure size 432x288 with 1 Axes>"
      ]
     },
     "metadata": {
      "needs_background": "light",
      "tags": []
     },
     "output_type": "display_data"
    }
   ],
   "source": [
    "from statsmodels.graphics.gofplots import qqplot\n",
    "qqplot(returns, line='s')\n",
    "plt.show()"
   ]
  },
  {
   "cell_type": "code",
   "execution_count": 539,
   "metadata": {
    "colab": {
     "base_uri": "https://localhost:8080/"
    },
    "id": "dxk8p90GGAtL",
    "outputId": "cae12de5-8261-49ec-c8a1-690606929cbd"
   },
   "outputs": [
    {
     "name": "stdout",
     "output_type": "stream",
     "text": [
      "Mean is:  0.26057059797942517\n",
      "Standard deviation is:  1.6459549972153602\n",
      "Median is:  0.275252995760189\n",
      "Skewness of the distribution is:  -0.9066413114103413\n",
      "Skewtest of the distribution is:  SkewtestResult(statistic=-5.256202930970021, pvalue=1.470600157903429e-07)\n",
      "Kurtosis of the distributionn is:  7.002579343311439\n",
      "Kurtosis test of the distribution is:  KurtosistestResult(statistic=6.728824415380868, pvalue=1.7103929728413623e-11)\n"
     ]
    }
   ],
   "source": [
    "# Summary of stock price descriptive analysis\n",
    "print(\"Mean is: \", np.mean(returns))\n",
    "print(\"Standard deviation is: \", np.std(returns))\n",
    "print(\"Median is: \", np.quantile(returns,0.5))\n",
    "print(\"Skewness of the distribution is: \", stats.skew(returns))\n",
    "print(\"Skewtest of the distribution is: \", stats.skewtest(returns))\n",
    "print(\"Kurtosis of the distributionn is: \", stats.kurtosis(returns))\n",
    "print(\"Kurtosis test of the distribution is: \", stats.kurtosistest(returns))"
   ]
  },
  {
   "cell_type": "code",
   "execution_count": 540,
   "metadata": {
    "colab": {
     "base_uri": "https://localhost:8080/",
     "height": 281
    },
    "id": "ebIg4_pNKQ0K",
    "outputId": "2cf28c96-809b-4d89-a72b-abc6b1728e2d"
   },
   "outputs": [
    {
     "data": {
      "image/png": "[encoded data removed]",
      "text/plain": [
       "<Figure size 432x288 with 1 Axes>"
      ]
     },
     "metadata": {
      "needs_background": "light",
      "tags": []
     },
     "output_type": "display_data"
    }
   ],
   "source": [
    "## Checking for normal distribution\n",
    "t = np.linspace(0.01,0.99,1000)\n",
    "q1 = np.quantile(returns,t)\n",
    "q2 = stats.norm.ppf(t,loc=np.mean(returns),scale=np.std(returns))\n",
    "plt.plot(q1,q2)\n",
    "plt.plot([min(q1),max(q1)],[min(q2),max(q2)])\n",
    "plt.xlim((min(q1),max(q1)))\n",
    "plt.ylim((min(q2),max(q2)))\n",
    "plt.xlabel(\"Daily returns\")\n",
    "plt.ylabel(\"Normal distribution\")\n",
    "plt.show()"
   ]
  }
 ],
 "metadata": {
  "colab": {
   "collapsed_sections": [],
   "name": "Apple.ipynb",
   "provenance": []
  },
  "kernelspec": {
   "display_name": "Python 3",
   "language": "python",
   "name": "python3"
  },
  "language_info": {
   "codemirror_mode": {
    "name": "ipython",
    "version": 3
   },
   "file_extension": ".py",
   "mimetype": "text/x-python",
   "name": "python",
   "nbconvert_exporter": "python",
   "pygments_lexer": "ipython3",
   "version": "3.8.5"
  }
 },
 "nbformat": 4,
 "nbformat_minor": 1
}
