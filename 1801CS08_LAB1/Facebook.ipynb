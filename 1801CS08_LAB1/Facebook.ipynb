{
  "nbformat": 4,
  "nbformat_minor": 0,
  "metadata": {
    "colab": {
      "name": "Facebook.ipynb",
      "provenance": [],
      "collapsed_sections": []
    },
    "kernelspec": {
      "name": "python3",
      "display_name": "Python 3"
    },
    "language_info": {
      "name": "python"
    }
  },
  "cells": [
    {
      "cell_type": "code",
      "metadata": {
        "colab": {
          "base_uri": "https://localhost:8080/"
        },
        "id": "WAfQPRFxM8Gf",
        "outputId": "6d54ad02-8758-4494-84b1-3cb7f8f3de9e"
      },
      "source": [
        "from google.colab import drive\n",
        "drive.mount('/content/drive')"
      ],
      "execution_count": null,
      "outputs": [
        {
          "output_type": "stream",
          "text": [
            "Mounted at /content/drive\n"
          ],
          "name": "stdout"
        }
      ]
    },
    {
      "cell_type": "code",
      "metadata": {
        "id": "dAnnu6lZNKKE"
      },
      "source": [
        "%cp /content/drive/MyDrive/CSVs/* ./"
      ],
      "execution_count": null,
      "outputs": []
    },
    {
      "cell_type": "code",
      "metadata": {
        "id": "2Shp_5CEgXC5"
      },
      "source": [
        "import pandas as pd\n",
        "import numpy as np\n",
        "from scipy import stats\n",
        "import matplotlib.pyplot as plt\n",
        "%matplotlib inline\n",
        "from statsmodels.graphics.tsaplots import plot_pacf,plot_acf\n",
        "from statsmodels.graphics.gofplots import qqplot"
      ],
      "execution_count": null,
      "outputs": []
    },
    {
      "cell_type": "code",
      "metadata": {
        "id": "mhSzo9Vr1TSP"
      },
      "source": [
        "from pandas_datareader import data as pdr\n",
        "from datetime import datetime"
      ],
      "execution_count": null,
      "outputs": []
    },
    {
      "cell_type": "code",
      "metadata": {
        "id": "BbrB17mPg_Eq"
      },
      "source": [
        "df = pd.read_csv('/content/Facebook_stock.csv')"
      ],
      "execution_count": 511,
      "outputs": []
    },
    {
      "cell_type": "code",
      "metadata": {
        "colab": {
          "base_uri": "https://localhost:8080/",
          "height": 204
        },
        "id": "qUhyts3DhtO9",
        "outputId": "950f2fde-c506-4b80-a281-0672b676042f"
      },
      "source": [
        "df.head()"
      ],
      "execution_count": 512,
      "outputs": [
        {
          "output_type": "execute_result",
          "data": {
            "text/html": [
              "<div>\n",
              "<style scoped>\n",
              "    .dataframe tbody tr th:only-of-type {\n",
              "        vertical-align: middle;\n",
              "    }\n",
              "\n",
              "    .dataframe tbody tr th {\n",
              "        vertical-align: top;\n",
              "    }\n",
              "\n",
              "    .dataframe thead th {\n",
              "        text-align: right;\n",
              "    }\n",
              "</style>\n",
              "<table border=\"1\" class=\"dataframe\">\n",
              "  <thead>\n",
              "    <tr style=\"text-align: right;\">\n",
              "      <th></th>\n",
              "      <th>Date</th>\n",
              "      <th>High</th>\n",
              "      <th>Low</th>\n",
              "      <th>Open</th>\n",
              "      <th>Close</th>\n",
              "      <th>Volume</th>\n",
              "      <th>Adj Close</th>\n",
              "    </tr>\n",
              "  </thead>\n",
              "  <tbody>\n",
              "    <tr>\n",
              "      <th>0</th>\n",
              "      <td>2018-12-31</td>\n",
              "      <td>134.639999</td>\n",
              "      <td>129.949997</td>\n",
              "      <td>134.449997</td>\n",
              "      <td>131.089996</td>\n",
              "      <td>24625300</td>\n",
              "      <td>131.089996</td>\n",
              "    </tr>\n",
              "    <tr>\n",
              "      <th>1</th>\n",
              "      <td>2019-01-02</td>\n",
              "      <td>137.509995</td>\n",
              "      <td>128.559998</td>\n",
              "      <td>128.990005</td>\n",
              "      <td>135.679993</td>\n",
              "      <td>28146200</td>\n",
              "      <td>135.679993</td>\n",
              "    </tr>\n",
              "    <tr>\n",
              "      <th>2</th>\n",
              "      <td>2019-01-03</td>\n",
              "      <td>137.169998</td>\n",
              "      <td>131.119995</td>\n",
              "      <td>134.690002</td>\n",
              "      <td>131.740005</td>\n",
              "      <td>22717900</td>\n",
              "      <td>131.740005</td>\n",
              "    </tr>\n",
              "    <tr>\n",
              "      <th>3</th>\n",
              "      <td>2019-01-04</td>\n",
              "      <td>138.000000</td>\n",
              "      <td>133.750000</td>\n",
              "      <td>134.009995</td>\n",
              "      <td>137.949997</td>\n",
              "      <td>29002100</td>\n",
              "      <td>137.949997</td>\n",
              "    </tr>\n",
              "    <tr>\n",
              "      <th>4</th>\n",
              "      <td>2019-01-07</td>\n",
              "      <td>138.869995</td>\n",
              "      <td>135.910004</td>\n",
              "      <td>137.559998</td>\n",
              "      <td>138.050003</td>\n",
              "      <td>20089300</td>\n",
              "      <td>138.050003</td>\n",
              "    </tr>\n",
              "  </tbody>\n",
              "</table>\n",
              "</div>"
            ],
            "text/plain": [
              "         Date        High         Low  ...       Close    Volume   Adj Close\n",
              "0  2018-12-31  134.639999  129.949997  ...  131.089996  24625300  131.089996\n",
              "1  2019-01-02  137.509995  128.559998  ...  135.679993  28146200  135.679993\n",
              "2  2019-01-03  137.169998  131.119995  ...  131.740005  22717900  131.740005\n",
              "3  2019-01-04  138.000000  133.750000  ...  137.949997  29002100  137.949997\n",
              "4  2019-01-07  138.869995  135.910004  ...  138.050003  20089300  138.050003\n",
              "\n",
              "[5 rows x 7 columns]"
            ]
          },
          "metadata": {
            "tags": []
          },
          "execution_count": 512
        }
      ]
    },
    {
      "cell_type": "code",
      "metadata": {
        "colab": {
          "base_uri": "https://localhost:8080/",
          "height": 204
        },
        "id": "yeJFr1OGRGYw",
        "outputId": "f5367492-b64a-406b-ec27-bc17d9fde0cc"
      },
      "source": [
        "df.tail()"
      ],
      "execution_count": 513,
      "outputs": [
        {
          "output_type": "execute_result",
          "data": {
            "text/html": [
              "<div>\n",
              "<style scoped>\n",
              "    .dataframe tbody tr th:only-of-type {\n",
              "        vertical-align: middle;\n",
              "    }\n",
              "\n",
              "    .dataframe tbody tr th {\n",
              "        vertical-align: top;\n",
              "    }\n",
              "\n",
              "    .dataframe thead th {\n",
              "        text-align: right;\n",
              "    }\n",
              "</style>\n",
              "<table border=\"1\" class=\"dataframe\">\n",
              "  <thead>\n",
              "    <tr style=\"text-align: right;\">\n",
              "      <th></th>\n",
              "      <th>Date</th>\n",
              "      <th>High</th>\n",
              "      <th>Low</th>\n",
              "      <th>Open</th>\n",
              "      <th>Close</th>\n",
              "      <th>Volume</th>\n",
              "      <th>Adj Close</th>\n",
              "    </tr>\n",
              "  </thead>\n",
              "  <tbody>\n",
              "    <tr>\n",
              "      <th>248</th>\n",
              "      <td>2019-12-24</td>\n",
              "      <td>206.789993</td>\n",
              "      <td>205.000000</td>\n",
              "      <td>206.300003</td>\n",
              "      <td>205.119995</td>\n",
              "      <td>6046300</td>\n",
              "      <td>205.119995</td>\n",
              "    </tr>\n",
              "    <tr>\n",
              "      <th>249</th>\n",
              "      <td>2019-12-26</td>\n",
              "      <td>207.820007</td>\n",
              "      <td>205.309998</td>\n",
              "      <td>205.570007</td>\n",
              "      <td>207.789993</td>\n",
              "      <td>9350700</td>\n",
              "      <td>207.789993</td>\n",
              "    </tr>\n",
              "    <tr>\n",
              "      <th>250</th>\n",
              "      <td>2019-12-27</td>\n",
              "      <td>208.929993</td>\n",
              "      <td>206.589996</td>\n",
              "      <td>208.669998</td>\n",
              "      <td>208.100006</td>\n",
              "      <td>10284200</td>\n",
              "      <td>208.100006</td>\n",
              "    </tr>\n",
              "    <tr>\n",
              "      <th>251</th>\n",
              "      <td>2019-12-30</td>\n",
              "      <td>207.899994</td>\n",
              "      <td>203.899994</td>\n",
              "      <td>207.860001</td>\n",
              "      <td>204.410004</td>\n",
              "      <td>10524300</td>\n",
              "      <td>204.410004</td>\n",
              "    </tr>\n",
              "    <tr>\n",
              "      <th>252</th>\n",
              "      <td>2019-12-31</td>\n",
              "      <td>205.559998</td>\n",
              "      <td>203.600006</td>\n",
              "      <td>204.000000</td>\n",
              "      <td>205.250000</td>\n",
              "      <td>8953500</td>\n",
              "      <td>205.250000</td>\n",
              "    </tr>\n",
              "  </tbody>\n",
              "</table>\n",
              "</div>"
            ],
            "text/plain": [
              "           Date        High         Low  ...       Close    Volume   Adj Close\n",
              "248  2019-12-24  206.789993  205.000000  ...  205.119995   6046300  205.119995\n",
              "249  2019-12-26  207.820007  205.309998  ...  207.789993   9350700  207.789993\n",
              "250  2019-12-27  208.929993  206.589996  ...  208.100006  10284200  208.100006\n",
              "251  2019-12-30  207.899994  203.899994  ...  204.410004  10524300  204.410004\n",
              "252  2019-12-31  205.559998  203.600006  ...  205.250000   8953500  205.250000\n",
              "\n",
              "[5 rows x 7 columns]"
            ]
          },
          "metadata": {
            "tags": []
          },
          "execution_count": 513
        }
      ]
    },
    {
      "cell_type": "markdown",
      "metadata": {
        "id": "IiRxDWtd-UBq"
      },
      "source": [
        "#Closing Price Analysis"
      ]
    },
    {
      "cell_type": "code",
      "metadata": {
        "colab": {
          "base_uri": "https://localhost:8080/"
        },
        "id": "IPPMNBe3h2ae",
        "outputId": "6e33b38d-e47a-483f-f2a9-7f88baaba72d"
      },
      "source": [
        "close = df['Close']\n",
        "print(close)"
      ],
      "execution_count": 514,
      "outputs": [
        {
          "output_type": "stream",
          "text": [
            "0      131.089996\n",
            "1      135.679993\n",
            "2      131.740005\n",
            "3      137.949997\n",
            "4      138.050003\n",
            "          ...    \n",
            "248    205.119995\n",
            "249    207.789993\n",
            "250    208.100006\n",
            "251    204.410004\n",
            "252    205.250000\n",
            "Name: Close, Length: 253, dtype: float64\n"
          ],
          "name": "stdout"
        }
      ]
    },
    {
      "cell_type": "code",
      "metadata": {
        "colab": {
          "base_uri": "https://localhost:8080/",
          "height": 265
        },
        "id": "HZEi2-_VE9OO",
        "outputId": "56c597ed-0e0d-4b7f-9d4b-d9edff4678c3"
      },
      "source": [
        "plt.hist(close,bins=\"rice\",label=\"Daily close price\")\n",
        "plt.legend()\n",
        "plt.show()"
      ],
      "execution_count": 515,
      "outputs": [
        {
          "output_type": "display_data",
          "data": {
            "image/png": "[encoded data removed]",
            "text/plain": [
              "<Figure size 432x288 with 1 Axes>"
            ]
          },
          "metadata": {
            "tags": [],
            "needs_background": "light"
          }
        }
      ]
    },
    {
      "cell_type": "code",
      "metadata": {
        "colab": {
          "base_uri": "https://localhost:8080/",
          "height": 265
        },
        "id": "no83EeQ9F5a0",
        "outputId": "079a6c7c-24e9-44bf-c4da-09939a728a8d"
      },
      "source": [
        "plt.boxplot(close,labels=[\"Daily close price\"])\n",
        "plt.show()"
      ],
      "execution_count": 516,
      "outputs": [
        {
          "output_type": "display_data",
          "data": {
            "image/png": "[encoded data removed]",
            "text/plain": [
              "<Figure size 432x288 with 1 Axes>"
            ]
          },
          "metadata": {
            "tags": [],
            "needs_background": "light"
          }
        }
      ]
    },
    {
      "cell_type": "code",
      "metadata": {
        "colab": {
          "base_uri": "https://localhost:8080/",
          "height": 279
        },
        "id": "f3ZjNoDTSHW6",
        "outputId": "46ab8741-82f8-43e2-f952-a9c00ff7e527"
      },
      "source": [
        "from statsmodels.graphics.gofplots import qqplot\n",
        "qqplot(close, line='s')\n",
        "plt.show()"
      ],
      "execution_count": 517,
      "outputs": [
        {
          "output_type": "display_data",
          "data": {
            "image/png": "[encoded data removed]",
            "text/plain": [
              "<Figure size 432x288 with 1 Axes>"
            ]
          },
          "metadata": {
            "tags": [],
            "needs_background": "light"
          }
        }
      ]
    },
    {
      "cell_type": "code",
      "metadata": {
        "colab": {
          "base_uri": "https://localhost:8080/"
        },
        "id": "XsnmEw04SnIs",
        "outputId": "49a03c33-6681-4301-b909-e578a0f3dee0"
      },
      "source": [
        "# Summary of stock price descriptive analysis\n",
        "print(\"Mean is: \", np.mean(close))\n",
        "print(\"Standard deviation is: \", np.std(close))\n",
        "print(\"Median is: \", np.quantile(close,0.5))\n",
        "print(\"Skewness of the distribution is: \", stats.skew(close))\n",
        "print(\"Skewtest of the distribution is: \", stats.skewtest(close))\n",
        "print(\"Kurtosis of the distributionn is: \", stats.kurtosis(close))\n",
        "print(\"Kurtosis test of the distribution is: \", stats.kurtosistest(close))"
      ],
      "execution_count": 518,
      "outputs": [
        {
          "output_type": "stream",
          "text": [
            "Mean is:  181.4377071094136\n",
            "Standard deviation is:  16.299855800829746\n",
            "Median is:  184.50999450683597\n",
            "Skewness of the distribution is:  -0.854742806853915\n",
            "Skewtest of the distribution is:  SkewtestResult(statistic=-5.025002529544916, pvalue=5.034259008415805e-07)\n",
            "Kurtosis of the distributionn is:  0.3965659664593\n",
            "Kurtosis test of the distribution is:  KurtosistestResult(statistic=1.350773516918725, pvalue=0.1767679939686544)\n"
          ],
          "name": "stdout"
        }
      ]
    },
    {
      "cell_type": "code",
      "metadata": {
        "colab": {
          "base_uri": "https://localhost:8080/",
          "height": 279
        },
        "id": "VolGoXiOWjyE",
        "outputId": "dca42485-ef16-4dd1-e1fb-1137d46d4769"
      },
      "source": [
        "## Checking for normal distribution\n",
        "t = np.linspace(0.01,0.99,1000)\n",
        "q1 = np.quantile(close,t)\n",
        "q2 = stats.norm.ppf(t,loc=np.mean(returns),scale=np.std(returns))\n",
        "plt.plot(q1,q2)\n",
        "plt.plot([min(q1),max(q1)],[min(q2),max(q2)])\n",
        "plt.xlim((min(q1),max(q1)))\n",
        "plt.ylim((min(q2),max(q2)))\n",
        "plt.xlabel(\"Daily returns\")\n",
        "plt.ylabel(\"Normal distribution\")\n",
        "plt.show()"
      ],
      "execution_count": 519,
      "outputs": [
        {
          "output_type": "display_data",
          "data": {
            "image/png": "[encoded data removed]",
            "text/plain": [
              "<Figure size 432x288 with 1 Axes>"
            ]
          },
          "metadata": {
            "tags": [],
            "needs_background": "light"
          }
        }
      ]
    },
    {
      "cell_type": "markdown",
      "metadata": {
        "id": "W6Kw7RoD9zyD"
      },
      "source": [
        "#**Stock Return Analysis**"
      ]
    },
    {
      "cell_type": "code",
      "metadata": {
        "colab": {
          "base_uri": "https://localhost:8080/"
        },
        "id": "T8ulxjvjEcWo",
        "outputId": "4dc1ccba-a815-4654-e7b7-8d1783c48f55"
      },
      "source": [
        "## Daily Return\n",
        "returns = close.pct_change(1).dropna()\n",
        "returns = returns * 100\n",
        "print(returns)"
      ],
      "execution_count": 520,
      "outputs": [
        {
          "output_type": "stream",
          "text": [
            "1      3.501409\n",
            "2     -2.903882\n",
            "3      4.713824\n",
            "4      0.072494\n",
            "5      3.245198\n",
            "         ...   \n",
            "248   -0.514113\n",
            "249    1.301676\n",
            "250    0.149195\n",
            "251   -1.773187\n",
            "252    0.410937\n",
            "Name: Close, Length: 252, dtype: float64\n"
          ],
          "name": "stdout"
        }
      ]
    },
    {
      "cell_type": "code",
      "metadata": {
        "colab": {
          "base_uri": "https://localhost:8080/",
          "height": 265
        },
        "id": "XwOAVHb4UE3X",
        "outputId": "e95354c8-891a-4479-cbb5-2f366b59aabe"
      },
      "source": [
        "plt.hist(returns, bins=\"rice\", label=\"Return\")\n",
        "plt.axvline(returns.mean(), color='darkorange')\n",
        "plt.axvline(returns.median(), color='red')\n",
        "plt.axvline(returns.mean() - 2*returns.std(), color='green')\n",
        "plt.axvline(returns.mean() + 2*returns.std(), color='green')\n",
        "\n",
        "plt.legend()\n",
        "plt.show()"
      ],
      "execution_count": 521,
      "outputs": [
        {
          "output_type": "display_data",
          "data": {
            "image/png": "[encoded data removed]",
            "text/plain": [
              "<Figure size 432x288 with 1 Axes>"
            ]
          },
          "metadata": {
            "tags": [],
            "needs_background": "light"
          }
        }
      ]
    },
    {
      "cell_type": "code",
      "metadata": {
        "colab": {
          "base_uri": "https://localhost:8080/",
          "height": 265
        },
        "id": "5mxD_GDtUFq1",
        "outputId": "dc0faa31-e4ee-4c37-c430-d2950edf5791"
      },
      "source": [
        "plt.boxplot(returns ,labels=[\"Return\"])\n",
        "plt.show()"
      ],
      "execution_count": 522,
      "outputs": [
        {
          "output_type": "display_data",
          "data": {
            "image/png": "[encoded data removed]",
            "text/plain": [
              "<Figure size 432x288 with 1 Axes>"
            ]
          },
          "metadata": {
            "tags": [],
            "needs_background": "light"
          }
        }
      ]
    },
    {
      "cell_type": "code",
      "metadata": {
        "colab": {
          "base_uri": "https://localhost:8080/",
          "height": 279
        },
        "id": "wJN4MeUtx_r5",
        "outputId": "de0486aa-8278-4502-871e-35db265f578b"
      },
      "source": [
        "from statsmodels.graphics.gofplots import qqplot\n",
        "qqplot(returns, line='s')\n",
        "plt.show()"
      ],
      "execution_count": 523,
      "outputs": [
        {
          "output_type": "display_data",
          "data": {
            "image/png": "[encoded data removed]",
            "text/plain": [
              "<Figure size 432x288 with 1 Axes>"
            ]
          },
          "metadata": {
            "tags": [],
            "needs_background": "light"
          }
        }
      ]
    },
    {
      "cell_type": "code",
      "metadata": {
        "colab": {
          "base_uri": "https://localhost:8080/"
        },
        "id": "dxk8p90GGAtL",
        "outputId": "3b28200b-0147-401c-8e95-71a216f9b248"
      },
      "source": [
        "# Summary of stock price descriptive analysis\n",
        "print(\"Mean is: \", np.mean(returns))\n",
        "print(\"Standard deviation is: \", np.std(returns))\n",
        "print(\"Median is: \", np.quantile(returns,0.5))\n",
        "print(\"Skewness of the distribution is: \", stats.skew(returns))\n",
        "print(\"Skewtest of the distribution is: \", stats.skewtest(returns))\n",
        "print(\"Kurtosis of the distributionn is: \", stats.kurtosis(returns))\n",
        "print(\"Kurtosis test of the distribution is: \", stats.kurtosistest(returns))"
      ],
      "execution_count": 524,
      "outputs": [
        {
          "output_type": "stream",
          "text": [
            "Mean is:  0.19331269999856776\n",
            "Standard deviation is:  1.752615007884313\n",
            "Median is:  0.10256425204406838\n",
            "Skewness of the distribution is:  0.6066155840876527\n",
            "Skewtest of the distribution is:  SkewtestResult(statistic=3.760033371589946, pvalue=0.00016989069235316068)\n",
            "Kurtosis of the distributionn is:  6.165784944489916\n",
            "Kurtosis test of the distribution is:  KurtosistestResult(statistic=6.4403503139348155, pvalue=1.191980602739184e-10)\n"
          ],
          "name": "stdout"
        }
      ]
    },
    {
      "cell_type": "code",
      "metadata": {
        "colab": {
          "base_uri": "https://localhost:8080/",
          "height": 279
        },
        "id": "ebIg4_pNKQ0K",
        "outputId": "a85b9fdc-1b50-4b15-ed24-c5e5b7ccfbc9"
      },
      "source": [
        "## Checking for normal distribution\n",
        "t = np.linspace(0.01,0.99,1000)\n",
        "q1 = np.quantile(returns,t)\n",
        "q2 = stats.norm.ppf(t,loc=np.mean(returns),scale=np.std(returns))\n",
        "plt.plot(q1,q2)\n",
        "plt.plot([min(q1),max(q1)],[min(q2),max(q2)])\n",
        "plt.xlim((min(q1),max(q1)))\n",
        "plt.ylim((min(q2),max(q2)))\n",
        "plt.xlabel(\"Daily returns\")\n",
        "plt.ylabel(\"Normal distribution\")\n",
        "plt.show()"
      ],
      "execution_count": 525,
      "outputs": [
        {
          "output_type": "display_data",
          "data": {
            "image/png": "[encoded data removed]",
            "text/plain": [
              "<Figure size 432x288 with 1 Axes>"
            ]
          },
          "metadata": {
            "tags": [],
            "needs_background": "light"
          }
        }
      ]
    }
  ]
}