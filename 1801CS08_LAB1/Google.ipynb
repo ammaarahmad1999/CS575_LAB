{
  "nbformat": 4,
  "nbformat_minor": 0,
  "metadata": {
    "colab": {
      "name": "Google.ipynb",
      "provenance": [],
      "collapsed_sections": []
    },
    "kernelspec": {
      "name": "python3",
      "display_name": "Python 3"
    },
    "language_info": {
      "name": "python"
    }
  },
  "cells": [
    {
      "cell_type": "code",
      "metadata": {
        "colab": {
          "base_uri": "https://localhost:8080/"
        },
        "id": "WAfQPRFxM8Gf",
        "outputId": "6d54ad02-8758-4494-84b1-3cb7f8f3de9e"
      },
      "source": [
        "from google.colab import drive\n",
        "drive.mount('/content/drive')"
      ],
      "execution_count": null,
      "outputs": [
        {
          "output_type": "stream",
          "text": [
            "Mounted at /content/drive\n"
          ],
          "name": "stdout"
        }
      ]
    },
    {
      "cell_type": "code",
      "metadata": {
        "id": "dAnnu6lZNKKE"
      },
      "source": [
        "%cp /content/drive/MyDrive/CSVs/* ./"
      ],
      "execution_count": null,
      "outputs": []
    },
    {
      "cell_type": "code",
      "metadata": {
        "id": "2Shp_5CEgXC5"
      },
      "source": [
        "import pandas as pd\n",
        "import numpy as np\n",
        "from scipy import stats\n",
        "import matplotlib.pyplot as plt\n",
        "%matplotlib inline\n",
        "from statsmodels.graphics.tsaplots import plot_pacf,plot_acf\n",
        "from statsmodels.graphics.gofplots import qqplot"
      ],
      "execution_count": null,
      "outputs": []
    },
    {
      "cell_type": "code",
      "metadata": {
        "id": "mhSzo9Vr1TSP"
      },
      "source": [
        "from pandas_datareader import data as pdr\n",
        "from datetime import datetime"
      ],
      "execution_count": null,
      "outputs": []
    },
    {
      "cell_type": "code",
      "metadata": {
        "id": "BbrB17mPg_Eq"
      },
      "source": [
        "df = pd.read_csv('/content/Google_stock.csv')"
      ],
      "execution_count": 496,
      "outputs": []
    },
    {
      "cell_type": "code",
      "metadata": {
        "colab": {
          "base_uri": "https://localhost:8080/",
          "height": 204
        },
        "id": "qUhyts3DhtO9",
        "outputId": "bcb0c201-9191-4497-f990-433d3c2d17e8"
      },
      "source": [
        "df.head()"
      ],
      "execution_count": 497,
      "outputs": [
        {
          "output_type": "execute_result",
          "data": {
            "text/html": [
              "<div>\n",
              "<style scoped>\n",
              "    .dataframe tbody tr th:only-of-type {\n",
              "        vertical-align: middle;\n",
              "    }\n",
              "\n",
              "    .dataframe tbody tr th {\n",
              "        vertical-align: top;\n",
              "    }\n",
              "\n",
              "    .dataframe thead th {\n",
              "        text-align: right;\n",
              "    }\n",
              "</style>\n",
              "<table border=\"1\" class=\"dataframe\">\n",
              "  <thead>\n",
              "    <tr style=\"text-align: right;\">\n",
              "      <th></th>\n",
              "      <th>Date</th>\n",
              "      <th>High</th>\n",
              "      <th>Low</th>\n",
              "      <th>Open</th>\n",
              "      <th>Close</th>\n",
              "      <th>Volume</th>\n",
              "      <th>Adj Close</th>\n",
              "    </tr>\n",
              "  </thead>\n",
              "  <tbody>\n",
              "    <tr>\n",
              "      <th>0</th>\n",
              "      <td>2018-12-31</td>\n",
              "      <td>1062.989990</td>\n",
              "      <td>1033.040039</td>\n",
              "      <td>1057.829956</td>\n",
              "      <td>1044.959961</td>\n",
              "      <td>1655500</td>\n",
              "      <td>1044.959961</td>\n",
              "    </tr>\n",
              "    <tr>\n",
              "      <th>1</th>\n",
              "      <td>2019-01-02</td>\n",
              "      <td>1060.790039</td>\n",
              "      <td>1025.280029</td>\n",
              "      <td>1027.199951</td>\n",
              "      <td>1054.680054</td>\n",
              "      <td>1593400</td>\n",
              "      <td>1054.680054</td>\n",
              "    </tr>\n",
              "    <tr>\n",
              "      <th>2</th>\n",
              "      <td>2019-01-03</td>\n",
              "      <td>1066.260010</td>\n",
              "      <td>1022.369995</td>\n",
              "      <td>1050.670044</td>\n",
              "      <td>1025.469971</td>\n",
              "      <td>2098000</td>\n",
              "      <td>1025.469971</td>\n",
              "    </tr>\n",
              "    <tr>\n",
              "      <th>3</th>\n",
              "      <td>2019-01-04</td>\n",
              "      <td>1080.000000</td>\n",
              "      <td>1036.859985</td>\n",
              "      <td>1042.560059</td>\n",
              "      <td>1078.069946</td>\n",
              "      <td>2301100</td>\n",
              "      <td>1078.069946</td>\n",
              "    </tr>\n",
              "    <tr>\n",
              "      <th>4</th>\n",
              "      <td>2019-01-07</td>\n",
              "      <td>1082.699951</td>\n",
              "      <td>1062.640015</td>\n",
              "      <td>1080.969971</td>\n",
              "      <td>1075.920044</td>\n",
              "      <td>2372300</td>\n",
              "      <td>1075.920044</td>\n",
              "    </tr>\n",
              "  </tbody>\n",
              "</table>\n",
              "</div>"
            ],
            "text/plain": [
              "         Date         High          Low  ...        Close   Volume    Adj Close\n",
              "0  2018-12-31  1062.989990  1033.040039  ...  1044.959961  1655500  1044.959961\n",
              "1  2019-01-02  1060.790039  1025.280029  ...  1054.680054  1593400  1054.680054\n",
              "2  2019-01-03  1066.260010  1022.369995  ...  1025.469971  2098000  1025.469971\n",
              "3  2019-01-04  1080.000000  1036.859985  ...  1078.069946  2301100  1078.069946\n",
              "4  2019-01-07  1082.699951  1062.640015  ...  1075.920044  2372300  1075.920044\n",
              "\n",
              "[5 rows x 7 columns]"
            ]
          },
          "metadata": {
            "tags": []
          },
          "execution_count": 497
        }
      ]
    },
    {
      "cell_type": "code",
      "metadata": {
        "colab": {
          "base_uri": "https://localhost:8080/",
          "height": 204
        },
        "id": "yeJFr1OGRGYw",
        "outputId": "3b8673a9-e6c5-4f56-c9f8-e62926d4e705"
      },
      "source": [
        "df.tail()"
      ],
      "execution_count": 498,
      "outputs": [
        {
          "output_type": "execute_result",
          "data": {
            "text/html": [
              "<div>\n",
              "<style scoped>\n",
              "    .dataframe tbody tr th:only-of-type {\n",
              "        vertical-align: middle;\n",
              "    }\n",
              "\n",
              "    .dataframe tbody tr th {\n",
              "        vertical-align: top;\n",
              "    }\n",
              "\n",
              "    .dataframe thead th {\n",
              "        text-align: right;\n",
              "    }\n",
              "</style>\n",
              "<table border=\"1\" class=\"dataframe\">\n",
              "  <thead>\n",
              "    <tr style=\"text-align: right;\">\n",
              "      <th></th>\n",
              "      <th>Date</th>\n",
              "      <th>High</th>\n",
              "      <th>Low</th>\n",
              "      <th>Open</th>\n",
              "      <th>Close</th>\n",
              "      <th>Volume</th>\n",
              "      <th>Adj Close</th>\n",
              "    </tr>\n",
              "  </thead>\n",
              "  <tbody>\n",
              "    <tr>\n",
              "      <th>248</th>\n",
              "      <td>2019-12-24</td>\n",
              "      <td>1352.010010</td>\n",
              "      <td>1344.170044</td>\n",
              "      <td>1350.209961</td>\n",
              "      <td>1344.430054</td>\n",
              "      <td>673400</td>\n",
              "      <td>1344.430054</td>\n",
              "    </tr>\n",
              "    <tr>\n",
              "      <th>249</th>\n",
              "      <td>2019-12-26</td>\n",
              "      <td>1363.199951</td>\n",
              "      <td>1345.510010</td>\n",
              "      <td>1346.550049</td>\n",
              "      <td>1362.469971</td>\n",
              "      <td>1183100</td>\n",
              "      <td>1362.469971</td>\n",
              "    </tr>\n",
              "    <tr>\n",
              "      <th>250</th>\n",
              "      <td>2019-12-27</td>\n",
              "      <td>1367.050049</td>\n",
              "      <td>1353.000000</td>\n",
              "      <td>1364.000000</td>\n",
              "      <td>1354.640015</td>\n",
              "      <td>1160600</td>\n",
              "      <td>1354.640015</td>\n",
              "    </tr>\n",
              "    <tr>\n",
              "      <th>251</th>\n",
              "      <td>2019-12-30</td>\n",
              "      <td>1357.000000</td>\n",
              "      <td>1337.839966</td>\n",
              "      <td>1356.810059</td>\n",
              "      <td>1339.709961</td>\n",
              "      <td>999700</td>\n",
              "      <td>1339.709961</td>\n",
              "    </tr>\n",
              "    <tr>\n",
              "      <th>252</th>\n",
              "      <td>2019-12-31</td>\n",
              "      <td>1340.660034</td>\n",
              "      <td>1332.130005</td>\n",
              "      <td>1335.790039</td>\n",
              "      <td>1339.390015</td>\n",
              "      <td>975700</td>\n",
              "      <td>1339.390015</td>\n",
              "    </tr>\n",
              "  </tbody>\n",
              "</table>\n",
              "</div>"
            ],
            "text/plain": [
              "           Date         High          Low  ...        Close   Volume    Adj Close\n",
              "248  2019-12-24  1352.010010  1344.170044  ...  1344.430054   673400  1344.430054\n",
              "249  2019-12-26  1363.199951  1345.510010  ...  1362.469971  1183100  1362.469971\n",
              "250  2019-12-27  1367.050049  1353.000000  ...  1354.640015  1160600  1354.640015\n",
              "251  2019-12-30  1357.000000  1337.839966  ...  1339.709961   999700  1339.709961\n",
              "252  2019-12-31  1340.660034  1332.130005  ...  1339.390015   975700  1339.390015\n",
              "\n",
              "[5 rows x 7 columns]"
            ]
          },
          "metadata": {
            "tags": []
          },
          "execution_count": 498
        }
      ]
    },
    {
      "cell_type": "markdown",
      "metadata": {
        "id": "IiRxDWtd-UBq"
      },
      "source": [
        "#Closing Price Analysis"
      ]
    },
    {
      "cell_type": "code",
      "metadata": {
        "colab": {
          "base_uri": "https://localhost:8080/"
        },
        "id": "IPPMNBe3h2ae",
        "outputId": "dbaf68ad-5fd7-423e-be9e-a90efdcb2b90"
      },
      "source": [
        "close = df['Close']\n",
        "print(close)"
      ],
      "execution_count": 499,
      "outputs": [
        {
          "output_type": "stream",
          "text": [
            "0      1044.959961\n",
            "1      1054.680054\n",
            "2      1025.469971\n",
            "3      1078.069946\n",
            "4      1075.920044\n",
            "          ...     \n",
            "248    1344.430054\n",
            "249    1362.469971\n",
            "250    1354.640015\n",
            "251    1339.709961\n",
            "252    1339.390015\n",
            "Name: Close, Length: 253, dtype: float64\n"
          ],
          "name": "stdout"
        }
      ]
    },
    {
      "cell_type": "code",
      "metadata": {
        "colab": {
          "base_uri": "https://localhost:8080/",
          "height": 265
        },
        "id": "HZEi2-_VE9OO",
        "outputId": "fcdf185c-4afc-4ef3-e2e2-a20f556f5e17"
      },
      "source": [
        "plt.hist(close,bins=\"rice\",label=\"Daily close price\")\n",
        "plt.legend()\n",
        "plt.show()"
      ],
      "execution_count": 500,
      "outputs": [
        {
          "output_type": "display_data",
          "data": {
            "image/png": "[encoded data removed]",
            "text/plain": [
              "<Figure size 432x288 with 1 Axes>"
            ]
          },
          "metadata": {
            "tags": [],
            "needs_background": "light"
          }
        }
      ]
    },
    {
      "cell_type": "code",
      "metadata": {
        "colab": {
          "base_uri": "https://localhost:8080/",
          "height": 265
        },
        "id": "no83EeQ9F5a0",
        "outputId": "a73385de-0771-4401-d71f-501c0c209f64"
      },
      "source": [
        "plt.boxplot(close,labels=[\"Daily close price\"])\n",
        "plt.show()"
      ],
      "execution_count": 501,
      "outputs": [
        {
          "output_type": "display_data",
          "data": {
            "image/png": "[encoded data removed]",
            "text/plain": [
              "<Figure size 432x288 with 1 Axes>"
            ]
          },
          "metadata": {
            "tags": [],
            "needs_background": "light"
          }
        }
      ]
    },
    {
      "cell_type": "code",
      "metadata": {
        "colab": {
          "base_uri": "https://localhost:8080/",
          "height": 279
        },
        "id": "f3ZjNoDTSHW6",
        "outputId": "1e6f08c9-550f-4e87-ff72-c17d7313b485"
      },
      "source": [
        "from statsmodels.graphics.gofplots import qqplot\n",
        "qqplot(close, line='s')\n",
        "plt.show()"
      ],
      "execution_count": 502,
      "outputs": [
        {
          "output_type": "display_data",
          "data": {
            "image/png": "[encoded data removed]",
            "text/plain": [
              "<Figure size 432x288 with 1 Axes>"
            ]
          },
          "metadata": {
            "tags": [],
            "needs_background": "light"
          }
        }
      ]
    },
    {
      "cell_type": "code",
      "metadata": {
        "colab": {
          "base_uri": "https://localhost:8080/"
        },
        "id": "XsnmEw04SnIs",
        "outputId": "75336ffe-858d-47bc-c69d-a17aaa88b0b0"
      },
      "source": [
        "# Summary of stock price descriptive analysis\n",
        "print(\"Mean is: \", np.mean(close))\n",
        "print(\"Standard deviation is: \", np.std(close))\n",
        "print(\"Median is: \", np.quantile(close,0.5))\n",
        "print(\"Skewness of the distribution is: \", stats.skew(close))\n",
        "print(\"Skewtest of the distribution is: \", stats.skewtest(close))\n",
        "print(\"Kurtosis of the distributionn is: \", stats.kurtosis(close))\n",
        "print(\"Kurtosis test of the distribution is: \", stats.kurtosistest(close))"
      ],
      "execution_count": 503,
      "outputs": [
        {
          "output_type": "stream",
          "text": [
            "Mean is:  1190.6388508792922\n",
            "Standard deviation is:  80.00346720750319\n",
            "Median is:  1189.4300537109375\n",
            "Skewness of the distribution is:  0.29059016508890034\n",
            "Skewtest of the distribution is:  SkewtestResult(statistic=1.9035975334732333, pvalue=0.056962620305662556)\n",
            "Kurtosis of the distributionn is:  -0.6545965059562242\n",
            "Kurtosis test of the distribution is:  KurtosistestResult(statistic=-3.0207826239989437, pvalue=0.002521222909454044)\n"
          ],
          "name": "stdout"
        }
      ]
    },
    {
      "cell_type": "code",
      "metadata": {
        "colab": {
          "base_uri": "https://localhost:8080/",
          "height": 280
        },
        "id": "VolGoXiOWjyE",
        "outputId": "07315e04-192a-424f-ed4f-0c77e22cc365"
      },
      "source": [
        "## Checking for normal distribution\n",
        "t = np.linspace(0.01,0.99,1000)\n",
        "q1 = np.quantile(close,t)\n",
        "q2 = stats.norm.ppf(t,loc=np.mean(returns),scale=np.std(returns))\n",
        "plt.plot(q1,q2)\n",
        "plt.plot([min(q1),max(q1)],[min(q2),max(q2)])\n",
        "plt.xlim((min(q1),max(q1)))\n",
        "plt.ylim((min(q2),max(q2)))\n",
        "plt.xlabel(\"Daily returns\")\n",
        "plt.ylabel(\"Normal distribution\")\n",
        "plt.show()"
      ],
      "execution_count": 504,
      "outputs": [
        {
          "output_type": "display_data",
          "data": {
            "image/png": "[encoded data removed]",
            "text/plain": [
              "<Figure size 432x288 with 1 Axes>"
            ]
          },
          "metadata": {
            "tags": [],
            "needs_background": "light"
          }
        }
      ]
    },
    {
      "cell_type": "markdown",
      "metadata": {
        "id": "W6Kw7RoD9zyD"
      },
      "source": [
        "#**Stock Return Analysis**"
      ]
    },
    {
      "cell_type": "code",
      "metadata": {
        "colab": {
          "base_uri": "https://localhost:8080/"
        },
        "id": "T8ulxjvjEcWo",
        "outputId": "739e82ec-5571-429b-aa83-480021d65d6f"
      },
      "source": [
        "## Daily Return\n",
        "returns = close.pct_change(1).dropna()\n",
        "returns = returns * 100\n",
        "print(returns)"
      ],
      "execution_count": 505,
      "outputs": [
        {
          "output_type": "stream",
          "text": [
            "1      0.930188\n",
            "2     -2.769568\n",
            "3      5.129353\n",
            "4     -0.199421\n",
            "5      0.878314\n",
            "         ...   \n",
            "248   -0.459041\n",
            "249    1.341826\n",
            "250   -0.574688\n",
            "251   -1.102142\n",
            "252   -0.023882\n",
            "Name: Close, Length: 252, dtype: float64\n"
          ],
          "name": "stdout"
        }
      ]
    },
    {
      "cell_type": "code",
      "metadata": {
        "colab": {
          "base_uri": "https://localhost:8080/",
          "height": 265
        },
        "id": "XwOAVHb4UE3X",
        "outputId": "c21c6e25-7bbd-4a2d-9a32-d80f61e24059"
      },
      "source": [
        "plt.hist(returns, bins=\"rice\", label=\"Return\")\n",
        "plt.axvline(returns.mean(), color='darkorange')\n",
        "plt.axvline(returns.median(), color='red')\n",
        "plt.axvline(returns.mean() - 2*returns.std(), color='green')\n",
        "plt.axvline(returns.mean() + 2*returns.std(), color='green')\n",
        "\n",
        "plt.legend()\n",
        "plt.show()"
      ],
      "execution_count": 506,
      "outputs": [
        {
          "output_type": "display_data",
          "data": {
            "image/png": "[encoded data removed]",
            "text/plain": [
              "<Figure size 432x288 with 1 Axes>"
            ]
          },
          "metadata": {
            "tags": [],
            "needs_background": "light"
          }
        }
      ]
    },
    {
      "cell_type": "code",
      "metadata": {
        "colab": {
          "base_uri": "https://localhost:8080/",
          "height": 265
        },
        "id": "5mxD_GDtUFq1",
        "outputId": "a72c34eb-bbbc-4656-c621-e22c151ebc6c"
      },
      "source": [
        "plt.boxplot(returns ,labels=[\"Return\"])\n",
        "plt.show()"
      ],
      "execution_count": 507,
      "outputs": [
        {
          "output_type": "display_data",
          "data": {
            "image/png": "[encoded data removed]",
            "text/plain": [
              "<Figure size 432x288 with 1 Axes>"
            ]
          },
          "metadata": {
            "tags": [],
            "needs_background": "light"
          }
        }
      ]
    },
    {
      "cell_type": "code",
      "metadata": {
        "colab": {
          "base_uri": "https://localhost:8080/",
          "height": 279
        },
        "id": "wJN4MeUtx_r5",
        "outputId": "7553e520-c6be-4705-cbb7-d6ec3d96496f"
      },
      "source": [
        "from statsmodels.graphics.gofplots import qqplot\n",
        "qqplot(returns, line='s')\n",
        "plt.show()"
      ],
      "execution_count": 508,
      "outputs": [
        {
          "output_type": "display_data",
          "data": {
            "image/png": "[encoded data removed]",
            "text/plain": [
              "<Figure size 432x288 with 1 Axes>"
            ]
          },
          "metadata": {
            "tags": [],
            "needs_background": "light"
          }
        }
      ]
    },
    {
      "cell_type": "code",
      "metadata": {
        "colab": {
          "base_uri": "https://localhost:8080/"
        },
        "id": "dxk8p90GGAtL",
        "outputId": "f368bc74-f1f8-4c4a-8cd9-3cc6180d754c"
      },
      "source": [
        "# Summary of stock price descriptive analysis\n",
        "print(\"Mean is: \", np.mean(returns))\n",
        "print(\"Standard deviation is: \", np.std(returns))\n",
        "print(\"Median is: \", np.quantile(returns,0.5))\n",
        "print(\"Skewness of the distribution is: \", stats.skew(returns))\n",
        "print(\"Skewtest of the distribution is: \", stats.skewtest(returns))\n",
        "print(\"Kurtosis of the distributionn is: \", stats.kurtosis(returns))\n",
        "print(\"Kurtosis test of the distribution is: \", stats.kurtosistest(returns))"
      ],
      "execution_count": 509,
      "outputs": [
        {
          "output_type": "stream",
          "text": [
            "Mean is:  0.10962322799682747\n",
            "Standard deviation is:  1.490020849242543\n",
            "Median is:  0.08828280592479976\n",
            "Skewness of the distribution is:  0.3138207931435499\n",
            "Skewtest of the distribution is:  SkewtestResult(statistic=2.0458841345431784, pvalue=0.04076777164885959)\n",
            "Kurtosis of the distributionn is:  9.40531667648051\n",
            "Kurtosis test of the distribution is:  KurtosistestResult(statistic=7.381680334517604, pvalue=1.563041170552381e-13)\n"
          ],
          "name": "stdout"
        }
      ]
    },
    {
      "cell_type": "code",
      "metadata": {
        "colab": {
          "base_uri": "https://localhost:8080/",
          "height": 279
        },
        "id": "ebIg4_pNKQ0K",
        "outputId": "920f6b5f-266a-4990-c3ba-3065fec4c587"
      },
      "source": [
        "## Checking for normal distribution\n",
        "t = np.linspace(0.01,0.99,1000)\n",
        "q1 = np.quantile(returns,t)\n",
        "q2 = stats.norm.ppf(t,loc=np.mean(returns),scale=np.std(returns))\n",
        "plt.plot(q1,q2)\n",
        "plt.plot([min(q1),max(q1)],[min(q2),max(q2)])\n",
        "plt.xlim((min(q1),max(q1)))\n",
        "plt.ylim((min(q2),max(q2)))\n",
        "plt.xlabel(\"Daily returns\")\n",
        "plt.ylabel(\"Normal distribution\")\n",
        "plt.show()"
      ],
      "execution_count": 510,
      "outputs": [
        {
          "output_type": "display_data",
          "data": {
            "image/png": "[encoded data removed]",
            "text/plain": [
              "<Figure size 432x288 with 1 Axes>"
            ]
          },
          "metadata": {
            "tags": [],
            "needs_background": "light"
          }
        }
      ]
    }
  ]
}