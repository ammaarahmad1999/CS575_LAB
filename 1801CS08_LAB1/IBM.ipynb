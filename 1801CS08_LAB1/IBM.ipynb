{
  "nbformat": 4,
  "nbformat_minor": 0,
  "metadata": {
    "colab": {
      "name": "IBM.ipynb",
      "provenance": [],
      "collapsed_sections": []
    },
    "kernelspec": {
      "name": "python3",
      "display_name": "Python 3"
    },
    "language_info": {
      "name": "python"
    }
  },
  "cells": [
    {
      "cell_type": "code",
      "metadata": {
        "colab": {
          "base_uri": "https://localhost:8080/"
        },
        "id": "WAfQPRFxM8Gf",
        "outputId": "6d54ad02-8758-4494-84b1-3cb7f8f3de9e"
      },
      "source": [
        "from google.colab import drive\n",
        "drive.mount('/content/drive')"
      ],
      "execution_count": null,
      "outputs": [
        {
          "output_type": "stream",
          "text": [
            "Mounted at /content/drive\n"
          ],
          "name": "stdout"
        }
      ]
    },
    {
      "cell_type": "code",
      "metadata": {
        "id": "dAnnu6lZNKKE"
      },
      "source": [
        "%cp /content/drive/MyDrive/CSVs/* ./"
      ],
      "execution_count": null,
      "outputs": []
    },
    {
      "cell_type": "code",
      "metadata": {
        "id": "2Shp_5CEgXC5"
      },
      "source": [
        "import pandas as pd\n",
        "import numpy as np\n",
        "from scipy import stats\n",
        "import matplotlib.pyplot as plt\n",
        "%matplotlib inline\n",
        "from statsmodels.graphics.tsaplots import plot_pacf,plot_acf\n",
        "from statsmodels.graphics.gofplots import qqplot"
      ],
      "execution_count": null,
      "outputs": []
    },
    {
      "cell_type": "code",
      "metadata": {
        "id": "mhSzo9Vr1TSP"
      },
      "source": [
        "from pandas_datareader import data as pdr\n",
        "from datetime import datetime"
      ],
      "execution_count": null,
      "outputs": []
    },
    {
      "cell_type": "code",
      "metadata": {
        "id": "BbrB17mPg_Eq"
      },
      "source": [
        "df = pd.read_csv('/content/IBM_stock.csv')"
      ],
      "execution_count": 481,
      "outputs": []
    },
    {
      "cell_type": "code",
      "metadata": {
        "colab": {
          "base_uri": "https://localhost:8080/",
          "height": 204
        },
        "id": "qUhyts3DhtO9",
        "outputId": "16f7fbf0-4ee8-4f35-ebbc-e1682c9b0341"
      },
      "source": [
        "df.head()"
      ],
      "execution_count": 482,
      "outputs": [
        {
          "output_type": "execute_result",
          "data": {
            "text/html": [
              "<div>\n",
              "<style scoped>\n",
              "    .dataframe tbody tr th:only-of-type {\n",
              "        vertical-align: middle;\n",
              "    }\n",
              "\n",
              "    .dataframe tbody tr th {\n",
              "        vertical-align: top;\n",
              "    }\n",
              "\n",
              "    .dataframe thead th {\n",
              "        text-align: right;\n",
              "    }\n",
              "</style>\n",
              "<table border=\"1\" class=\"dataframe\">\n",
              "  <thead>\n",
              "    <tr style=\"text-align: right;\">\n",
              "      <th></th>\n",
              "      <th>Date</th>\n",
              "      <th>High</th>\n",
              "      <th>Low</th>\n",
              "      <th>Open</th>\n",
              "      <th>Close</th>\n",
              "      <th>Volume</th>\n",
              "      <th>Adj Close</th>\n",
              "    </tr>\n",
              "  </thead>\n",
              "  <tbody>\n",
              "    <tr>\n",
              "      <th>0</th>\n",
              "      <td>2018-12-31</td>\n",
              "      <td>114.349998</td>\n",
              "      <td>112.419998</td>\n",
              "      <td>113.330002</td>\n",
              "      <td>113.669998</td>\n",
              "      <td>4982800.0</td>\n",
              "      <td>99.434967</td>\n",
              "    </tr>\n",
              "    <tr>\n",
              "      <th>1</th>\n",
              "      <td>2019-01-02</td>\n",
              "      <td>115.980003</td>\n",
              "      <td>111.690002</td>\n",
              "      <td>112.010002</td>\n",
              "      <td>115.209999</td>\n",
              "      <td>4239900.0</td>\n",
              "      <td>100.782135</td>\n",
              "    </tr>\n",
              "    <tr>\n",
              "      <th>2</th>\n",
              "      <td>2019-01-03</td>\n",
              "      <td>114.879997</td>\n",
              "      <td>112.690002</td>\n",
              "      <td>114.529999</td>\n",
              "      <td>112.910004</td>\n",
              "      <td>4346700.0</td>\n",
              "      <td>98.770157</td>\n",
              "    </tr>\n",
              "    <tr>\n",
              "      <th>3</th>\n",
              "      <td>2019-01-04</td>\n",
              "      <td>117.489998</td>\n",
              "      <td>114.440002</td>\n",
              "      <td>114.910004</td>\n",
              "      <td>117.320000</td>\n",
              "      <td>4477800.0</td>\n",
              "      <td>102.627876</td>\n",
              "    </tr>\n",
              "    <tr>\n",
              "      <th>4</th>\n",
              "      <td>2019-01-07</td>\n",
              "      <td>118.830002</td>\n",
              "      <td>116.669998</td>\n",
              "      <td>117.500000</td>\n",
              "      <td>118.150002</td>\n",
              "      <td>3751200.0</td>\n",
              "      <td>103.353943</td>\n",
              "    </tr>\n",
              "  </tbody>\n",
              "</table>\n",
              "</div>"
            ],
            "text/plain": [
              "         Date        High         Low  ...       Close     Volume   Adj Close\n",
              "0  2018-12-31  114.349998  112.419998  ...  113.669998  4982800.0   99.434967\n",
              "1  2019-01-02  115.980003  111.690002  ...  115.209999  4239900.0  100.782135\n",
              "2  2019-01-03  114.879997  112.690002  ...  112.910004  4346700.0   98.770157\n",
              "3  2019-01-04  117.489998  114.440002  ...  117.320000  4477800.0  102.627876\n",
              "4  2019-01-07  118.830002  116.669998  ...  118.150002  3751200.0  103.353943\n",
              "\n",
              "[5 rows x 7 columns]"
            ]
          },
          "metadata": {
            "tags": []
          },
          "execution_count": 482
        }
      ]
    },
    {
      "cell_type": "code",
      "metadata": {
        "colab": {
          "base_uri": "https://localhost:8080/",
          "height": 204
        },
        "id": "yeJFr1OGRGYw",
        "outputId": "19aee8a7-b51c-4138-ec94-ae804187f2e1"
      },
      "source": [
        "df.tail()"
      ],
      "execution_count": 483,
      "outputs": [
        {
          "output_type": "execute_result",
          "data": {
            "text/html": [
              "<div>\n",
              "<style scoped>\n",
              "    .dataframe tbody tr th:only-of-type {\n",
              "        vertical-align: middle;\n",
              "    }\n",
              "\n",
              "    .dataframe tbody tr th {\n",
              "        vertical-align: top;\n",
              "    }\n",
              "\n",
              "    .dataframe thead th {\n",
              "        text-align: right;\n",
              "    }\n",
              "</style>\n",
              "<table border=\"1\" class=\"dataframe\">\n",
              "  <thead>\n",
              "    <tr style=\"text-align: right;\">\n",
              "      <th></th>\n",
              "      <th>Date</th>\n",
              "      <th>High</th>\n",
              "      <th>Low</th>\n",
              "      <th>Open</th>\n",
              "      <th>Close</th>\n",
              "      <th>Volume</th>\n",
              "      <th>Adj Close</th>\n",
              "    </tr>\n",
              "  </thead>\n",
              "  <tbody>\n",
              "    <tr>\n",
              "      <th>248</th>\n",
              "      <td>2019-12-24</td>\n",
              "      <td>135.619995</td>\n",
              "      <td>134.610001</td>\n",
              "      <td>135.610001</td>\n",
              "      <td>134.979996</td>\n",
              "      <td>1202100.0</td>\n",
              "      <td>123.739563</td>\n",
              "    </tr>\n",
              "    <tr>\n",
              "      <th>249</th>\n",
              "      <td>2019-12-26</td>\n",
              "      <td>135.309998</td>\n",
              "      <td>134.649994</td>\n",
              "      <td>134.979996</td>\n",
              "      <td>134.910004</td>\n",
              "      <td>2129700.0</td>\n",
              "      <td>123.675400</td>\n",
              "    </tr>\n",
              "    <tr>\n",
              "      <th>250</th>\n",
              "      <td>2019-12-27</td>\n",
              "      <td>135.750000</td>\n",
              "      <td>134.869995</td>\n",
              "      <td>135.000000</td>\n",
              "      <td>135.270004</td>\n",
              "      <td>2752200.0</td>\n",
              "      <td>124.005402</td>\n",
              "    </tr>\n",
              "    <tr>\n",
              "      <th>251</th>\n",
              "      <td>2019-12-30</td>\n",
              "      <td>135.300003</td>\n",
              "      <td>132.500000</td>\n",
              "      <td>135.199997</td>\n",
              "      <td>132.809998</td>\n",
              "      <td>4118900.0</td>\n",
              "      <td>121.750267</td>\n",
              "    </tr>\n",
              "    <tr>\n",
              "      <th>252</th>\n",
              "      <td>2019-12-31</td>\n",
              "      <td>134.119995</td>\n",
              "      <td>132.399994</td>\n",
              "      <td>132.529999</td>\n",
              "      <td>134.039993</td>\n",
              "      <td>3777500.0</td>\n",
              "      <td>122.877831</td>\n",
              "    </tr>\n",
              "  </tbody>\n",
              "</table>\n",
              "</div>"
            ],
            "text/plain": [
              "           Date        High         Low  ...       Close     Volume   Adj Close\n",
              "248  2019-12-24  135.619995  134.610001  ...  134.979996  1202100.0  123.739563\n",
              "249  2019-12-26  135.309998  134.649994  ...  134.910004  2129700.0  123.675400\n",
              "250  2019-12-27  135.750000  134.869995  ...  135.270004  2752200.0  124.005402\n",
              "251  2019-12-30  135.300003  132.500000  ...  132.809998  4118900.0  121.750267\n",
              "252  2019-12-31  134.119995  132.399994  ...  134.039993  3777500.0  122.877831\n",
              "\n",
              "[5 rows x 7 columns]"
            ]
          },
          "metadata": {
            "tags": []
          },
          "execution_count": 483
        }
      ]
    },
    {
      "cell_type": "markdown",
      "metadata": {
        "id": "IiRxDWtd-UBq"
      },
      "source": [
        "#Closing Price Analysis"
      ]
    },
    {
      "cell_type": "code",
      "metadata": {
        "colab": {
          "base_uri": "https://localhost:8080/"
        },
        "id": "IPPMNBe3h2ae",
        "outputId": "291ec31d-a82f-4405-c747-baa4cd688345"
      },
      "source": [
        "close = df['Close']\n",
        "print(close)"
      ],
      "execution_count": 484,
      "outputs": [
        {
          "output_type": "stream",
          "text": [
            "0      113.669998\n",
            "1      115.209999\n",
            "2      112.910004\n",
            "3      117.320000\n",
            "4      118.150002\n",
            "          ...    \n",
            "248    134.979996\n",
            "249    134.910004\n",
            "250    135.270004\n",
            "251    132.809998\n",
            "252    134.039993\n",
            "Name: Close, Length: 253, dtype: float64\n"
          ],
          "name": "stdout"
        }
      ]
    },
    {
      "cell_type": "code",
      "metadata": {
        "colab": {
          "base_uri": "https://localhost:8080/",
          "height": 265
        },
        "id": "HZEi2-_VE9OO",
        "outputId": "d379d752-4db2-49ed-8ef8-b6f5f315877a"
      },
      "source": [
        "plt.hist(close,bins=\"rice\",label=\"Daily close price\")\n",
        "plt.legend()\n",
        "plt.show()"
      ],
      "execution_count": 485,
      "outputs": [
        {
          "output_type": "display_data",
          "data": {
            "image/png": "[encoded data removed]",
            "text/plain": [
              "<Figure size 432x288 with 1 Axes>"
            ]
          },
          "metadata": {
            "tags": [],
            "needs_background": "light"
          }
        }
      ]
    },
    {
      "cell_type": "code",
      "metadata": {
        "colab": {
          "base_uri": "https://localhost:8080/",
          "height": 265
        },
        "id": "no83EeQ9F5a0",
        "outputId": "987a47b3-7ef4-41a8-b783-73179004b135"
      },
      "source": [
        "plt.boxplot(close,labels=[\"Daily close price\"])\n",
        "plt.show()"
      ],
      "execution_count": 486,
      "outputs": [
        {
          "output_type": "display_data",
          "data": {
            "image/png": "[encoded data removed]",
            "text/plain": [
              "<Figure size 432x288 with 1 Axes>"
            ]
          },
          "metadata": {
            "tags": [],
            "needs_background": "light"
          }
        }
      ]
    },
    {
      "cell_type": "code",
      "metadata": {
        "colab": {
          "base_uri": "https://localhost:8080/",
          "height": 280
        },
        "id": "f3ZjNoDTSHW6",
        "outputId": "9b354b8b-8637-44a4-b611-d3ccb57eb1e6"
      },
      "source": [
        "from statsmodels.graphics.gofplots import qqplot\n",
        "qqplot(close, line='s')\n",
        "plt.show()"
      ],
      "execution_count": 487,
      "outputs": [
        {
          "output_type": "display_data",
          "data": {
            "image/png": "[encoded data removed]",
            "text/plain": [
              "<Figure size 432x288 with 1 Axes>"
            ]
          },
          "metadata": {
            "tags": [],
            "needs_background": "light"
          }
        }
      ]
    },
    {
      "cell_type": "code",
      "metadata": {
        "colab": {
          "base_uri": "https://localhost:8080/"
        },
        "id": "XsnmEw04SnIs",
        "outputId": "b9d8c8b8-b58f-4572-f5db-da32dacd1426"
      },
      "source": [
        "# Summary of stock price descriptive analysis\n",
        "print(\"Mean is: \", np.mean(close))\n",
        "print(\"Standard deviation is: \", np.std(close))\n",
        "print(\"Median is: \", np.quantile(close,0.5))\n",
        "print(\"Skewness of the distribution is: \", stats.skew(close))\n",
        "print(\"Skewtest of the distribution is: \", stats.skewtest(close))\n",
        "print(\"Kurtosis of the distributionn is: \", stats.kurtosis(close))\n",
        "print(\"Kurtosis test of the distribution is: \", stats.kurtosistest(close))"
      ],
      "execution_count": 488,
      "outputs": [
        {
          "output_type": "stream",
          "text": [
            "Mean is:  136.89640410050103\n",
            "Standard deviation is:  6.316575105462319\n",
            "Median is:  136.97999572753906\n",
            "Skewness of the distribution is:  -0.8664146193034279\n",
            "Skewtest of the distribution is:  SkewtestResult(statistic=-5.079821629655024, pvalue=3.777894129602461e-07)\n",
            "Kurtosis of the distributionn is:  2.3067162418671314\n",
            "Kurtosis test of the distribution is:  KurtosistestResult(statistic=4.204547944810507, pvalue=2.6160448268089633e-05)\n"
          ],
          "name": "stdout"
        }
      ]
    },
    {
      "cell_type": "code",
      "metadata": {
        "colab": {
          "base_uri": "https://localhost:8080/",
          "height": 279
        },
        "id": "VolGoXiOWjyE",
        "outputId": "86f22675-bb96-4627-896c-a55b9ba3e464"
      },
      "source": [
        "## Checking for normal distribution\n",
        "t = np.linspace(0.01,0.99,1000)\n",
        "q1 = np.quantile(close,t)\n",
        "q2 = stats.norm.ppf(t,loc=np.mean(returns),scale=np.std(returns))\n",
        "plt.plot(q1,q2)\n",
        "plt.plot([min(q1),max(q1)],[min(q2),max(q2)])\n",
        "plt.xlim((min(q1),max(q1)))\n",
        "plt.ylim((min(q2),max(q2)))\n",
        "plt.xlabel(\"Daily returns\")\n",
        "plt.ylabel(\"Normal distribution\")\n",
        "plt.show()"
      ],
      "execution_count": 489,
      "outputs": [
        {
          "output_type": "display_data",
          "data": {
            "image/png": "[encoded data removed]",
            "text/plain": [
              "<Figure size 432x288 with 1 Axes>"
            ]
          },
          "metadata": {
            "tags": [],
            "needs_background": "light"
          }
        }
      ]
    },
    {
      "cell_type": "markdown",
      "metadata": {
        "id": "W6Kw7RoD9zyD"
      },
      "source": [
        "#**Stock Return Analysis**"
      ]
    },
    {
      "cell_type": "code",
      "metadata": {
        "colab": {
          "base_uri": "https://localhost:8080/"
        },
        "id": "T8ulxjvjEcWo",
        "outputId": "662283dc-b565-4701-b006-45dc5570809d"
      },
      "source": [
        "## Daily Return\n",
        "returns = close.pct_change(1).dropna()\n",
        "returns = returns * 100\n",
        "print(returns)"
      ],
      "execution_count": 490,
      "outputs": [
        {
          "output_type": "stream",
          "text": [
            "1      1.354800\n",
            "2     -1.996351\n",
            "3      3.905762\n",
            "4      0.707468\n",
            "5      1.421922\n",
            "         ...   \n",
            "248   -0.420514\n",
            "249   -0.051854\n",
            "250    0.266845\n",
            "251   -1.818590\n",
            "252    0.926132\n",
            "Name: Close, Length: 252, dtype: float64\n"
          ],
          "name": "stdout"
        }
      ]
    },
    {
      "cell_type": "code",
      "metadata": {
        "colab": {
          "base_uri": "https://localhost:8080/",
          "height": 265
        },
        "id": "XwOAVHb4UE3X",
        "outputId": "9bc95461-da09-4279-cc2b-28ecb6ea18eb"
      },
      "source": [
        "plt.hist(returns, bins=\"rice\", label=\"Return\")\n",
        "plt.axvline(returns.mean(), color='darkorange')\n",
        "plt.axvline(returns.median(), color='red')\n",
        "plt.axvline(returns.mean() - 2*returns.std(), color='green')\n",
        "plt.axvline(returns.mean() + 2*returns.std(), color='green')\n",
        "\n",
        "plt.legend()\n",
        "plt.show()"
      ],
      "execution_count": 491,
      "outputs": [
        {
          "output_type": "display_data",
          "data": {
            "image/png": "[encoded data removed]",
            "text/plain": [
              "<Figure size 432x288 with 1 Axes>"
            ]
          },
          "metadata": {
            "tags": [],
            "needs_background": "light"
          }
        }
      ]
    },
    {
      "cell_type": "code",
      "metadata": {
        "colab": {
          "base_uri": "https://localhost:8080/",
          "height": 265
        },
        "id": "5mxD_GDtUFq1",
        "outputId": "74e2bfb4-b303-419b-bf21-5e07be904144"
      },
      "source": [
        "plt.boxplot(returns ,labels=[\"Return\"])\n",
        "plt.show()"
      ],
      "execution_count": 492,
      "outputs": [
        {
          "output_type": "display_data",
          "data": {
            "image/png": "[encoded data removed]",
            "text/plain": [
              "<Figure size 432x288 with 1 Axes>"
            ]
          },
          "metadata": {
            "tags": [],
            "needs_background": "light"
          }
        }
      ]
    },
    {
      "cell_type": "code",
      "metadata": {
        "colab": {
          "base_uri": "https://localhost:8080/",
          "height": 279
        },
        "id": "wJN4MeUtx_r5",
        "outputId": "0a61f342-dd88-477a-c52b-8afb4f2c506a"
      },
      "source": [
        "from statsmodels.graphics.gofplots import qqplot\n",
        "qqplot(returns, line='s')\n",
        "plt.show()"
      ],
      "execution_count": 493,
      "outputs": [
        {
          "output_type": "display_data",
          "data": {
            "image/png": "[encoded data removed]",
            "text/plain": [
              "<Figure size 432x288 with 1 Axes>"
            ]
          },
          "metadata": {
            "tags": [],
            "needs_background": "light"
          }
        }
      ]
    },
    {
      "cell_type": "code",
      "metadata": {
        "colab": {
          "base_uri": "https://localhost:8080/"
        },
        "id": "dxk8p90GGAtL",
        "outputId": "f1fafae3-ffce-4afe-ee23-f43f3f2734a5"
      },
      "source": [
        "# Summary of stock price descriptive analysis\n",
        "print(\"Mean is: \", np.mean(returns))\n",
        "print(\"Standard deviation is: \", np.std(returns))\n",
        "print(\"Median is: \", np.quantile(returns,0.5))\n",
        "print(\"Skewness of the distribution is: \", stats.skew(returns))\n",
        "print(\"Skewtest of the distribution is: \", stats.skewtest(returns))\n",
        "print(\"Kurtosis of the distributionn is: \", stats.kurtosis(returns))\n",
        "print(\"Kurtosis test of the distribution is: \", stats.kurtosistest(returns))"
      ],
      "execution_count": 494,
      "outputs": [
        {
          "output_type": "stream",
          "text": [
            "Mean is:  0.07386940263543147\n",
            "Standard deviation is:  1.3014622424599644\n",
            "Median is:  0.13773907711658318\n",
            "Skewness of the distribution is:  0.4729969183532287\n",
            "Skewtest of the distribution is:  SkewtestResult(statistic=3.008096313205969, pvalue=0.0026288980807748614)\n",
            "Kurtosis of the distributionn is:  8.673436059138927\n",
            "Kurtosis test of the distribution is:  KurtosistestResult(statistic=7.20495943025786, pvalue=5.806113410867062e-13)\n"
          ],
          "name": "stdout"
        }
      ]
    },
    {
      "cell_type": "code",
      "metadata": {
        "colab": {
          "base_uri": "https://localhost:8080/",
          "height": 280
        },
        "id": "ebIg4_pNKQ0K",
        "outputId": "e8f997eb-3e4f-4e5a-a05e-1bdcfc919fad"
      },
      "source": [
        "## Checking for normal distribution\n",
        "t = np.linspace(0.01,0.99,1000)\n",
        "q1 = np.quantile(returns,t)\n",
        "q2 = stats.norm.ppf(t,loc=np.mean(returns),scale=np.std(returns))\n",
        "plt.plot(q1,q2)\n",
        "plt.plot([min(q1),max(q1)],[min(q2),max(q2)])\n",
        "plt.xlim((min(q1),max(q1)))\n",
        "plt.ylim((min(q2),max(q2)))\n",
        "plt.xlabel(\"Daily returns\")\n",
        "plt.ylabel(\"Normal distribution\")\n",
        "plt.show()"
      ],
      "execution_count": 495,
      "outputs": [
        {
          "output_type": "display_data",
          "data": {
            "image/png": "[encoded data removed]",
            "text/plain": [
              "<Figure size 432x288 with 1 Axes>"
            ]
          },
          "metadata": {
            "tags": [],
            "needs_background": "light"
          }
        }
      ]
    }
  ]
}