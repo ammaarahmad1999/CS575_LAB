{
  "nbformat": 4,
  "nbformat_minor": 0,
  "metadata": {
    "colab": {
      "name": "ITC.ipynb",
      "provenance": [],
      "collapsed_sections": []
    },
    "kernelspec": {
      "name": "python3",
      "display_name": "Python 3"
    },
    "language_info": {
      "name": "python"
    }
  },
  "cells": [
    {
      "cell_type": "code",
      "metadata": {
        "colab": {
          "base_uri": "https://localhost:8080/"
        },
        "id": "WAfQPRFxM8Gf",
        "outputId": "6d54ad02-8758-4494-84b1-3cb7f8f3de9e"
      },
      "source": [
        "from google.colab import drive\n",
        "drive.mount('/content/drive')"
      ],
      "execution_count": null,
      "outputs": [
        {
          "output_type": "stream",
          "text": [
            "Mounted at /content/drive\n"
          ],
          "name": "stdout"
        }
      ]
    },
    {
      "cell_type": "code",
      "metadata": {
        "id": "dAnnu6lZNKKE"
      },
      "source": [
        "%cp /content/drive/MyDrive/CSVs/* ./"
      ],
      "execution_count": null,
      "outputs": []
    },
    {
      "cell_type": "code",
      "metadata": {
        "id": "2Shp_5CEgXC5"
      },
      "source": [
        "import pandas as pd\n",
        "import numpy as np\n",
        "from scipy import stats\n",
        "import matplotlib.pyplot as plt\n",
        "%matplotlib inline\n",
        "from statsmodels.graphics.tsaplots import plot_pacf,plot_acf\n",
        "from statsmodels.graphics.gofplots import qqplot"
      ],
      "execution_count": null,
      "outputs": []
    },
    {
      "cell_type": "code",
      "metadata": {
        "id": "mhSzo9Vr1TSP"
      },
      "source": [
        "from pandas_datareader import data as pdr\n",
        "from datetime import datetime"
      ],
      "execution_count": null,
      "outputs": []
    },
    {
      "cell_type": "code",
      "metadata": {
        "id": "BbrB17mPg_Eq"
      },
      "source": [
        "df = pd.read_csv('/content/ITC_stock.csv')"
      ],
      "execution_count": 466,
      "outputs": []
    },
    {
      "cell_type": "code",
      "metadata": {
        "colab": {
          "base_uri": "https://localhost:8080/",
          "height": 204
        },
        "id": "qUhyts3DhtO9",
        "outputId": "928aeb54-2a76-42db-adda-c22489948c96"
      },
      "source": [
        "df.head()"
      ],
      "execution_count": 467,
      "outputs": [
        {
          "output_type": "execute_result",
          "data": {
            "text/html": [
              "<div>\n",
              "<style scoped>\n",
              "    .dataframe tbody tr th:only-of-type {\n",
              "        vertical-align: middle;\n",
              "    }\n",
              "\n",
              "    .dataframe tbody tr th {\n",
              "        vertical-align: top;\n",
              "    }\n",
              "\n",
              "    .dataframe thead th {\n",
              "        text-align: right;\n",
              "    }\n",
              "</style>\n",
              "<table border=\"1\" class=\"dataframe\">\n",
              "  <thead>\n",
              "    <tr style=\"text-align: right;\">\n",
              "      <th></th>\n",
              "      <th>Date</th>\n",
              "      <th>High</th>\n",
              "      <th>Low</th>\n",
              "      <th>Open</th>\n",
              "      <th>Close</th>\n",
              "      <th>Volume</th>\n",
              "      <th>Adj Close</th>\n",
              "    </tr>\n",
              "  </thead>\n",
              "  <tbody>\n",
              "    <tr>\n",
              "      <th>0</th>\n",
              "      <td>2019-01-01</td>\n",
              "      <td>283.549988</td>\n",
              "      <td>279.799988</td>\n",
              "      <td>282.200012</td>\n",
              "      <td>282.700012</td>\n",
              "      <td>2490548.0</td>\n",
              "      <td>250.739075</td>\n",
              "    </tr>\n",
              "    <tr>\n",
              "      <th>1</th>\n",
              "      <td>2019-01-02</td>\n",
              "      <td>283.250000</td>\n",
              "      <td>277.549988</td>\n",
              "      <td>282.250000</td>\n",
              "      <td>280.600006</td>\n",
              "      <td>9934187.0</td>\n",
              "      <td>248.876465</td>\n",
              "    </tr>\n",
              "    <tr>\n",
              "      <th>2</th>\n",
              "      <td>2019-01-03</td>\n",
              "      <td>282.450012</td>\n",
              "      <td>277.750000</td>\n",
              "      <td>280.600006</td>\n",
              "      <td>278.850006</td>\n",
              "      <td>6114946.0</td>\n",
              "      <td>247.324326</td>\n",
              "    </tr>\n",
              "    <tr>\n",
              "      <th>3</th>\n",
              "      <td>2019-01-04</td>\n",
              "      <td>282.950012</td>\n",
              "      <td>279.149994</td>\n",
              "      <td>279.149994</td>\n",
              "      <td>280.950012</td>\n",
              "      <td>7805148.0</td>\n",
              "      <td>249.186951</td>\n",
              "    </tr>\n",
              "    <tr>\n",
              "      <th>4</th>\n",
              "      <td>2019-01-07</td>\n",
              "      <td>285.250000</td>\n",
              "      <td>281.000000</td>\n",
              "      <td>284.299988</td>\n",
              "      <td>281.649994</td>\n",
              "      <td>9757529.0</td>\n",
              "      <td>249.807800</td>\n",
              "    </tr>\n",
              "  </tbody>\n",
              "</table>\n",
              "</div>"
            ],
            "text/plain": [
              "         Date        High         Low  ...       Close     Volume   Adj Close\n",
              "0  2019-01-01  283.549988  279.799988  ...  282.700012  2490548.0  250.739075\n",
              "1  2019-01-02  283.250000  277.549988  ...  280.600006  9934187.0  248.876465\n",
              "2  2019-01-03  282.450012  277.750000  ...  278.850006  6114946.0  247.324326\n",
              "3  2019-01-04  282.950012  279.149994  ...  280.950012  7805148.0  249.186951\n",
              "4  2019-01-07  285.250000  281.000000  ...  281.649994  9757529.0  249.807800\n",
              "\n",
              "[5 rows x 7 columns]"
            ]
          },
          "metadata": {
            "tags": []
          },
          "execution_count": 467
        }
      ]
    },
    {
      "cell_type": "code",
      "metadata": {
        "colab": {
          "base_uri": "https://localhost:8080/",
          "height": 204
        },
        "id": "yeJFr1OGRGYw",
        "outputId": "fd6559f8-ec3b-460d-a02a-2be3275aaa5e"
      },
      "source": [
        "df.tail()"
      ],
      "execution_count": 468,
      "outputs": [
        {
          "output_type": "execute_result",
          "data": {
            "text/html": [
              "<div>\n",
              "<style scoped>\n",
              "    .dataframe tbody tr th:only-of-type {\n",
              "        vertical-align: middle;\n",
              "    }\n",
              "\n",
              "    .dataframe tbody tr th {\n",
              "        vertical-align: top;\n",
              "    }\n",
              "\n",
              "    .dataframe thead th {\n",
              "        text-align: right;\n",
              "    }\n",
              "</style>\n",
              "<table border=\"1\" class=\"dataframe\">\n",
              "  <thead>\n",
              "    <tr style=\"text-align: right;\">\n",
              "      <th></th>\n",
              "      <th>Date</th>\n",
              "      <th>High</th>\n",
              "      <th>Low</th>\n",
              "      <th>Open</th>\n",
              "      <th>Close</th>\n",
              "      <th>Volume</th>\n",
              "      <th>Adj Close</th>\n",
              "    </tr>\n",
              "  </thead>\n",
              "  <tbody>\n",
              "    <tr>\n",
              "      <th>237</th>\n",
              "      <td>2019-12-24</td>\n",
              "      <td>240.199997</td>\n",
              "      <td>238.199997</td>\n",
              "      <td>239.000000</td>\n",
              "      <td>238.750000</td>\n",
              "      <td>7896150.0</td>\n",
              "      <td>215.814545</td>\n",
              "    </tr>\n",
              "    <tr>\n",
              "      <th>238</th>\n",
              "      <td>2019-12-26</td>\n",
              "      <td>239.399994</td>\n",
              "      <td>236.350006</td>\n",
              "      <td>238.899994</td>\n",
              "      <td>236.800003</td>\n",
              "      <td>14460325.0</td>\n",
              "      <td>214.051880</td>\n",
              "    </tr>\n",
              "    <tr>\n",
              "      <th>239</th>\n",
              "      <td>2019-12-27</td>\n",
              "      <td>238.449997</td>\n",
              "      <td>236.449997</td>\n",
              "      <td>237.500000</td>\n",
              "      <td>236.899994</td>\n",
              "      <td>8712539.0</td>\n",
              "      <td>214.142242</td>\n",
              "    </tr>\n",
              "    <tr>\n",
              "      <th>240</th>\n",
              "      <td>2019-12-30</td>\n",
              "      <td>240.899994</td>\n",
              "      <td>237.500000</td>\n",
              "      <td>238.000000</td>\n",
              "      <td>238.199997</td>\n",
              "      <td>13173134.0</td>\n",
              "      <td>215.317352</td>\n",
              "    </tr>\n",
              "    <tr>\n",
              "      <th>241</th>\n",
              "      <td>2019-12-31</td>\n",
              "      <td>238.949997</td>\n",
              "      <td>237.399994</td>\n",
              "      <td>238.550003</td>\n",
              "      <td>237.699997</td>\n",
              "      <td>7142051.0</td>\n",
              "      <td>214.865402</td>\n",
              "    </tr>\n",
              "  </tbody>\n",
              "</table>\n",
              "</div>"
            ],
            "text/plain": [
              "           Date        High         Low  ...       Close      Volume   Adj Close\n",
              "237  2019-12-24  240.199997  238.199997  ...  238.750000   7896150.0  215.814545\n",
              "238  2019-12-26  239.399994  236.350006  ...  236.800003  14460325.0  214.051880\n",
              "239  2019-12-27  238.449997  236.449997  ...  236.899994   8712539.0  214.142242\n",
              "240  2019-12-30  240.899994  237.500000  ...  238.199997  13173134.0  215.317352\n",
              "241  2019-12-31  238.949997  237.399994  ...  237.699997   7142051.0  214.865402\n",
              "\n",
              "[5 rows x 7 columns]"
            ]
          },
          "metadata": {
            "tags": []
          },
          "execution_count": 468
        }
      ]
    },
    {
      "cell_type": "markdown",
      "metadata": {
        "id": "IiRxDWtd-UBq"
      },
      "source": [
        "#Closing Price Analysis"
      ]
    },
    {
      "cell_type": "code",
      "metadata": {
        "colab": {
          "base_uri": "https://localhost:8080/"
        },
        "id": "IPPMNBe3h2ae",
        "outputId": "e99a54b2-57e1-4aef-d8c9-8263f158faca"
      },
      "source": [
        "close = df['Close']\n",
        "print(close)"
      ],
      "execution_count": 469,
      "outputs": [
        {
          "output_type": "stream",
          "text": [
            "0      282.700012\n",
            "1      280.600006\n",
            "2      278.850006\n",
            "3      280.950012\n",
            "4      281.649994\n",
            "          ...    \n",
            "237    238.750000\n",
            "238    236.800003\n",
            "239    236.899994\n",
            "240    238.199997\n",
            "241    237.699997\n",
            "Name: Close, Length: 242, dtype: float64\n"
          ],
          "name": "stdout"
        }
      ]
    },
    {
      "cell_type": "code",
      "metadata": {
        "colab": {
          "base_uri": "https://localhost:8080/",
          "height": 265
        },
        "id": "HZEi2-_VE9OO",
        "outputId": "6f19d430-7109-4f54-a75b-a288e4d48c02"
      },
      "source": [
        "plt.hist(close,bins=\"rice\",label=\"Daily close price\")\n",
        "plt.legend()\n",
        "plt.show()"
      ],
      "execution_count": 470,
      "outputs": [
        {
          "output_type": "display_data",
          "data": {
            "image/png": "[encoded data removed]",
            "text/plain": [
              "<Figure size 432x288 with 1 Axes>"
            ]
          },
          "metadata": {
            "tags": [],
            "needs_background": "light"
          }
        }
      ]
    },
    {
      "cell_type": "code",
      "metadata": {
        "colab": {
          "base_uri": "https://localhost:8080/",
          "height": 267
        },
        "id": "no83EeQ9F5a0",
        "outputId": "b7c07f22-449b-4d92-fbde-1b8a3b161323"
      },
      "source": [
        "plt.boxplot(close,labels=[\"Daily close price\"])\n",
        "plt.show()"
      ],
      "execution_count": 471,
      "outputs": [
        {
          "output_type": "display_data",
          "data": {
            "image/png": "[encoded data removed]",
            "text/plain": [
              "<Figure size 432x288 with 1 Axes>"
            ]
          },
          "metadata": {
            "tags": [],
            "needs_background": "light"
          }
        }
      ]
    },
    {
      "cell_type": "code",
      "metadata": {
        "colab": {
          "base_uri": "https://localhost:8080/",
          "height": 279
        },
        "id": "f3ZjNoDTSHW6",
        "outputId": "30c58456-efab-41be-9fce-2382c2d11f59"
      },
      "source": [
        "from statsmodels.graphics.gofplots import qqplot\n",
        "qqplot(close, line='s')\n",
        "plt.show()"
      ],
      "execution_count": 472,
      "outputs": [
        {
          "output_type": "display_data",
          "data": {
            "image/png": "[encoded data removed]",
            "text/plain": [
              "<Figure size 432x288 with 1 Axes>"
            ]
          },
          "metadata": {
            "tags": [],
            "needs_background": "light"
          }
        }
      ]
    },
    {
      "cell_type": "code",
      "metadata": {
        "colab": {
          "base_uri": "https://localhost:8080/"
        },
        "id": "XsnmEw04SnIs",
        "outputId": "2841b02b-8714-4d61-d6d0-2e36df671679"
      },
      "source": [
        "# Summary of stock price descriptive analysis\n",
        "print(\"Mean is: \", np.mean(close))\n",
        "print(\"Standard deviation is: \", np.std(close))\n",
        "print(\"Median is: \", np.quantile(close,0.5))\n",
        "print(\"Skewness of the distribution is: \", stats.skew(close))\n",
        "print(\"Skewtest of the distribution is: \", stats.skewtest(close))\n",
        "print(\"Kurtosis of the distributionn is: \", stats.kurtosis(close))\n",
        "print(\"Kurtosis test of the distribution is: \", stats.kurtosistest(close))"
      ],
      "execution_count": 473,
      "outputs": [
        {
          "output_type": "stream",
          "text": [
            "Mean is:  270.13243746166387\n",
            "Standard deviation is:  21.079839202468193\n",
            "Median is:  274.7250061035156\n",
            "Skewness of the distribution is:  -0.015001721625256606\n",
            "Skewtest of the distribution is:  SkewtestResult(statistic=-0.09802390454728983, pvalue=0.9219133116911017)\n",
            "Kurtosis of the distributionn is:  -1.2545599900515114\n",
            "Kurtosis test of the distribution is:  KurtosistestResult(statistic=-13.067305779778515, pvalue=5.0627040429065125e-39)\n"
          ],
          "name": "stdout"
        }
      ]
    },
    {
      "cell_type": "code",
      "metadata": {
        "colab": {
          "base_uri": "https://localhost:8080/",
          "height": 280
        },
        "id": "VolGoXiOWjyE",
        "outputId": "18f524e8-8350-409d-c62b-9ccfeba77687"
      },
      "source": [
        "## Checking for normal distribution\n",
        "t = np.linspace(0.01,0.99,1000)\n",
        "q1 = np.quantile(close,t)\n",
        "q2 = stats.norm.ppf(t,loc=np.mean(returns),scale=np.std(returns))\n",
        "plt.plot(q1,q2)\n",
        "plt.plot([min(q1),max(q1)],[min(q2),max(q2)])\n",
        "plt.xlim((min(q1),max(q1)))\n",
        "plt.ylim((min(q2),max(q2)))\n",
        "plt.xlabel(\"Daily returns\")\n",
        "plt.ylabel(\"Normal distribution\")\n",
        "plt.show()"
      ],
      "execution_count": 474,
      "outputs": [
        {
          "output_type": "display_data",
          "data": {
            "image/png": "[encoded data removed]",
            "text/plain": [
              "<Figure size 432x288 with 1 Axes>"
            ]
          },
          "metadata": {
            "tags": [],
            "needs_background": "light"
          }
        }
      ]
    },
    {
      "cell_type": "markdown",
      "metadata": {
        "id": "W6Kw7RoD9zyD"
      },
      "source": [
        "#**Stock Return Analysis**"
      ]
    },
    {
      "cell_type": "code",
      "metadata": {
        "colab": {
          "base_uri": "https://localhost:8080/"
        },
        "id": "T8ulxjvjEcWo",
        "outputId": "d8016623-051d-4de8-89b3-c36458fe9efa"
      },
      "source": [
        "## Daily Return\n",
        "returns = close.pct_change(1).dropna()\n",
        "returns = returns * 100\n",
        "print(returns)"
      ],
      "execution_count": 475,
      "outputs": [
        {
          "output_type": "stream",
          "text": [
            "1     -0.742839\n",
            "2     -0.623664\n",
            "3      0.753095\n",
            "4      0.249148\n",
            "5      0.923134\n",
            "         ...   \n",
            "237   -0.062785\n",
            "238   -0.816753\n",
            "239    0.042226\n",
            "240    0.548756\n",
            "241   -0.209908\n",
            "Name: Close, Length: 241, dtype: float64\n"
          ],
          "name": "stdout"
        }
      ]
    },
    {
      "cell_type": "code",
      "metadata": {
        "colab": {
          "base_uri": "https://localhost:8080/",
          "height": 265
        },
        "id": "XwOAVHb4UE3X",
        "outputId": "9526da97-5fb1-4191-f037-9fc84d775319"
      },
      "source": [
        "plt.hist(returns, bins=\"rice\", label=\"Return\")\n",
        "plt.axvline(returns.mean(), color='darkorange')\n",
        "plt.axvline(returns.median(), color='red')\n",
        "plt.axvline(returns.mean() - 2*returns.std(), color='green')\n",
        "plt.axvline(returns.mean() + 2*returns.std(), color='green')\n",
        "\n",
        "plt.legend()\n",
        "plt.show()"
      ],
      "execution_count": 476,
      "outputs": [
        {
          "output_type": "display_data",
          "data": {
            "image/png": "[encoded data removed]",
            "text/plain": [
              "<Figure size 432x288 with 1 Axes>"
            ]
          },
          "metadata": {
            "tags": [],
            "needs_background": "light"
          }
        }
      ]
    },
    {
      "cell_type": "code",
      "metadata": {
        "colab": {
          "base_uri": "https://localhost:8080/",
          "height": 265
        },
        "id": "5mxD_GDtUFq1",
        "outputId": "e3f881b3-d84d-458b-8071-de540720bc93"
      },
      "source": [
        "plt.boxplot(returns ,labels=[\"Return\"])\n",
        "plt.show()"
      ],
      "execution_count": 477,
      "outputs": [
        {
          "output_type": "display_data",
          "data": {
            "image/png": "[encoded data removed]",
            "text/plain": [
              "<Figure size 432x288 with 1 Axes>"
            ]
          },
          "metadata": {
            "tags": [],
            "needs_background": "light"
          }
        }
      ]
    },
    {
      "cell_type": "code",
      "metadata": {
        "colab": {
          "base_uri": "https://localhost:8080/",
          "height": 279
        },
        "id": "wJN4MeUtx_r5",
        "outputId": "920baad9-8e56-4536-964a-9dda631610de"
      },
      "source": [
        "from statsmodels.graphics.gofplots import qqplot\n",
        "qqplot(returns, line='s')\n",
        "plt.show()"
      ],
      "execution_count": 478,
      "outputs": [
        {
          "output_type": "display_data",
          "data": {
            "image/png": "[encoded data removed]",
            "text/plain": [
              "<Figure size 432x288 with 1 Axes>"
            ]
          },
          "metadata": {
            "tags": [],
            "needs_background": "light"
          }
        }
      ]
    },
    {
      "cell_type": "code",
      "metadata": {
        "colab": {
          "base_uri": "https://localhost:8080/"
        },
        "id": "dxk8p90GGAtL",
        "outputId": "1803f29e-bf23-40f8-e694-3b56fe8e7d03"
      },
      "source": [
        "# Summary of stock price descriptive analysis\n",
        "print(\"Mean is: \", np.mean(returns))\n",
        "print(\"Standard deviation is: \", np.std(returns))\n",
        "print(\"Median is: \", np.quantile(returns,0.5))\n",
        "print(\"Skewness of the distribution is: \", stats.skew(returns))\n",
        "print(\"Skewtest of the distribution is: \", stats.skewtest(returns))\n",
        "print(\"Kurtosis of the distributionn is: \", stats.kurtosis(returns))\n",
        "print(\"Kurtosis test of the distribution is: \", stats.kurtosistest(returns))"
      ],
      "execution_count": 479,
      "outputs": [
        {
          "output_type": "stream",
          "text": [
            "Mean is:  -0.06334093490607351\n",
            "Standard deviation is:  1.3110447550456212\n",
            "Median is:  -0.06278522407555664\n",
            "Skewness of the distribution is:  0.39846214121795037\n",
            "Skewtest of the distribution is:  SkewtestResult(statistic=2.51260927129629, pvalue=0.01198419848679624)\n",
            "Kurtosis of the distributionn is:  3.291157366118382\n",
            "Kurtosis test of the distribution is:  KurtosistestResult(statistic=4.909651505848799, pvalue=9.123838727868614e-07)\n"
          ],
          "name": "stdout"
        }
      ]
    },
    {
      "cell_type": "code",
      "metadata": {
        "colab": {
          "base_uri": "https://localhost:8080/",
          "height": 279
        },
        "id": "ebIg4_pNKQ0K",
        "outputId": "81587693-47bd-4247-f62e-ee8b2488539d"
      },
      "source": [
        "## Checking for normal distribution\n",
        "t = np.linspace(0.01,0.99,1000)\n",
        "q1 = np.quantile(returns,t)\n",
        "q2 = stats.norm.ppf(t,loc=np.mean(returns),scale=np.std(returns))\n",
        "plt.plot(q1,q2)\n",
        "plt.plot([min(q1),max(q1)],[min(q2),max(q2)])\n",
        "plt.xlim((min(q1),max(q1)))\n",
        "plt.ylim((min(q2),max(q2)))\n",
        "plt.xlabel(\"Daily returns\")\n",
        "plt.ylabel(\"Normal distribution\")\n",
        "plt.show()"
      ],
      "execution_count": 480,
      "outputs": [
        {
          "output_type": "display_data",
          "data": {
            "image/png": "[encoded data removed]",
            "text/plain": [
              "<Figure size 432x288 with 1 Axes>"
            ]
          },
          "metadata": {
            "tags": [],
            "needs_background": "light"
          }
        }
      ]
    }
  ]
}