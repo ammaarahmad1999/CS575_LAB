{
  "nbformat": 4,
  "nbformat_minor": 0,
  "metadata": {
    "colab": {
      "name": "ITC.ipynb",
      "provenance": [],
      "collapsed_sections": []
    },
    "kernelspec": {
      "name": "python3",
      "display_name": "Python 3"
    },
    "language_info": {
      "name": "python"
    }
  },
  "cells": [
    {
      "cell_type": "code",
      "metadata": {
        "colab": {
          "base_uri": "https://localhost:8080/"
        },
        "id": "WAfQPRFxM8Gf",
        "outputId": "6d54ad02-8758-4494-84b1-3cb7f8f3de9e"
      },
      "source": [
        "from google.colab import drive\n",
        "drive.mount('/content/drive')"
      ],
      "execution_count": null,
      "outputs": [
        {
          "output_type": "stream",
          "text": [
            "Mounted at /content/drive\n"
          ],
          "name": "stdout"
        }
      ]
    },
    {
      "cell_type": "code",
      "metadata": {
        "id": "dAnnu6lZNKKE"
      },
      "source": [
        "%cp /content/drive/MyDrive/CSVs/* ./"
      ],
      "execution_count": null,
      "outputs": []
    },
    {
      "cell_type": "code",
      "metadata": {
        "id": "2Shp_5CEgXC5"
      },
      "source": [
        "import pandas as pd\n",
        "import numpy as np\n",
        "from scipy import stats\n",
        "import matplotlib.pyplot as plt\n",
        "%matplotlib inline\n",
        "from statsmodels.graphics.tsaplots import plot_pacf,plot_acf\n",
        "from statsmodels.graphics.gofplots import qqplot"
      ],
      "execution_count": null,
      "outputs": []
    },
    {
      "cell_type": "code",
      "metadata": {
        "id": "mhSzo9Vr1TSP"
      },
      "source": [
        "from pandas_datareader import data as pdr\n",
        "from datetime import datetime"
      ],
      "execution_count": null,
      "outputs": []
    },
    {
      "cell_type": "code",
      "metadata": {
        "id": "BbrB17mPg_Eq"
      },
      "source": [
        "df = pd.read_csv('/content/Infosys_stock.csv')"
      ],
      "execution_count": 443,
      "outputs": []
    },
    {
      "cell_type": "code",
      "metadata": {
        "colab": {
          "base_uri": "https://localhost:8080/",
          "height": 204
        },
        "id": "qUhyts3DhtO9",
        "outputId": "749ca456-4f7b-4873-9bbb-27ae82a77bd1"
      },
      "source": [
        "df.head()"
      ],
      "execution_count": 444,
      "outputs": [
        {
          "output_type": "execute_result",
          "data": {
            "text/html": [
              "<div>\n",
              "<style scoped>\n",
              "    .dataframe tbody tr th:only-of-type {\n",
              "        vertical-align: middle;\n",
              "    }\n",
              "\n",
              "    .dataframe tbody tr th {\n",
              "        vertical-align: top;\n",
              "    }\n",
              "\n",
              "    .dataframe thead th {\n",
              "        text-align: right;\n",
              "    }\n",
              "</style>\n",
              "<table border=\"1\" class=\"dataframe\">\n",
              "  <thead>\n",
              "    <tr style=\"text-align: right;\">\n",
              "      <th></th>\n",
              "      <th>Date</th>\n",
              "      <th>High</th>\n",
              "      <th>Low</th>\n",
              "      <th>Open</th>\n",
              "      <th>Close</th>\n",
              "      <th>Volume</th>\n",
              "      <th>Adj Close</th>\n",
              "    </tr>\n",
              "  </thead>\n",
              "  <tbody>\n",
              "    <tr>\n",
              "      <th>0</th>\n",
              "      <td>2019-01-01</td>\n",
              "      <td>666.299988</td>\n",
              "      <td>654.150024</td>\n",
              "      <td>660.950012</td>\n",
              "      <td>665.049988</td>\n",
              "      <td>2943390.0</td>\n",
              "      <td>615.497864</td>\n",
              "    </tr>\n",
              "    <tr>\n",
              "      <th>1</th>\n",
              "      <td>2019-01-02</td>\n",
              "      <td>674.000000</td>\n",
              "      <td>662.049988</td>\n",
              "      <td>666.000000</td>\n",
              "      <td>669.049988</td>\n",
              "      <td>7416655.0</td>\n",
              "      <td>619.199890</td>\n",
              "    </tr>\n",
              "    <tr>\n",
              "      <th>2</th>\n",
              "      <td>2019-01-03</td>\n",
              "      <td>677.000000</td>\n",
              "      <td>663.099976</td>\n",
              "      <td>672.000000</td>\n",
              "      <td>669.150024</td>\n",
              "      <td>6827249.0</td>\n",
              "      <td>619.292419</td>\n",
              "    </tr>\n",
              "    <tr>\n",
              "      <th>3</th>\n",
              "      <td>2019-01-04</td>\n",
              "      <td>673.900024</td>\n",
              "      <td>651.000000</td>\n",
              "      <td>671.750000</td>\n",
              "      <td>661.049988</td>\n",
              "      <td>7889310.0</td>\n",
              "      <td>611.795959</td>\n",
              "    </tr>\n",
              "    <tr>\n",
              "      <th>4</th>\n",
              "      <td>2019-01-07</td>\n",
              "      <td>673.599976</td>\n",
              "      <td>661.500000</td>\n",
              "      <td>665.000000</td>\n",
              "      <td>671.700012</td>\n",
              "      <td>8046340.0</td>\n",
              "      <td>621.652405</td>\n",
              "    </tr>\n",
              "  </tbody>\n",
              "</table>\n",
              "</div>"
            ],
            "text/plain": [
              "         Date        High         Low  ...       Close     Volume   Adj Close\n",
              "0  2019-01-01  666.299988  654.150024  ...  665.049988  2943390.0  615.497864\n",
              "1  2019-01-02  674.000000  662.049988  ...  669.049988  7416655.0  619.199890\n",
              "2  2019-01-03  677.000000  663.099976  ...  669.150024  6827249.0  619.292419\n",
              "3  2019-01-04  673.900024  651.000000  ...  661.049988  7889310.0  611.795959\n",
              "4  2019-01-07  673.599976  661.500000  ...  671.700012  8046340.0  621.652405\n",
              "\n",
              "[5 rows x 7 columns]"
            ]
          },
          "metadata": {
            "tags": []
          },
          "execution_count": 444
        }
      ]
    },
    {
      "cell_type": "code",
      "metadata": {
        "colab": {
          "base_uri": "https://localhost:8080/",
          "height": 204
        },
        "id": "yeJFr1OGRGYw",
        "outputId": "fdbf3f0f-b9a1-486c-aa79-873a0bebdb69"
      },
      "source": [
        "df.tail()"
      ],
      "execution_count": 445,
      "outputs": [
        {
          "output_type": "execute_result",
          "data": {
            "text/html": [
              "<div>\n",
              "<style scoped>\n",
              "    .dataframe tbody tr th:only-of-type {\n",
              "        vertical-align: middle;\n",
              "    }\n",
              "\n",
              "    .dataframe tbody tr th {\n",
              "        vertical-align: top;\n",
              "    }\n",
              "\n",
              "    .dataframe thead th {\n",
              "        text-align: right;\n",
              "    }\n",
              "</style>\n",
              "<table border=\"1\" class=\"dataframe\">\n",
              "  <thead>\n",
              "    <tr style=\"text-align: right;\">\n",
              "      <th></th>\n",
              "      <th>Date</th>\n",
              "      <th>High</th>\n",
              "      <th>Low</th>\n",
              "      <th>Open</th>\n",
              "      <th>Close</th>\n",
              "      <th>Volume</th>\n",
              "      <th>Adj Close</th>\n",
              "    </tr>\n",
              "  </thead>\n",
              "  <tbody>\n",
              "    <tr>\n",
              "      <th>237</th>\n",
              "      <td>2019-12-24</td>\n",
              "      <td>736.950012</td>\n",
              "      <td>728.299988</td>\n",
              "      <td>736.950012</td>\n",
              "      <td>733.400024</td>\n",
              "      <td>2890759.0</td>\n",
              "      <td>708.218262</td>\n",
              "    </tr>\n",
              "    <tr>\n",
              "      <th>238</th>\n",
              "      <td>2019-12-26</td>\n",
              "      <td>734.549988</td>\n",
              "      <td>726.549988</td>\n",
              "      <td>732.000000</td>\n",
              "      <td>728.950012</td>\n",
              "      <td>3821806.0</td>\n",
              "      <td>703.921021</td>\n",
              "    </tr>\n",
              "    <tr>\n",
              "      <th>239</th>\n",
              "      <td>2019-12-27</td>\n",
              "      <td>737.500000</td>\n",
              "      <td>728.849976</td>\n",
              "      <td>729.750000</td>\n",
              "      <td>736.950012</td>\n",
              "      <td>3399094.0</td>\n",
              "      <td>711.646362</td>\n",
              "    </tr>\n",
              "    <tr>\n",
              "      <th>240</th>\n",
              "      <td>2019-12-30</td>\n",
              "      <td>737.950012</td>\n",
              "      <td>727.250000</td>\n",
              "      <td>736.099976</td>\n",
              "      <td>732.900024</td>\n",
              "      <td>5368416.0</td>\n",
              "      <td>707.735474</td>\n",
              "    </tr>\n",
              "    <tr>\n",
              "      <th>241</th>\n",
              "      <td>2019-12-31</td>\n",
              "      <td>737.750000</td>\n",
              "      <td>725.450012</td>\n",
              "      <td>729.700012</td>\n",
              "      <td>731.150024</td>\n",
              "      <td>6927885.0</td>\n",
              "      <td>706.045471</td>\n",
              "    </tr>\n",
              "  </tbody>\n",
              "</table>\n",
              "</div>"
            ],
            "text/plain": [
              "           Date        High         Low  ...       Close     Volume   Adj Close\n",
              "237  2019-12-24  736.950012  728.299988  ...  733.400024  2890759.0  708.218262\n",
              "238  2019-12-26  734.549988  726.549988  ...  728.950012  3821806.0  703.921021\n",
              "239  2019-12-27  737.500000  728.849976  ...  736.950012  3399094.0  711.646362\n",
              "240  2019-12-30  737.950012  727.250000  ...  732.900024  5368416.0  707.735474\n",
              "241  2019-12-31  737.750000  725.450012  ...  731.150024  6927885.0  706.045471\n",
              "\n",
              "[5 rows x 7 columns]"
            ]
          },
          "metadata": {
            "tags": []
          },
          "execution_count": 445
        }
      ]
    },
    {
      "cell_type": "markdown",
      "metadata": {
        "id": "IiRxDWtd-UBq"
      },
      "source": [
        "#Closing Price Analysis"
      ]
    },
    {
      "cell_type": "code",
      "metadata": {
        "colab": {
          "base_uri": "https://localhost:8080/"
        },
        "id": "IPPMNBe3h2ae",
        "outputId": "97367ac0-175c-467d-fa55-fc4a70a09705"
      },
      "source": [
        "close = df['Close']\n",
        "print(close)"
      ],
      "execution_count": 446,
      "outputs": [
        {
          "output_type": "stream",
          "text": [
            "0      665.049988\n",
            "1      669.049988\n",
            "2      669.150024\n",
            "3      661.049988\n",
            "4      671.700012\n",
            "          ...    \n",
            "237    733.400024\n",
            "238    728.950012\n",
            "239    736.950012\n",
            "240    732.900024\n",
            "241    731.150024\n",
            "Name: Close, Length: 242, dtype: float64\n"
          ],
          "name": "stdout"
        }
      ]
    },
    {
      "cell_type": "code",
      "metadata": {
        "colab": {
          "base_uri": "https://localhost:8080/",
          "height": 265
        },
        "id": "HZEi2-_VE9OO",
        "outputId": "6d392d0e-0137-4563-820e-7152764d3ba8"
      },
      "source": [
        "plt.hist(close,bins=\"rice\",label=\"Daily close price\")\n",
        "plt.legend()\n",
        "plt.show()"
      ],
      "execution_count": 447,
      "outputs": [
        {
          "output_type": "display_data",
          "data": {
            "image/png": "[encoded data removed]",
            "text/plain": [
              "<Figure size 432x288 with 1 Axes>"
            ]
          },
          "metadata": {
            "tags": [],
            "needs_background": "light"
          }
        }
      ]
    },
    {
      "cell_type": "code",
      "metadata": {
        "colab": {
          "base_uri": "https://localhost:8080/",
          "height": 269
        },
        "id": "no83EeQ9F5a0",
        "outputId": "042dc42d-c8dc-49ab-9a89-c345c81a3c9e"
      },
      "source": [
        "plt.boxplot(close,labels=[\"Daily close price\"])\n",
        "plt.show()"
      ],
      "execution_count": 448,
      "outputs": [
        {
          "output_type": "display_data",
          "data": {
            "image/png": "[encoded data removed]",
            "text/plain": [
              "<Figure size 432x288 with 1 Axes>"
            ]
          },
          "metadata": {
            "tags": [],
            "needs_background": "light"
          }
        }
      ]
    },
    {
      "cell_type": "code",
      "metadata": {
        "colab": {
          "base_uri": "https://localhost:8080/",
          "height": 279
        },
        "id": "f3ZjNoDTSHW6",
        "outputId": "183ed867-da52-4894-edcb-9b647d51c2bb"
      },
      "source": [
        "from statsmodels.graphics.gofplots import qqplot\n",
        "qqplot(close, line='s')\n",
        "plt.show()"
      ],
      "execution_count": 449,
      "outputs": [
        {
          "output_type": "display_data",
          "data": {
            "image/png": "[encoded data removed]",
            "text/plain": [
              "<Figure size 432x288 with 1 Axes>"
            ]
          },
          "metadata": {
            "tags": [],
            "needs_background": "light"
          }
        }
      ]
    },
    {
      "cell_type": "code",
      "metadata": {
        "colab": {
          "base_uri": "https://localhost:8080/"
        },
        "id": "XsnmEw04SnIs",
        "outputId": "d2953170-7c08-4f9e-9999-3dab41dcf615"
      },
      "source": [
        "# Summary of stock price descriptive analysis\n",
        "print(\"Mean is: \", np.mean(close))\n",
        "print(\"Standard deviation is: \", np.std(close))\n",
        "print(\"Median is: \", np.quantile(close,0.5))\n",
        "print(\"Skewness of the distribution is: \", stats.skew(close))\n",
        "print(\"Skewtest of the distribution is: \", stats.skewtest(close))\n",
        "print(\"Kurtosis of the distributionn is: \", stats.kurtosis(close))\n",
        "print(\"Kurtosis test of the distribution is: \", stats.kurtosistest(close))"
      ],
      "execution_count": 450,
      "outputs": [
        {
          "output_type": "stream",
          "text": [
            "Mean is:  741.6966920963004\n",
            "Standard deviation is:  39.803330825176275\n",
            "Median is:  735.25\n"
          ],
          "name": "stdout"
        }
      ]
    },
    {
      "cell_type": "code",
      "metadata": {
        "colab": {
          "base_uri": "https://localhost:8080/",
          "height": 279
        },
        "id": "VolGoXiOWjyE",
        "outputId": "f89ea6f0-4c72-4424-de51-e95b910b8375"
      },
      "source": [
        "## Checking for normal distribution\n",
        "t = np.linspace(0.01,0.99,1000)\n",
        "q1 = np.quantile(close,t)\n",
        "q2 = stats.norm.ppf(t,loc=np.mean(returns),scale=np.std(returns))\n",
        "plt.plot(q1,q2)\n",
        "plt.plot([min(q1),max(q1)],[min(q2),max(q2)])\n",
        "plt.xlim((min(q1),max(q1)))\n",
        "plt.ylim((min(q2),max(q2)))\n",
        "plt.xlabel(\"Daily returns\")\n",
        "plt.ylabel(\"Normal distribution\")\n",
        "plt.show()"
      ],
      "execution_count": 455,
      "outputs": [
        {
          "output_type": "display_data",
          "data": {
            "image/png": "[encoded data removed]",
            "text/plain": [
              "<Figure size 432x288 with 1 Axes>"
            ]
          },
          "metadata": {
            "tags": [],
            "needs_background": "light"
          }
        }
      ]
    },
    {
      "cell_type": "markdown",
      "metadata": {
        "id": "W6Kw7RoD9zyD"
      },
      "source": [
        "#**Stock Return Analysis**"
      ]
    },
    {
      "cell_type": "code",
      "metadata": {
        "colab": {
          "base_uri": "https://localhost:8080/"
        },
        "id": "T8ulxjvjEcWo",
        "outputId": "13274a21-641b-4540-e1fe-5d6bf7dca1d1"
      },
      "source": [
        "## Daily Return\n",
        "returns = close.pct_change(1).dropna()\n",
        "returns = returns * 100\n",
        "print(returns)"
      ],
      "execution_count": 456,
      "outputs": [
        {
          "output_type": "stream",
          "text": [
            "1      0.601459\n",
            "2      0.014952\n",
            "3     -1.210496\n",
            "4      1.611077\n",
            "5     -0.245649\n",
            "         ...   \n",
            "237   -0.353258\n",
            "238   -0.606765\n",
            "239    1.097469\n",
            "240   -0.549561\n",
            "241   -0.238777\n",
            "Name: Close, Length: 241, dtype: float64\n"
          ],
          "name": "stdout"
        }
      ]
    },
    {
      "cell_type": "code",
      "metadata": {
        "colab": {
          "base_uri": "https://localhost:8080/",
          "height": 265
        },
        "id": "XwOAVHb4UE3X",
        "outputId": "ef53c18c-ea51-4234-ac3a-c3fba00b9103"
      },
      "source": [
        "plt.hist(returns, bins=\"rice\", label=\"Return\")\n",
        "plt.axvline(returns.mean(), color='darkorange')\n",
        "plt.axvline(returns.median(), color='red')\n",
        "plt.axvline(returns.mean() - 2*returns.std(), color='green')\n",
        "plt.axvline(returns.mean() + 2*returns.std(), color='green')\n",
        "\n",
        "plt.legend()\n",
        "plt.show()"
      ],
      "execution_count": 459,
      "outputs": [
        {
          "output_type": "display_data",
          "data": {
            "image/png": "[encoded data removed]",
            "text/plain": [
              "<Figure size 432x288 with 1 Axes>"
            ]
          },
          "metadata": {
            "tags": [],
            "needs_background": "light"
          }
        }
      ]
    },
    {
      "cell_type": "code",
      "metadata": {
        "colab": {
          "base_uri": "https://localhost:8080/",
          "height": 265
        },
        "id": "5mxD_GDtUFq1",
        "outputId": "ced4dcce-5cbe-45a4-8f9a-56ec16571363"
      },
      "source": [
        "plt.boxplot(returns ,labels=[\"Return\"])\n",
        "plt.show()"
      ],
      "execution_count": 460,
      "outputs": [
        {
          "output_type": "display_data",
          "data": {
            "image/png": "[encoded data removed]",
            "text/plain": [
              "<Figure size 432x288 with 1 Axes>"
            ]
          },
          "metadata": {
            "tags": [],
            "needs_background": "light"
          }
        }
      ]
    },
    {
      "cell_type": "code",
      "metadata": {
        "colab": {
          "base_uri": "https://localhost:8080/",
          "height": 279
        },
        "id": "wJN4MeUtx_r5",
        "outputId": "8f39d29e-b877-40b5-f398-2ea8fb2b7044"
      },
      "source": [
        "from statsmodels.graphics.gofplots import qqplot\n",
        "qqplot(returns, line='s')\n",
        "plt.show()"
      ],
      "execution_count": 461,
      "outputs": [
        {
          "output_type": "display_data",
          "data": {
            "image/png": "[encoded data removed]",
            "text/plain": [
              "<Figure size 432x288 with 1 Axes>"
            ]
          },
          "metadata": {
            "tags": [],
            "needs_background": "light"
          }
        }
      ]
    },
    {
      "cell_type": "code",
      "metadata": {
        "colab": {
          "base_uri": "https://localhost:8080/"
        },
        "id": "dxk8p90GGAtL",
        "outputId": "fc299f39-01f3-4527-fa8a-51618560f0b9"
      },
      "source": [
        "# Summary of stock price descriptive analysis\n",
        "print(\"Mean is: \", np.mean(returns))\n",
        "print(\"Standard deviation is: \", np.std(returns))\n",
        "print(\"Median is: \", np.quantile(returns,0.5))\n",
        "print(\"Skewness of the distribution is: \", stats.skew(returns))\n",
        "print(\"Skewtest of the distribution is: \", stats.skewtest(returns))\n",
        "print(\"Kurtosis of the distributionn is: \", stats.kurtosis(returns))\n",
        "print(\"Kurtosis test of the distribution is: \", stats.kurtosistest(returns))"
      ],
      "execution_count": 462,
      "outputs": [
        {
          "output_type": "stream",
          "text": [
            "Mean is:  0.05538668323413108\n",
            "Standard deviation is:  1.7576333134445263\n",
            "Median is:  0.04362697339963528\n",
            "Skewness of the distribution is:  -2.9621672011838465\n",
            "Skewtest of the distribution is:  SkewtestResult(statistic=-10.901639445896878, pvalue=1.1319903590046008e-27)\n",
            "Kurtosis of the distributionn is:  29.80732240398826\n",
            "Kurtosis test of the distribution is:  KurtosistestResult(statistic=9.450027911947172, pvalue=3.387403602169322e-21)\n"
          ],
          "name": "stdout"
        }
      ]
    },
    {
      "cell_type": "code",
      "metadata": {
        "colab": {
          "base_uri": "https://localhost:8080/",
          "height": 280
        },
        "id": "ebIg4_pNKQ0K",
        "outputId": "08f17621-2f1c-4be9-9d04-04af19bfd736"
      },
      "source": [
        "## Checking for normal distribution\n",
        "t = np.linspace(0.01,0.99,1000)\n",
        "q1 = np.quantile(returns,t)\n",
        "q2 = stats.norm.ppf(t,loc=np.mean(returns),scale=np.std(returns))\n",
        "plt.plot(q1,q2)\n",
        "plt.plot([min(q1),max(q1)],[min(q2),max(q2)])\n",
        "plt.xlim((min(q1),max(q1)))\n",
        "plt.ylim((min(q2),max(q2)))\n",
        "plt.xlabel(\"Daily returns\")\n",
        "plt.ylabel(\"Normal distribution\")\n",
        "plt.show()"
      ],
      "execution_count": 463,
      "outputs": [
        {
          "output_type": "display_data",
          "data": {
            "image/png": "[encoded data removed]",
            "text/plain": [
              "<Figure size 432x288 with 1 Axes>"
            ]
          },
          "metadata": {
            "tags": [],
            "needs_background": "light"
          }
        }
      ]
    }
  ]
}