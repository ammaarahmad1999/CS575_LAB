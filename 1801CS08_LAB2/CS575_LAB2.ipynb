{
  "nbformat": 4,
  "nbformat_minor": 0,
  "metadata": {
    "colab": {
      "name": "CS575_LAB2",
      "provenance": []
    },
    "kernelspec": {
      "name": "python3",
      "display_name": "Python 3"
    },
    "language_info": {
      "name": "python"
    }
  },
  "cells": [
    {
      "cell_type": "code",
      "metadata": {
        "id": "8nrzWMtJucaP"
      },
      "source": [
        "import matplotlib.pyplot as plt\n",
        "import numpy as np\n",
        "import scipy.stats as stats\n",
        "from scipy.stats import norm\n",
        "import math"
      ],
      "execution_count": 2,
      "outputs": []
    },
    {
      "cell_type": "markdown",
      "metadata": {
        "id": "-0VdX6fmObq0"
      },
      "source": [
        "#**Q1**"
      ]
    },
    {
      "cell_type": "code",
      "metadata": {
        "colab": {
          "base_uri": "https://localhost:8080/",
          "height": 281
        },
        "id": "iJlFOU_DORU3",
        "outputId": "f6d3b1e2-349a-4b31-aa49-58afc67f8c52"
      },
      "source": [
        "n_experiments = 1000\n",
        "n_bernoulli_trials = 100\n",
        "\n",
        "rng = np.random.RandomState(123)\n",
        "outcomes = np.empty(n_experiments, dtype=np.float)\n",
        "\n",
        "for i in range(n_experiments):\n",
        "    num = 10**i\n",
        "    coin_flips = rng.randint(0, 2, size=n_bernoulli_trials)\n",
        "    head_counts = np.sum(coin_flips)\n",
        "    outcomes[i] = head_counts\n",
        "\n",
        "plt.hist(outcomes, density=True)\n",
        "plt.xlabel('Number of heads in 100 coin flips')\n",
        "plt.ylabel('Probability of outcome')\n",
        "plt.show()"
      ],
      "execution_count": 3,
      "outputs": [
        {
          "output_type": "display_data",
          "data": {
            "image/png": "[encoded data removed]",
            "text/plain": [
              "<Figure size 432x288 with 1 Axes>"
            ]
          },
          "metadata": {
            "needs_background": "light"
          }
        }
      ]
    },
    {
      "cell_type": "markdown",
      "metadata": {
        "id": "-E14HwYReOSk"
      },
      "source": [
        "#**Q2**"
      ]
    },
    {
      "cell_type": "code",
      "metadata": {
        "colab": {
          "base_uri": "https://localhost:8080/"
        },
        "id": "pSEixzhYWxPi",
        "outputId": "f56cc319-7ced-4ac8-8be5-7497038ab005"
      },
      "source": [
        "from google.colab import drive\n",
        "drive.mount('/content/drive')"
      ],
      "execution_count": 4,
      "outputs": [
        {
          "output_type": "stream",
          "name": "stdout",
          "text": [
            "Mounted at /content/drive\n"
          ]
        }
      ]
    },
    {
      "cell_type": "code",
      "metadata": {
        "id": "2H7FG_CBeNgp"
      },
      "source": [
        "%cp /content/drive/MyDrive/state.csv ./"
      ],
      "execution_count": 5,
      "outputs": []
    },
    {
      "cell_type": "code",
      "metadata": {
        "id": "4ywWqzb6efsf"
      },
      "source": [
        "import pandas as pd\n",
        "df = pd.read_csv(\"state.csv\")"
      ],
      "execution_count": 6,
      "outputs": []
    },
    {
      "cell_type": "code",
      "metadata": {
        "colab": {
          "base_uri": "https://localhost:8080/",
          "height": 1000
        },
        "id": "RHEifTXJeqzN",
        "outputId": "d1e47aed-2203-486c-fdb2-224132d49c9e"
      },
      "source": [
        "df"
      ],
      "execution_count": 7,
      "outputs": [
        {
          "output_type": "execute_result",
          "data": {
            "text/html": [
              "<div>\n",
              "<style scoped>\n",
              "    .dataframe tbody tr th:only-of-type {\n",
              "        vertical-align: middle;\n",
              "    }\n",
              "\n",
              "    .dataframe tbody tr th {\n",
              "        vertical-align: top;\n",
              "    }\n",
              "\n",
              "    .dataframe thead th {\n",
              "        text-align: right;\n",
              "    }\n",
              "</style>\n",
              "<table border=\"1\" class=\"dataframe\">\n",
              "  <thead>\n",
              "    <tr style=\"text-align: right;\">\n",
              "      <th></th>\n",
              "      <th>State</th>\n",
              "      <th>Population</th>\n",
              "      <th>Murder.Rate</th>\n",
              "      <th>Abbreviation</th>\n",
              "    </tr>\n",
              "  </thead>\n",
              "  <tbody>\n",
              "    <tr>\n",
              "      <th>0</th>\n",
              "      <td>Alabama</td>\n",
              "      <td>4779736</td>\n",
              "      <td>5.7</td>\n",
              "      <td>AL</td>\n",
              "    </tr>\n",
              "    <tr>\n",
              "      <th>1</th>\n",
              "      <td>Alaska</td>\n",
              "      <td>710231</td>\n",
              "      <td>5.6</td>\n",
              "      <td>AK</td>\n",
              "    </tr>\n",
              "    <tr>\n",
              "      <th>2</th>\n",
              "      <td>Arizona</td>\n",
              "      <td>6392017</td>\n",
              "      <td>4.7</td>\n",
              "      <td>AZ</td>\n",
              "    </tr>\n",
              "    <tr>\n",
              "      <th>3</th>\n",
              "      <td>Arkansas</td>\n",
              "      <td>2915918</td>\n",
              "      <td>5.6</td>\n",
              "      <td>AR</td>\n",
              "    </tr>\n",
              "    <tr>\n",
              "      <th>4</th>\n",
              "      <td>California</td>\n",
              "      <td>37253956</td>\n",
              "      <td>4.4</td>\n",
              "      <td>CA</td>\n",
              "    </tr>\n",
              "    <tr>\n",
              "      <th>5</th>\n",
              "      <td>Colorado</td>\n",
              "      <td>5029196</td>\n",
              "      <td>2.8</td>\n",
              "      <td>CO</td>\n",
              "    </tr>\n",
              "    <tr>\n",
              "      <th>6</th>\n",
              "      <td>Connecticut</td>\n",
              "      <td>3574097</td>\n",
              "      <td>2.4</td>\n",
              "      <td>CT</td>\n",
              "    </tr>\n",
              "    <tr>\n",
              "      <th>7</th>\n",
              "      <td>Delaware</td>\n",
              "      <td>897934</td>\n",
              "      <td>5.8</td>\n",
              "      <td>DE</td>\n",
              "    </tr>\n",
              "    <tr>\n",
              "      <th>8</th>\n",
              "      <td>Florida</td>\n",
              "      <td>18801310</td>\n",
              "      <td>5.8</td>\n",
              "      <td>FL</td>\n",
              "    </tr>\n",
              "    <tr>\n",
              "      <th>9</th>\n",
              "      <td>Georgia</td>\n",
              "      <td>9687653</td>\n",
              "      <td>5.7</td>\n",
              "      <td>GA</td>\n",
              "    </tr>\n",
              "    <tr>\n",
              "      <th>10</th>\n",
              "      <td>Hawaii</td>\n",
              "      <td>1360301</td>\n",
              "      <td>1.8</td>\n",
              "      <td>HI</td>\n",
              "    </tr>\n",
              "    <tr>\n",
              "      <th>11</th>\n",
              "      <td>Idaho</td>\n",
              "      <td>1567582</td>\n",
              "      <td>2.0</td>\n",
              "      <td>ID</td>\n",
              "    </tr>\n",
              "    <tr>\n",
              "      <th>12</th>\n",
              "      <td>Illinois</td>\n",
              "      <td>12830632</td>\n",
              "      <td>5.3</td>\n",
              "      <td>IL</td>\n",
              "    </tr>\n",
              "    <tr>\n",
              "      <th>13</th>\n",
              "      <td>Indiana</td>\n",
              "      <td>6483802</td>\n",
              "      <td>5.0</td>\n",
              "      <td>IN</td>\n",
              "    </tr>\n",
              "    <tr>\n",
              "      <th>14</th>\n",
              "      <td>Iowa</td>\n",
              "      <td>3046355</td>\n",
              "      <td>1.9</td>\n",
              "      <td>IA</td>\n",
              "    </tr>\n",
              "    <tr>\n",
              "      <th>15</th>\n",
              "      <td>Kansas</td>\n",
              "      <td>2853118</td>\n",
              "      <td>3.1</td>\n",
              "      <td>KS</td>\n",
              "    </tr>\n",
              "    <tr>\n",
              "      <th>16</th>\n",
              "      <td>Kentucky</td>\n",
              "      <td>4339367</td>\n",
              "      <td>3.6</td>\n",
              "      <td>KY</td>\n",
              "    </tr>\n",
              "    <tr>\n",
              "      <th>17</th>\n",
              "      <td>Louisiana</td>\n",
              "      <td>4533372</td>\n",
              "      <td>10.3</td>\n",
              "      <td>LA</td>\n",
              "    </tr>\n",
              "    <tr>\n",
              "      <th>18</th>\n",
              "      <td>Maine</td>\n",
              "      <td>1328361</td>\n",
              "      <td>1.6</td>\n",
              "      <td>ME</td>\n",
              "    </tr>\n",
              "    <tr>\n",
              "      <th>19</th>\n",
              "      <td>Maryland</td>\n",
              "      <td>5773552</td>\n",
              "      <td>6.1</td>\n",
              "      <td>MD</td>\n",
              "    </tr>\n",
              "    <tr>\n",
              "      <th>20</th>\n",
              "      <td>Massachusetts</td>\n",
              "      <td>6547629</td>\n",
              "      <td>2.0</td>\n",
              "      <td>MA</td>\n",
              "    </tr>\n",
              "    <tr>\n",
              "      <th>21</th>\n",
              "      <td>Michigan</td>\n",
              "      <td>9883640</td>\n",
              "      <td>5.4</td>\n",
              "      <td>MI</td>\n",
              "    </tr>\n",
              "    <tr>\n",
              "      <th>22</th>\n",
              "      <td>Minnesota</td>\n",
              "      <td>5303925</td>\n",
              "      <td>1.6</td>\n",
              "      <td>MN</td>\n",
              "    </tr>\n",
              "    <tr>\n",
              "      <th>23</th>\n",
              "      <td>Mississippi</td>\n",
              "      <td>2967297</td>\n",
              "      <td>8.6</td>\n",
              "      <td>MS</td>\n",
              "    </tr>\n",
              "    <tr>\n",
              "      <th>24</th>\n",
              "      <td>Missouri</td>\n",
              "      <td>5988927</td>\n",
              "      <td>6.6</td>\n",
              "      <td>MO</td>\n",
              "    </tr>\n",
              "    <tr>\n",
              "      <th>25</th>\n",
              "      <td>Montana</td>\n",
              "      <td>989415</td>\n",
              "      <td>3.6</td>\n",
              "      <td>MT</td>\n",
              "    </tr>\n",
              "    <tr>\n",
              "      <th>26</th>\n",
              "      <td>Nebraska</td>\n",
              "      <td>1826341</td>\n",
              "      <td>2.9</td>\n",
              "      <td>NE</td>\n",
              "    </tr>\n",
              "    <tr>\n",
              "      <th>27</th>\n",
              "      <td>Nevada</td>\n",
              "      <td>2700551</td>\n",
              "      <td>6.0</td>\n",
              "      <td>NV</td>\n",
              "    </tr>\n",
              "    <tr>\n",
              "      <th>28</th>\n",
              "      <td>New Hampshire</td>\n",
              "      <td>1316470</td>\n",
              "      <td>0.9</td>\n",
              "      <td>NH</td>\n",
              "    </tr>\n",
              "    <tr>\n",
              "      <th>29</th>\n",
              "      <td>New Jersey</td>\n",
              "      <td>8791894</td>\n",
              "      <td>3.9</td>\n",
              "      <td>NJ</td>\n",
              "    </tr>\n",
              "    <tr>\n",
              "      <th>30</th>\n",
              "      <td>New Mexico</td>\n",
              "      <td>2059179</td>\n",
              "      <td>4.8</td>\n",
              "      <td>NM</td>\n",
              "    </tr>\n",
              "    <tr>\n",
              "      <th>31</th>\n",
              "      <td>New York</td>\n",
              "      <td>19378102</td>\n",
              "      <td>3.1</td>\n",
              "      <td>NY</td>\n",
              "    </tr>\n",
              "    <tr>\n",
              "      <th>32</th>\n",
              "      <td>North Carolina</td>\n",
              "      <td>9535483</td>\n",
              "      <td>5.1</td>\n",
              "      <td>NC</td>\n",
              "    </tr>\n",
              "    <tr>\n",
              "      <th>33</th>\n",
              "      <td>North Dakota</td>\n",
              "      <td>672591</td>\n",
              "      <td>3.0</td>\n",
              "      <td>ND</td>\n",
              "    </tr>\n",
              "    <tr>\n",
              "      <th>34</th>\n",
              "      <td>Ohio</td>\n",
              "      <td>11536504</td>\n",
              "      <td>4.0</td>\n",
              "      <td>OH</td>\n",
              "    </tr>\n",
              "    <tr>\n",
              "      <th>35</th>\n",
              "      <td>Oklahoma</td>\n",
              "      <td>3751351</td>\n",
              "      <td>4.5</td>\n",
              "      <td>OK</td>\n",
              "    </tr>\n",
              "    <tr>\n",
              "      <th>36</th>\n",
              "      <td>Oregon</td>\n",
              "      <td>3831074</td>\n",
              "      <td>2.0</td>\n",
              "      <td>OR</td>\n",
              "    </tr>\n",
              "    <tr>\n",
              "      <th>37</th>\n",
              "      <td>Pennsylvania</td>\n",
              "      <td>12702379</td>\n",
              "      <td>4.8</td>\n",
              "      <td>PA</td>\n",
              "    </tr>\n",
              "    <tr>\n",
              "      <th>38</th>\n",
              "      <td>Rhode Island</td>\n",
              "      <td>1052567</td>\n",
              "      <td>2.4</td>\n",
              "      <td>RI</td>\n",
              "    </tr>\n",
              "    <tr>\n",
              "      <th>39</th>\n",
              "      <td>South Carolina</td>\n",
              "      <td>4625364</td>\n",
              "      <td>6.4</td>\n",
              "      <td>SC</td>\n",
              "    </tr>\n",
              "    <tr>\n",
              "      <th>40</th>\n",
              "      <td>South Dakota</td>\n",
              "      <td>814180</td>\n",
              "      <td>2.3</td>\n",
              "      <td>SD</td>\n",
              "    </tr>\n",
              "    <tr>\n",
              "      <th>41</th>\n",
              "      <td>Tennessee</td>\n",
              "      <td>6346105</td>\n",
              "      <td>5.7</td>\n",
              "      <td>TN</td>\n",
              "    </tr>\n",
              "    <tr>\n",
              "      <th>42</th>\n",
              "      <td>Texas</td>\n",
              "      <td>25145561</td>\n",
              "      <td>4.4</td>\n",
              "      <td>TX</td>\n",
              "    </tr>\n",
              "    <tr>\n",
              "      <th>43</th>\n",
              "      <td>Utah</td>\n",
              "      <td>2763885</td>\n",
              "      <td>2.3</td>\n",
              "      <td>UT</td>\n",
              "    </tr>\n",
              "    <tr>\n",
              "      <th>44</th>\n",
              "      <td>Vermont</td>\n",
              "      <td>625741</td>\n",
              "      <td>1.6</td>\n",
              "      <td>VT</td>\n",
              "    </tr>\n",
              "    <tr>\n",
              "      <th>45</th>\n",
              "      <td>Virginia</td>\n",
              "      <td>8001024</td>\n",
              "      <td>4.1</td>\n",
              "      <td>VA</td>\n",
              "    </tr>\n",
              "    <tr>\n",
              "      <th>46</th>\n",
              "      <td>Washington</td>\n",
              "      <td>6724540</td>\n",
              "      <td>2.5</td>\n",
              "      <td>WA</td>\n",
              "    </tr>\n",
              "    <tr>\n",
              "      <th>47</th>\n",
              "      <td>West Virginia</td>\n",
              "      <td>1852994</td>\n",
              "      <td>4.0</td>\n",
              "      <td>WV</td>\n",
              "    </tr>\n",
              "    <tr>\n",
              "      <th>48</th>\n",
              "      <td>Wisconsin</td>\n",
              "      <td>5686986</td>\n",
              "      <td>2.9</td>\n",
              "      <td>WI</td>\n",
              "    </tr>\n",
              "    <tr>\n",
              "      <th>49</th>\n",
              "      <td>Wyoming</td>\n",
              "      <td>563626</td>\n",
              "      <td>2.7</td>\n",
              "      <td>WY</td>\n",
              "    </tr>\n",
              "  </tbody>\n",
              "</table>\n",
              "</div>"
            ],
            "text/plain": [
              "             State  Population  Murder.Rate Abbreviation\n",
              "0          Alabama     4779736          5.7           AL\n",
              "1           Alaska      710231          5.6           AK\n",
              "2          Arizona     6392017          4.7           AZ\n",
              "3         Arkansas     2915918          5.6           AR\n",
              "4       California    37253956          4.4           CA\n",
              "5         Colorado     5029196          2.8           CO\n",
              "6      Connecticut     3574097          2.4           CT\n",
              "7         Delaware      897934          5.8           DE\n",
              "8          Florida    18801310          5.8           FL\n",
              "9          Georgia     9687653          5.7           GA\n",
              "10          Hawaii     1360301          1.8           HI\n",
              "11           Idaho     1567582          2.0           ID\n",
              "12        Illinois    12830632          5.3           IL\n",
              "13         Indiana     6483802          5.0           IN\n",
              "14            Iowa     3046355          1.9           IA\n",
              "15          Kansas     2853118          3.1           KS\n",
              "16        Kentucky     4339367          3.6           KY\n",
              "17       Louisiana     4533372         10.3           LA\n",
              "18           Maine     1328361          1.6           ME\n",
              "19        Maryland     5773552          6.1           MD\n",
              "20   Massachusetts     6547629          2.0           MA\n",
              "21        Michigan     9883640          5.4           MI\n",
              "22       Minnesota     5303925          1.6           MN\n",
              "23     Mississippi     2967297          8.6           MS\n",
              "24        Missouri     5988927          6.6           MO\n",
              "25         Montana      989415          3.6           MT\n",
              "26        Nebraska     1826341          2.9           NE\n",
              "27          Nevada     2700551          6.0           NV\n",
              "28   New Hampshire     1316470          0.9           NH\n",
              "29      New Jersey     8791894          3.9           NJ\n",
              "30      New Mexico     2059179          4.8           NM\n",
              "31        New York    19378102          3.1           NY\n",
              "32  North Carolina     9535483          5.1           NC\n",
              "33    North Dakota      672591          3.0           ND\n",
              "34            Ohio    11536504          4.0           OH\n",
              "35        Oklahoma     3751351          4.5           OK\n",
              "36          Oregon     3831074          2.0           OR\n",
              "37    Pennsylvania    12702379          4.8           PA\n",
              "38    Rhode Island     1052567          2.4           RI\n",
              "39  South Carolina     4625364          6.4           SC\n",
              "40    South Dakota      814180          2.3           SD\n",
              "41       Tennessee     6346105          5.7           TN\n",
              "42           Texas    25145561          4.4           TX\n",
              "43            Utah     2763885          2.3           UT\n",
              "44         Vermont      625741          1.6           VT\n",
              "45        Virginia     8001024          4.1           VA\n",
              "46      Washington     6724540          2.5           WA\n",
              "47   West Virginia     1852994          4.0           WV\n",
              "48       Wisconsin     5686986          2.9           WI\n",
              "49         Wyoming      563626          2.7           WY"
            ]
          },
          "metadata": {},
          "execution_count": 7
        }
      ]
    },
    {
      "cell_type": "code",
      "metadata": {
        "colab": {
          "base_uri": "https://localhost:8080/",
          "height": 280
        },
        "id": "Ov4qhwUTfX9A",
        "outputId": "931894d5-8123-4824-e9c2-ffd69624fd44"
      },
      "source": [
        "outcomes = df[\"Murder.Rate\"]\n",
        "plt.hist(outcomes, density = True)\n",
        "plt.xlabel('Murder_Rate')\n",
        "plt.ylabel('Probability of outcome')\n",
        "plt.show()"
      ],
      "execution_count": 29,
      "outputs": [
        {
          "output_type": "display_data",
          "data": {
            "image/png": "[encoded data removed]",
            "text/plain": [
              "<Figure size 432x288 with 1 Axes>"
            ]
          },
          "metadata": {
            "needs_background": "light"
          }
        }
      ]
    },
    {
      "cell_type": "code",
      "metadata": {
        "colab": {
          "base_uri": "https://localhost:8080/",
          "height": 266
        },
        "id": "SShgb5tIhxVu",
        "outputId": "9ba69298-8243-4a27-a58c-04b6aed43169"
      },
      "source": [
        "plt.boxplot(outcomes,labels=[\"Murder_Rate\"])\n",
        "plt.show()"
      ],
      "execution_count": null,
      "outputs": [
        {
          "output_type": "display_data",
          "data": {
            "image/png": "[encoded data removed]",
            "text/plain": [
              "<Figure size 432x288 with 1 Axes>"
            ]
          },
          "metadata": {
            "needs_background": "light"
          }
        }
      ]
    },
    {
      "cell_type": "code",
      "metadata": {
        "colab": {
          "base_uri": "https://localhost:8080/",
          "height": 333
        },
        "id": "jR42-e41h9JH",
        "outputId": "6ef50f2b-f501-4b13-dd9f-fb6c7b07bd44"
      },
      "source": [
        "from statsmodels.graphics.gofplots import qqplot\n",
        "qqplot(outcomes, line='s')\n",
        "plt.show()"
      ],
      "execution_count": null,
      "outputs": [
        {
          "output_type": "stream",
          "name": "stderr",
          "text": [
            "/usr/local/lib/python3.7/dist-packages/statsmodels/tools/_testing.py:19: FutureWarning: pandas.util.testing is deprecated. Use the functions in the public API at pandas.testing instead.\n",
            "  import pandas.util.testing as tm\n"
          ]
        },
        {
          "output_type": "display_data",
          "data": {
            "image/png": "[encoded data removed]",
            "text/plain": [
              "<Figure size 432x288 with 1 Axes>"
            ]
          },
          "metadata": {
            "needs_background": "light"
          }
        }
      ]
    },
    {
      "cell_type": "code",
      "metadata": {
        "colab": {
          "base_uri": "https://localhost:8080/"
        },
        "id": "oeJQOy2ki5Tn",
        "outputId": "1702fe94-cb62-4366-c6cf-1a9248e61b79"
      },
      "source": [
        "stats.normaltest(outcomes)"
      ],
      "execution_count": null,
      "outputs": [
        {
          "output_type": "execute_result",
          "data": {
            "text/plain": [
              "NormaltestResult(statistic=7.185009352854112, pvalue=0.027529292031120874)"
            ]
          },
          "metadata": {},
          "execution_count": 63
        }
      ]
    },
    {
      "cell_type": "code",
      "metadata": {
        "colab": {
          "base_uri": "https://localhost:8080/"
        },
        "id": "TbYUfhE4kXQ6",
        "outputId": "696b344e-fbf3-4c9d-b13f-ba1366ba751a"
      },
      "source": [
        "stats.skewtest(outcomes)"
      ],
      "execution_count": null,
      "outputs": [
        {
          "output_type": "execute_result",
          "data": {
            "text/plain": [
              "SkewtestResult(statistic=2.247890600555753, pvalue=0.024583166683903)"
            ]
          },
          "metadata": {},
          "execution_count": 64
        }
      ]
    },
    {
      "cell_type": "code",
      "metadata": {
        "colab": {
          "base_uri": "https://localhost:8080/"
        },
        "id": "HXMqK84xka9a",
        "outputId": "a607173f-d39c-4e9b-9827-5c9713577b13"
      },
      "source": [
        "stats.kurtosistest(outcomes)"
      ],
      "execution_count": null,
      "outputs": [
        {
          "output_type": "execute_result",
          "data": {
            "text/plain": [
              "KurtosistestResult(statistic=1.4601360213306185, pvalue=0.14425269448259506)"
            ]
          },
          "metadata": {},
          "execution_count": 65
        }
      ]
    },
    {
      "cell_type": "markdown",
      "metadata": {
        "id": "qySk7UdZ-pLS"
      },
      "source": [
        "#**Q3**"
      ]
    },
    {
      "cell_type": "code",
      "metadata": {
        "colab": {
          "base_uri": "https://localhost:8080/",
          "height": 265
        },
        "id": "PRn87Z-HyWAN",
        "outputId": "77f7aab7-a9d8-4195-beab-9cd36a4aab13"
      },
      "source": [
        "mu = 100\n",
        "sigma = 5\n",
        "x = np.linspace(mu - 5*sigma, mu + 5*sigma, 500)\n",
        "plt.plot(x, norm.pdf(x, mu, sigma))\n",
        "plt.show()"
      ],
      "execution_count": null,
      "outputs": [
        {
          "output_type": "display_data",
          "data": {
            "image/png": "[encoded data removed]",
            "text/plain": [
              "<Figure size 432x288 with 1 Axes>"
            ]
          },
          "metadata": {
            "needs_background": "light"
          }
        }
      ]
    },
    {
      "cell_type": "markdown",
      "metadata": {
        "id": "wEII64cG-1kO"
      },
      "source": [
        "#**Q3(a)**"
      ]
    },
    {
      "cell_type": "code",
      "metadata": {
        "colab": {
          "base_uri": "https://localhost:8080/",
          "height": 265
        },
        "id": "ELHPWYEKym9i",
        "outputId": "f18c1251-efcf-482c-efed-8014e38972f0"
      },
      "source": [
        "mu = 200\n",
        "sigma = 5\n",
        "x = np.linspace(mu - 5*sigma, mu + 5*sigma, 500)\n",
        "plt.plot(x, norm.pdf(x, mu, sigma))\n",
        "plt.show()"
      ],
      "execution_count": null,
      "outputs": [
        {
          "output_type": "display_data",
          "data": {
            "image/png": "[encoded data removed]",
            "text/plain": [
              "<Figure size 432x288 with 1 Axes>"
            ]
          },
          "metadata": {
            "needs_background": "light"
          }
        }
      ]
    },
    {
      "cell_type": "markdown",
      "metadata": {
        "id": "N3rB_u1d-9Ki"
      },
      "source": [
        "#**Q3(b)**"
      ]
    },
    {
      "cell_type": "code",
      "metadata": {
        "colab": {
          "base_uri": "https://localhost:8080/",
          "height": 265
        },
        "id": "28zWaQ0N5D3B",
        "outputId": "ca4126ea-cdf1-4f5f-f54b-cdd7790f80ee"
      },
      "source": [
        "mu = 100\n",
        "sigma = 10\n",
        "x = np.linspace(mu - 5*sigma, mu + 5*sigma, 500)\n",
        "plt.plot(x, norm.pdf(x, mu, sigma))\n",
        "plt.show()"
      ],
      "execution_count": null,
      "outputs": [
        {
          "output_type": "display_data",
          "data": {
            "image/png": "[encoded data removed]",
            "text/plain": [
              "<Figure size 432x288 with 1 Axes>"
            ]
          },
          "metadata": {
            "needs_background": "light"
          }
        }
      ]
    },
    {
      "cell_type": "markdown",
      "metadata": {
        "id": "_x3sDU3q-_hX"
      },
      "source": [
        "#**Q3(c)**"
      ]
    },
    {
      "cell_type": "code",
      "metadata": {
        "colab": {
          "base_uri": "https://localhost:8080/",
          "height": 265
        },
        "id": "2VfLCk5u-_V2",
        "outputId": "adeab11e-1cda-4112-b042-4b9074990dd4"
      },
      "source": [
        "mu = 200\n",
        "sigma = 10\n",
        "x = np.linspace(mu - 5*sigma, mu + 5*sigma, 500)\n",
        "plt.plot(x, norm.pdf(x, mu, sigma))\n",
        "plt.show()"
      ],
      "execution_count": null,
      "outputs": [
        {
          "output_type": "display_data",
          "data": {
            "image/png": "[encoded data removed]",
            "text/plain": [
              "<Figure size 432x288 with 1 Axes>"
            ]
          },
          "metadata": {
            "needs_background": "light"
          }
        }
      ]
    },
    {
      "cell_type": "markdown",
      "metadata": {
        "id": "NFe4M0LaXdmW"
      },
      "source": [
        "#**Q4**"
      ]
    },
    {
      "cell_type": "code",
      "metadata": {
        "colab": {
          "base_uri": "https://localhost:8080/",
          "height": 296
        },
        "id": "YFwQ6H5zS3eX",
        "outputId": "f9332684-9d59-4c88-d57e-7d0033c78b8c"
      },
      "source": [
        "n = 100\n",
        "rng = np.random.RandomState(123)\n",
        "dice_rolls = rng.choice(np.arange(1, 7), size = 100, p=[0.1, 0.1, 0.1, 0.1, 0.5, 0.1])\n",
        "\n",
        "outcome = np.bincount(dice_rolls)[1:] / n * 100 \n",
        "plt.bar(range(1, 7), outcome)\n",
        "plt.ylabel('Probability of event')\n",
        "plt.xlabel('Die roll outcome')"
      ],
      "execution_count": 40,
      "outputs": [
        {
          "output_type": "execute_result",
          "data": {
            "text/plain": [
              "Text(0.5, 0, 'Die roll outcome')"
            ]
          },
          "metadata": {},
          "execution_count": 40
        },
        {
          "output_type": "display_data",
          "data": {
            "image/png": "[encoded data removed]",
            "text/plain": [
              "<Figure size 432x288 with 1 Axes>"
            ]
          },
          "metadata": {
            "needs_background": "light"
          }
        }
      ]
    },
    {
      "cell_type": "code",
      "metadata": {
        "colab": {
          "base_uri": "https://localhost:8080/",
          "height": 279
        },
        "id": "1NOltSqqVKSJ",
        "outputId": "8148d7b1-779c-402d-9f67-280b2b12e42e"
      },
      "source": [
        "p = 0.1 # probability_rolling a 6\n",
        "n = 100 # number of die rolls\n",
        "\n",
        "rng = np.random.RandomState(1)\n",
        "outcomes = rng.binomial(n, p, size=1000)\n",
        "\n",
        "plt.hist(outcomes, density=True)\n",
        "plt.xlabel('Number of rolling a 6 in 100 die rolls')\n",
        "plt.ylabel('Probability of outcome')\n",
        "plt.show()"
      ],
      "execution_count": 41,
      "outputs": [
        {
          "output_type": "display_data",
          "data": {
            "image/png": "[encoded data removed]",
            "text/plain": [
              "<Figure size 432x288 with 1 Axes>"
            ]
          },
          "metadata": {
            "needs_background": "light"
          }
        }
      ]
    },
    {
      "cell_type": "code",
      "metadata": {
        "id": "AaZvCFKLDXvW"
      },
      "source": [
        "def probability_success_4(k, no_of_experiments):\n",
        "  outcomes = []\n",
        "  rng = np.random.RandomState(10)\n",
        "  for i in range(no_of_experiments):\n",
        "    dice_rolls = rng.choice(np.arange(1, 7), size = 100, p=[0.1, 0.1, 0.1, 0.1, 0.5, 0.1])\n",
        "    num_six = (dice_rolls == k).sum()\n",
        "    outcomes.append(num_six)\n",
        "  return outcomes"
      ],
      "execution_count": 52,
      "outputs": []
    },
    {
      "cell_type": "code",
      "metadata": {
        "colab": {
          "base_uri": "https://localhost:8080/",
          "height": 279
        },
        "id": "38is5KEXDpMY",
        "outputId": "9af196d8-aced-47d2-d381-e78e5fd97da6"
      },
      "source": [
        "outcomes = probability_success_4(6, 1000)\n",
        "plt.hist(outcomes, density=True)\n",
        "plt.xlabel('Number of rolling a 6 in 100 die rolls')\n",
        "plt.ylabel('Probability of outcome')\n",
        "plt.show()"
      ],
      "execution_count": 53,
      "outputs": [
        {
          "output_type": "display_data",
          "data": {
            "image/png": "[encoded data removed]",
            "text/plain": [
              "<Figure size 432x288 with 1 Axes>"
            ]
          },
          "metadata": {
            "needs_background": "light"
          }
        }
      ]
    },
    {
      "cell_type": "markdown",
      "metadata": {
        "id": "jRejMu6yXjW7"
      },
      "source": [
        "#**Q5**"
      ]
    },
    {
      "cell_type": "code",
      "metadata": {
        "colab": {
          "base_uri": "https://localhost:8080/",
          "height": 296
        },
        "id": "9wa-gPmCVtrc",
        "outputId": "cd510a6d-5e54-4947-e40f-138d606e0a6b"
      },
      "source": [
        "n = 1000\n",
        "rng = np.random.RandomState(123)\n",
        "dice_rolls = rng.choice(np.arange(1, 7), size = 1000, p=[0.1, 0.1, 0.1, 0.4, 0.2, 0.1])\n",
        "\n",
        "outcome = np.bincount(dice_rolls)[1:] / n * 100 \n",
        "plt.bar(range(1, 7), outcome)\n",
        "plt.ylabel('Probability of event')\n",
        "plt.xlabel('Die roll outcome')"
      ],
      "execution_count": 54,
      "outputs": [
        {
          "output_type": "execute_result",
          "data": {
            "text/plain": [
              "Text(0.5, 0, 'Die roll outcome')"
            ]
          },
          "metadata": {},
          "execution_count": 54
        },
        {
          "output_type": "display_data",
          "data": {
            "image/png": "[encoded data removed]",
            "text/plain": [
              "<Figure size 432x288 with 1 Axes>"
            ]
          },
          "metadata": {
            "needs_background": "light"
          }
        }
      ]
    },
    {
      "cell_type": "code",
      "metadata": {
        "colab": {
          "base_uri": "https://localhost:8080/",
          "height": 279
        },
        "id": "PQTFK4snXPOw",
        "outputId": "27710eaf-59c7-4913-eb79-8f74b9e1c218"
      },
      "source": [
        "p = 0.1 # probability_rolling a 6\n",
        "n = 1000 # number of die rolls\n",
        "\n",
        "rng = np.random.RandomState(1)\n",
        "outcomes = rng.binomial(n, p, size=1000)\n",
        "\n",
        "plt.hist(outcomes, density=True)\n",
        "plt.xlabel('Number of rolling a 6 in 1000 die rolls')\n",
        "plt.ylabel('Probability of outcome')\n",
        "plt.show()"
      ],
      "execution_count": 55,
      "outputs": [
        {
          "output_type": "display_data",
          "data": {
            "image/png": "[encoded data removed]",
            "text/plain": [
              "<Figure size 432x288 with 1 Axes>"
            ]
          },
          "metadata": {
            "needs_background": "light"
          }
        }
      ]
    },
    {
      "cell_type": "code",
      "metadata": {
        "id": "-ukYLIdeFyr3"
      },
      "source": [
        "def probability_success_5(k, no_of_experiments):\n",
        "  outcomes = []\n",
        "  rng = np.random.RandomState(1)\n",
        "  for i in range(no_of_experiments):\n",
        "    dice_rolls = rng.choice(np.arange(1, 7), size = 1000, p=[0.1, 0.1, 0.1, 0.4, 0.2, 0.1])\n",
        "    num_six = (dice_rolls == k).sum()\n",
        "    outcomes.append(num_six)\n",
        "  return outcomes"
      ],
      "execution_count": 61,
      "outputs": []
    },
    {
      "cell_type": "code",
      "metadata": {
        "colab": {
          "base_uri": "https://localhost:8080/",
          "height": 279
        },
        "id": "wckhjf-qF3vw",
        "outputId": "17a9b27e-7906-43fb-b8a5-5d93c83463ff"
      },
      "source": [
        "outcomes = probability_success_5(6, 1000)\n",
        "plt.hist(outcomes, density=True)\n",
        "plt.xlabel('Number of rolling a 6 in 1000 die rolls')\n",
        "plt.ylabel('Probability of outcome')\n",
        "plt.show()"
      ],
      "execution_count": 62,
      "outputs": [
        {
          "output_type": "display_data",
          "data": {
            "image/png": "[encoded data removed]",
            "text/plain": [
              "<Figure size 432x288 with 1 Axes>"
            ]
          },
          "metadata": {
            "needs_background": "light"
          }
        }
      ]
    },
    {
      "cell_type": "markdown",
      "metadata": {
        "id": "MHq4wVf2Bp_S"
      },
      "source": [
        "#**Q6**\n",
        "\n"
      ]
    },
    {
      "cell_type": "code",
      "metadata": {
        "id": "LZ5tj_b9-8Gf"
      },
      "source": [
        "def draw_z_score(x, q25, cond, mu, sigma, title):\n",
        "    y = norm.pdf(x, mu, sigma)\n",
        "    z = x[cond]\n",
        "    plt.plot(x, y)\n",
        "    plt.fill_between(z, 0, norm.pdf(z, mu, sigma))\n",
        "    plt.axvline(q25, color='red')\n",
        "    plt.title(title)\n",
        "    plt.show()"
      ],
      "execution_count": null,
      "outputs": []
    },
    {
      "cell_type": "code",
      "metadata": {
        "colab": {
          "base_uri": "https://localhost:8080/",
          "height": 281
        },
        "id": "oPsE9O9tE07f",
        "outputId": "32a1424b-8f0d-45fe-e376-795b445eb0e5"
      },
      "source": [
        "mu = 50\n",
        "sigma = 10\n",
        "q25 = norm.ppf(0.25, loc = mu, scale = sigma)\n",
        "x = np.linspace(mu - 5*sigma, mu + 5*sigma, 2000)\n",
        "draw_z_score(x, q25, x>=q25, 50, 10, 'Area above 25 precentile')"
      ],
      "execution_count": null,
      "outputs": [
        {
          "output_type": "display_data",
          "data": {
            "image/png": "[encoded data removed]",
            "text/plain": [
              "<Figure size 432x288 with 1 Axes>"
            ]
          },
          "metadata": {
            "needs_background": "light"
          }
        }
      ]
    }
  ]
}