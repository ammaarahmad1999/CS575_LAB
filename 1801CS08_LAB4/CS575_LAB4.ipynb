{
  "nbformat": 4,
  "nbformat_minor": 0,
  "metadata": {
    "colab": {
      "name": "CS575_LAB4.ipynb",
      "provenance": [],
      "collapsed_sections": []
    },
    "kernelspec": {
      "name": "python3",
      "display_name": "Python 3"
    },
    "language_info": {
      "name": "python"
    }
  },
  "cells": [
    {
      "cell_type": "code",
      "metadata": {
        "id": "_lYQZh_97OAm"
      },
      "source": [
        "import pandas as pd\n",
        "import numpy as np"
      ],
      "execution_count": null,
      "outputs": []
    },
    {
      "cell_type": "code",
      "metadata": {
        "colab": {
          "base_uri": "https://localhost:8080/"
        },
        "id": "QaRiKAszPZsJ",
        "outputId": "0722fa3c-786c-498d-8969-13f18db209c9"
      },
      "source": [
        "import matplotlib.pyplot as plt\n",
        "import numpy as np\n",
        "import scipy.stats as stats\n",
        "from scipy.stats import norm, pearsonr, skew, kurtosis\n",
        "import math\n",
        "import pandas as pd\n",
        "from statsmodels.graphics.gofplots import qqplot\n",
        "plt.style.use('ggplot')"
      ],
      "execution_count": null,
      "outputs": [
        {
          "output_type": "stream",
          "name": "stderr",
          "text": [
            "/usr/local/lib/python3.7/dist-packages/statsmodels/tools/_testing.py:19: FutureWarning: pandas.util.testing is deprecated. Use the functions in the public API at pandas.testing instead.\n",
            "  import pandas.util.testing as tm\n"
          ]
        }
      ]
    },
    {
      "cell_type": "code",
      "metadata": {
        "id": "_2xXjuNHcE3w"
      },
      "source": [
        "from scipy.stats import f_oneway"
      ],
      "execution_count": null,
      "outputs": []
    },
    {
      "cell_type": "code",
      "metadata": {
        "id": "IN_wsFh5ls6V"
      },
      "source": [
        "from numpy import mean\n",
        "from math import sqrt\n",
        "from scipy.stats import sem, t"
      ],
      "execution_count": null,
      "outputs": []
    },
    {
      "cell_type": "markdown",
      "metadata": {
        "id": "CD2DRRW7H6BN"
      },
      "source": [
        "#**Task 1**\n"
      ]
    },
    {
      "cell_type": "markdown",
      "metadata": {
        "id": "I4IJ0d4jf9W-"
      },
      "source": [
        "## Task 1\n",
        "An organization recruits 30 students to participate in a study. For next 4 weeks, the students are randomly assigned to use one of the 3 studying approaches to prepare for an exam. At the end of the training period, all students take same each group.  Following are the exam scores for each group:\n",
        "\n",
        "<img width=\"444\" height=\"555\" alt=\"Screenshot 2021-09-15 at 1 36 16 PM\" src=\"https://user-images.githubusercontent.com/43731599/133395598-1c56714d-f9dd-466b-ae8c-0a8f25a2c69f.png\">\n"
      ]
    },
    {
      "cell_type": "code",
      "metadata": {
        "id": "rHA01jAQJpvn"
      },
      "source": [
        "group1=np.array([85,86,88,75,78,94,98,79,71,80])\n",
        "group2=np.array([79,78,88,94,92,85,83,85,82,81])\n",
        "group3=np.array([91,92,93,85,87,84,82,88,95,96])"
      ],
      "execution_count": null,
      "outputs": []
    },
    {
      "cell_type": "markdown",
      "metadata": {
        "id": "XGn0drXGQ0rA"
      },
      "source": [
        "#Q1"
      ]
    },
    {
      "cell_type": "code",
      "metadata": {
        "id": "H6WY4Q8RJuAU"
      },
      "source": [
        "def calculate(group):\n",
        "  \n",
        "  length = len(group)\n",
        "  group = np.sort(group)\n",
        "  mean = sum(group)/length\n",
        "  if (length%2):\n",
        "    median = group[length//2]\n",
        "  else:\n",
        "    median = (group[length//2] + group[length//2 - 1])/2\n",
        "\n",
        "  variance = sum((group - mean)**2)/length\n",
        "  std = sqrt(variance)\n",
        "  skewness = sum((group - mean)**3)/(length*std**3)\n",
        "  kurtosis_value = sum((group - mean)**4)/(length*variance*variance)\n",
        "  kurtosis_value = kurtosis_value - 3\n",
        "\n",
        "  return mean, median, variance, std, skewness, kurtosis_value"
      ],
      "execution_count": null,
      "outputs": []
    },
    {
      "cell_type": "markdown",
      "metadata": {
        "id": "MtoodQ3JQ_W3"
      },
      "source": [
        "Group1"
      ]
    },
    {
      "cell_type": "code",
      "metadata": {
        "colab": {
          "base_uri": "https://localhost:8080/"
        },
        "id": "tQNfeIfBJyM0",
        "outputId": "cda43797-5deb-4490-92f5-cb1ab478d1cc"
      },
      "source": [
        "mean, median, variance, std, skewness, kurtosis_value = calculate(group1)\n",
        "print(f'Mean = {mean}, Median = {median}')\n",
        "print(f'Variance = {variance}, Standard Deviation = {std}')\n",
        "print(f'Skewness = {skewness}, Kurtosis = {kurtosis_value}')"
      ],
      "execution_count": null,
      "outputs": [
        {
          "output_type": "stream",
          "name": "stdout",
          "text": [
            "Mean = 83.4, Median = 82.5\n",
            "Variance = 64.04, Standard Deviation = 8.002499609497024\n",
            "Skewness = 0.3201841554571654, Kurtosis = -0.8410405582706946\n"
          ]
        }
      ]
    },
    {
      "cell_type": "code",
      "metadata": {
        "colab": {
          "base_uri": "https://localhost:8080/"
        },
        "id": "Y_-EsgdERBez",
        "outputId": "269befa1-17af-4e4d-e6cf-f514446405d2"
      },
      "source": [
        "mean, median, skewness, kurtosis_value = np.mean(group1), np.median(group1), skew(group1), kurtosis(group1)\n",
        "print(f'Mean = {mean}, Median = {median}')\n",
        "print(f'Skewness = {skewness}, Kurtosis = {kurtosis_value}')"
      ],
      "execution_count": null,
      "outputs": [
        {
          "output_type": "stream",
          "name": "stdout",
          "text": [
            "Mean = 83.4, Median = 82.5\n",
            "Skewness = 0.32018415545716544, Kurtosis = -0.841040558270695\n"
          ]
        }
      ]
    },
    {
      "cell_type": "markdown",
      "metadata": {
        "id": "TQdAiekSRnou"
      },
      "source": [
        "Group2"
      ]
    },
    {
      "cell_type": "code",
      "metadata": {
        "colab": {
          "base_uri": "https://localhost:8080/"
        },
        "id": "zR860ba5QkVu",
        "outputId": "2b043191-f6ee-4584-f944-00666f01da58"
      },
      "source": [
        "mean, median, variance, std, skewness, kurtosis_value = calculate(group2)\n",
        "print(f'Mean = {mean}, Median = {median}')\n",
        "print(f'Variance = {variance}, Standard Deviation = {std}')\n",
        "print(f'Skewness = {skewness}, Kurtosis = {kurtosis_value}')"
      ],
      "execution_count": null,
      "outputs": [
        {
          "output_type": "stream",
          "name": "stdout",
          "text": [
            "Mean = 84.7, Median = 84.0\n",
            "Variance = 25.21, Standard Deviation = 5.020956084253277\n",
            "Skewness = 0.5278629787066954, Kurtosis = -0.8351499132790328\n"
          ]
        }
      ]
    },
    {
      "cell_type": "code",
      "metadata": {
        "colab": {
          "base_uri": "https://localhost:8080/"
        },
        "id": "PgSbt1aARsUU",
        "outputId": "f7473c10-f70a-42f4-9d95-b3bcf9131ba4"
      },
      "source": [
        "mean, median, skewness, kurtosis_value = np.mean(group2), np.median(group2), skew(group2), kurtosis(group2)\n",
        "print(f'Mean = {mean}, Median = {median}')\n",
        "print(f'Skewness = {skewness}, Kurtosis = {kurtosis_value}')"
      ],
      "execution_count": null,
      "outputs": [
        {
          "output_type": "stream",
          "name": "stdout",
          "text": [
            "Mean = 84.7, Median = 84.0\n",
            "Skewness = 0.5278629787066953, Kurtosis = -0.8351499132790328\n"
          ]
        }
      ]
    },
    {
      "cell_type": "markdown",
      "metadata": {
        "id": "6P9n6y4_Rt9n"
      },
      "source": [
        "Group3"
      ]
    },
    {
      "cell_type": "code",
      "metadata": {
        "colab": {
          "base_uri": "https://localhost:8080/"
        },
        "id": "jkxHkZXcQlsU",
        "outputId": "d74d985e-46f0-4497-9e50-a2fa3d321fd5"
      },
      "source": [
        "mean, median, variance, std, skewness, kurtosis_value = calculate(group3)\n",
        "print(f'Mean = {mean}, Median = {median}')\n",
        "print(f'Variance = {variance}, Standard Deviation = {std}')\n",
        "print(f'Skewness = {skewness}, Kurtosis = {kurtosis_value}')"
      ],
      "execution_count": null,
      "outputs": [
        {
          "output_type": "stream",
          "name": "stdout",
          "text": [
            "Mean = 89.3, Median = 89.5\n",
            "Variance = 20.810000000000002, Standard Deviation = 4.561797891182818\n",
            "Skewness = -0.07432765851857329, Kurtosis = -1.3094067951011432\n"
          ]
        }
      ]
    },
    {
      "cell_type": "code",
      "metadata": {
        "colab": {
          "base_uri": "https://localhost:8080/"
        },
        "id": "Ve4vgbUWRvyB",
        "outputId": "aa9e83d7-3054-4fd2-826a-7c49583ffe49"
      },
      "source": [
        "mean, median, skewness, kurtosis_value = np.mean(group3), np.median(group3), skew(group3), kurtosis(group3)\n",
        "print(f'Mean = {mean}, Median = {median}')\n",
        "print(f'Skewness = {skewness}, Kurtosis = {kurtosis_value}')"
      ],
      "execution_count": null,
      "outputs": [
        {
          "output_type": "stream",
          "name": "stdout",
          "text": [
            "Mean = 89.3, Median = 89.5\n",
            "Skewness = -0.07432765851857343, Kurtosis = -1.309406795101143\n"
          ]
        }
      ]
    },
    {
      "cell_type": "markdown",
      "metadata": {
        "id": "qW2geInyYVLE"
      },
      "source": [
        "#Q2"
      ]
    },
    {
      "cell_type": "code",
      "metadata": {
        "id": "rgoH4g8vc9IA"
      },
      "source": [
        "from numpy import mean"
      ],
      "execution_count": null,
      "outputs": []
    },
    {
      "cell_type": "code",
      "metadata": {
        "id": "X--EXsDVYWv5"
      },
      "source": [
        "#Calculate Mean of each group\n",
        "m1 = np.mean(group1)\n",
        "m2 = np.mean(group2)\n",
        "m3 = np.mean(group3)\n",
        "\n",
        "#Overall Mean\n",
        "m = (m1+m2+m3)/3\n",
        "\n",
        "#Between Group mean sum of squares\n",
        "SSB=10*((m1-m)**2+(m2-m)**2+(m3-m)**2)\n",
        "MSB=SSB/2\n",
        "\n",
        "#Within Group mean sum of squares\n",
        "SSW = np.sum((group1 - m1)**2) + np.sum((group2 - m2)**2) + np.sum((group3 - m3)**2)\n",
        "MSW = SSW/27\n",
        "\n",
        "#Calculate F Statistics\n",
        "F = MSB/MSW"
      ],
      "execution_count": null,
      "outputs": []
    },
    {
      "cell_type": "code",
      "metadata": {
        "colab": {
          "base_uri": "https://localhost:8080/"
        },
        "id": "ykdokhoTcCCI",
        "outputId": "9a2e686e-9e8b-425f-e2f6-169fbdbc766a"
      },
      "source": [
        "from scipy.stats import f\n",
        "p = 1-f.cdf(F, 2, 27)\n",
        "print(f'F-statistic = {F}, P-value = {p}')"
      ],
      "execution_count": null,
      "outputs": [
        {
          "output_type": "stream",
          "name": "stdout",
          "text": [
            "F-statistic = 2.3575322551335565, P-value = 0.11384795345837273\n"
          ]
        }
      ]
    },
    {
      "cell_type": "markdown",
      "metadata": {
        "id": "NQrksM6DZmDK"
      },
      "source": [
        "we compare this to the F critical value found in the F distribution table with the values :\\\n",
        "α (significance level) = 0.05\\\n",
        "DF1 (numerator degrees of freedom) = 2\\\n",
        "DF2 (denominator degrees of freedom) = 27"
      ]
    },
    {
      "cell_type": "markdown",
      "metadata": {
        "id": "EFje_VzIZ7h5"
      },
      "source": [
        "If the F test statistic in the ANOVA table is less than the F critical value in the F distribution table, then we fail to reject the null hypothesis."
      ]
    },
    {
      "cell_type": "markdown",
      "metadata": {
        "id": "soK_xUL-d1Dl"
      },
      "source": [
        "P-value > 0.05 (significance value) hence we fail to reject the null hyptohesis"
      ]
    },
    {
      "cell_type": "markdown",
      "metadata": {
        "id": "VSMS82FCQ3nT"
      },
      "source": [
        "#Q3"
      ]
    },
    {
      "cell_type": "code",
      "metadata": {
        "colab": {
          "base_uri": "https://localhost:8080/"
        },
        "id": "URsNaClAQr_B",
        "outputId": "d8fc8f59-a035-4053-dbff-9956c5041c45"
      },
      "source": [
        "stats.f_oneway(group1,group2,group3)"
      ],
      "execution_count": null,
      "outputs": [
        {
          "output_type": "execute_result",
          "data": {
            "text/plain": [
              "F_onewayResult(statistic=2.3575322551335636, pvalue=0.11384795345837218)"
            ]
          },
          "metadata": {},
          "execution_count": 16
        }
      ]
    },
    {
      "cell_type": "markdown",
      "metadata": {
        "id": "_M3Xs7IZVC3N"
      },
      "source": [
        "P value > 0.05 indicates that there is possibility of mean of 3 groups being from same distribution and hence we cannot reject the Null hypothesis"
      ]
    },
    {
      "cell_type": "markdown",
      "metadata": {
        "id": "cIkoA52vLYhr"
      },
      "source": [
        "#**Task2**"
      ]
    },
    {
      "cell_type": "markdown",
      "metadata": {
        "id": "XPoZOSQjOJXj"
      },
      "source": [
        "#Q1"
      ]
    },
    {
      "cell_type": "code",
      "metadata": {
        "id": "W_iGj8VmLn-C"
      },
      "source": [
        "df = pd.read_csv(\"https://raw.githubusercontent.com/ammaarahmad1999/Time_Series_Dataset/main/stcp-Rdataset-Diet.csv\")"
      ],
      "execution_count": null,
      "outputs": []
    },
    {
      "cell_type": "code",
      "metadata": {
        "colab": {
          "base_uri": "https://localhost:8080/",
          "height": 357
        },
        "id": "o1bHtdfANfsT",
        "outputId": "682d0005-0dbf-47fa-e528-30e831a0ebcd"
      },
      "source": [
        "df.sample(10)"
      ],
      "execution_count": null,
      "outputs": [
        {
          "output_type": "execute_result",
          "data": {
            "text/html": [
              "<div>\n",
              "<style scoped>\n",
              "    .dataframe tbody tr th:only-of-type {\n",
              "        vertical-align: middle;\n",
              "    }\n",
              "\n",
              "    .dataframe tbody tr th {\n",
              "        vertical-align: top;\n",
              "    }\n",
              "\n",
              "    .dataframe thead th {\n",
              "        text-align: right;\n",
              "    }\n",
              "</style>\n",
              "<table border=\"1\" class=\"dataframe\">\n",
              "  <thead>\n",
              "    <tr style=\"text-align: right;\">\n",
              "      <th></th>\n",
              "      <th>Person</th>\n",
              "      <th>gender</th>\n",
              "      <th>Age</th>\n",
              "      <th>Height</th>\n",
              "      <th>pre.weight</th>\n",
              "      <th>Diet</th>\n",
              "      <th>weight6weeks</th>\n",
              "    </tr>\n",
              "  </thead>\n",
              "  <tbody>\n",
              "    <tr>\n",
              "      <th>74</th>\n",
              "      <td>75</td>\n",
              "      <td>1</td>\n",
              "      <td>49</td>\n",
              "      <td>177</td>\n",
              "      <td>84</td>\n",
              "      <td>3</td>\n",
              "      <td>79.9</td>\n",
              "    </tr>\n",
              "    <tr>\n",
              "      <th>48</th>\n",
              "      <td>18</td>\n",
              "      <td>1</td>\n",
              "      <td>50</td>\n",
              "      <td>160</td>\n",
              "      <td>78</td>\n",
              "      <td>1</td>\n",
              "      <td>73.9</td>\n",
              "    </tr>\n",
              "    <tr>\n",
              "      <th>72</th>\n",
              "      <td>73</td>\n",
              "      <td>1</td>\n",
              "      <td>40</td>\n",
              "      <td>179</td>\n",
              "      <td>79</td>\n",
              "      <td>3</td>\n",
              "      <td>74.5</td>\n",
              "    </tr>\n",
              "    <tr>\n",
              "      <th>64</th>\n",
              "      <td>50</td>\n",
              "      <td>1</td>\n",
              "      <td>39</td>\n",
              "      <td>180</td>\n",
              "      <td>80</td>\n",
              "      <td>2</td>\n",
              "      <td>81.4</td>\n",
              "    </tr>\n",
              "    <tr>\n",
              "      <th>34</th>\n",
              "      <td>56</td>\n",
              "      <td>0</td>\n",
              "      <td>36</td>\n",
              "      <td>160</td>\n",
              "      <td>66</td>\n",
              "      <td>3</td>\n",
              "      <td>58.2</td>\n",
              "    </tr>\n",
              "    <tr>\n",
              "      <th>71</th>\n",
              "      <td>72</td>\n",
              "      <td>1</td>\n",
              "      <td>26</td>\n",
              "      <td>179</td>\n",
              "      <td>78</td>\n",
              "      <td>3</td>\n",
              "      <td>69.4</td>\n",
              "    </tr>\n",
              "    <tr>\n",
              "      <th>62</th>\n",
              "      <td>48</td>\n",
              "      <td>1</td>\n",
              "      <td>40</td>\n",
              "      <td>171</td>\n",
              "      <td>79</td>\n",
              "      <td>2</td>\n",
              "      <td>72.9</td>\n",
              "    </tr>\n",
              "    <tr>\n",
              "      <th>52</th>\n",
              "      <td>22</td>\n",
              "      <td>1</td>\n",
              "      <td>42</td>\n",
              "      <td>166</td>\n",
              "      <td>85</td>\n",
              "      <td>1</td>\n",
              "      <td>81.5</td>\n",
              "    </tr>\n",
              "    <tr>\n",
              "      <th>32</th>\n",
              "      <td>54</td>\n",
              "      <td>0</td>\n",
              "      <td>21</td>\n",
              "      <td>159</td>\n",
              "      <td>64</td>\n",
              "      <td>3</td>\n",
              "      <td>60.6</td>\n",
              "    </tr>\n",
              "    <tr>\n",
              "      <th>20</th>\n",
              "      <td>31</td>\n",
              "      <td>0</td>\n",
              "      <td>20</td>\n",
              "      <td>169</td>\n",
              "      <td>62</td>\n",
              "      <td>2</td>\n",
              "      <td>55.0</td>\n",
              "    </tr>\n",
              "  </tbody>\n",
              "</table>\n",
              "</div>"
            ],
            "text/plain": [
              "    Person gender  Age  Height  pre.weight  Diet  weight6weeks\n",
              "74      75      1   49     177          84     3          79.9\n",
              "48      18      1   50     160          78     1          73.9\n",
              "72      73      1   40     179          79     3          74.5\n",
              "64      50      1   39     180          80     2          81.4\n",
              "34      56      0   36     160          66     3          58.2\n",
              "71      72      1   26     179          78     3          69.4\n",
              "62      48      1   40     171          79     2          72.9\n",
              "52      22      1   42     166          85     1          81.5\n",
              "32      54      0   21     159          64     3          60.6\n",
              "20      31      0   20     169          62     2          55.0"
            ]
          },
          "metadata": {},
          "execution_count": 18
        }
      ]
    },
    {
      "cell_type": "code",
      "metadata": {
        "colab": {
          "base_uri": "https://localhost:8080/",
          "height": 110
        },
        "id": "Dq2L09x-NkJY",
        "outputId": "86161889-fd41-48ef-dbaa-76e84f631e38"
      },
      "source": [
        "df[df['gender'] == ' ']"
      ],
      "execution_count": null,
      "outputs": [
        {
          "output_type": "execute_result",
          "data": {
            "text/html": [
              "<div>\n",
              "<style scoped>\n",
              "    .dataframe tbody tr th:only-of-type {\n",
              "        vertical-align: middle;\n",
              "    }\n",
              "\n",
              "    .dataframe tbody tr th {\n",
              "        vertical-align: top;\n",
              "    }\n",
              "\n",
              "    .dataframe thead th {\n",
              "        text-align: right;\n",
              "    }\n",
              "</style>\n",
              "<table border=\"1\" class=\"dataframe\">\n",
              "  <thead>\n",
              "    <tr style=\"text-align: right;\">\n",
              "      <th></th>\n",
              "      <th>Person</th>\n",
              "      <th>gender</th>\n",
              "      <th>Age</th>\n",
              "      <th>Height</th>\n",
              "      <th>pre.weight</th>\n",
              "      <th>Diet</th>\n",
              "      <th>weight6weeks</th>\n",
              "    </tr>\n",
              "  </thead>\n",
              "  <tbody>\n",
              "    <tr>\n",
              "      <th>0</th>\n",
              "      <td>25</td>\n",
              "      <td></td>\n",
              "      <td>41</td>\n",
              "      <td>171</td>\n",
              "      <td>60</td>\n",
              "      <td>2</td>\n",
              "      <td>60.0</td>\n",
              "    </tr>\n",
              "    <tr>\n",
              "      <th>1</th>\n",
              "      <td>26</td>\n",
              "      <td></td>\n",
              "      <td>32</td>\n",
              "      <td>174</td>\n",
              "      <td>103</td>\n",
              "      <td>2</td>\n",
              "      <td>103.0</td>\n",
              "    </tr>\n",
              "  </tbody>\n",
              "</table>\n",
              "</div>"
            ],
            "text/plain": [
              "   Person gender  Age  Height  pre.weight  Diet  weight6weeks\n",
              "0      25          41     171          60     2          60.0\n",
              "1      26          32     174         103     2         103.0"
            ]
          },
          "metadata": {},
          "execution_count": 19
        }
      ]
    },
    {
      "cell_type": "code",
      "metadata": {
        "id": "2_yImRiUOJGp"
      },
      "source": [
        "df = df[df['gender'] != ' ']"
      ],
      "execution_count": null,
      "outputs": []
    },
    {
      "cell_type": "code",
      "metadata": {
        "colab": {
          "base_uri": "https://localhost:8080/"
        },
        "id": "su09qgXkQkrm",
        "outputId": "86a009f4-b166-48eb-940a-41ac701d7bb4"
      },
      "source": [
        "df['gender'].value_counts()"
      ],
      "execution_count": null,
      "outputs": [
        {
          "output_type": "execute_result",
          "data": {
            "text/plain": [
              "0    43\n",
              "1    33\n",
              "Name: gender, dtype: int64"
            ]
          },
          "metadata": {},
          "execution_count": 21
        }
      ]
    },
    {
      "cell_type": "code",
      "metadata": {
        "colab": {
          "base_uri": "https://localhost:8080/",
          "height": 543
        },
        "id": "HkTv6vfyO6Ac",
        "outputId": "78cadc5a-259e-421f-975c-c787cffa48b8"
      },
      "source": [
        "axl = df.plot(kind='scatter', x='Person', y='pre.weight', color='blue', alpha=0.5, figsize=(12, 8))\n",
        "plt.title('Scatter Plot of Pre-weight of distribution', size=20)\n",
        "plt.xlabel('Person', size=18)\n",
        "plt.ylabel('Weight', size=18)"
      ],
      "execution_count": null,
      "outputs": [
        {
          "output_type": "execute_result",
          "data": {
            "text/plain": [
              "Text(0, 0.5, 'Weight')"
            ]
          },
          "metadata": {},
          "execution_count": 22
        },
        {
          "output_type": "display_data",
          "data": {
            "image/png": "[encoded data removed]",
            "text/plain": [
              "<Figure size 864x576 with 1 Axes>"
            ]
          },
          "metadata": {}
        }
      ]
    },
    {
      "cell_type": "code",
      "metadata": {
        "colab": {
          "base_uri": "https://localhost:8080/"
        },
        "id": "OLCTyclkQ8Nu",
        "outputId": "67604caa-a149-4c2b-ba89-5a5f4d7218cb"
      },
      "source": [
        "df = df.apply(pd.to_numeric)\n",
        "df.dtypes"
      ],
      "execution_count": null,
      "outputs": [
        {
          "output_type": "execute_result",
          "data": {
            "text/plain": [
              "Person            int64\n",
              "gender            int64\n",
              "Age               int64\n",
              "Height            int64\n",
              "pre.weight        int64\n",
              "Diet              int64\n",
              "weight6weeks    float64\n",
              "dtype: object"
            ]
          },
          "metadata": {},
          "execution_count": 23
        }
      ]
    },
    {
      "cell_type": "code",
      "metadata": {
        "colab": {
          "base_uri": "https://localhost:8080/",
          "height": 543
        },
        "id": "m7juU4VLPx9e",
        "outputId": "7bc7dbea-0c34-405a-dcbe-70ea37be3f34"
      },
      "source": [
        "axl = df[df['gender'] == 1].plot(kind='scatter', x='Person', y='pre.weight', color='blue', alpha=0.5, figsize=(12, 8))\n",
        "plt.title('Scatter Plot of Pre-weight distribution of Males', size=20)\n",
        "plt.xlabel('Person', size=18)\n",
        "plt.ylabel('Weight', size=18)"
      ],
      "execution_count": null,
      "outputs": [
        {
          "output_type": "execute_result",
          "data": {
            "text/plain": [
              "Text(0, 0.5, 'Weight')"
            ]
          },
          "metadata": {},
          "execution_count": 24
        },
        {
          "output_type": "display_data",
          "data": {
            "image/png": "[encoded data removed]",
            "text/plain": [
              "<Figure size 864x576 with 1 Axes>"
            ]
          },
          "metadata": {}
        }
      ]
    },
    {
      "cell_type": "code",
      "metadata": {
        "colab": {
          "base_uri": "https://localhost:8080/",
          "height": 543
        },
        "id": "cNIMI3HyR3Cb",
        "outputId": "83e23562-f544-4995-b42a-3f1aafa9d66e"
      },
      "source": [
        "axl = df[df['gender'] == 0].plot(kind='scatter', x='Person', y='pre.weight', color='magenta', alpha=0.5, figsize=(12, 8))\n",
        "plt.title('Scatter Plot of Pre-weight distribution of Females', size=20)\n",
        "plt.xlabel('Person', size=18)\n",
        "plt.ylabel('Weight', size=18)"
      ],
      "execution_count": null,
      "outputs": [
        {
          "output_type": "execute_result",
          "data": {
            "text/plain": [
              "Text(0, 0.5, 'Weight')"
            ]
          },
          "metadata": {},
          "execution_count": 25
        },
        {
          "output_type": "display_data",
          "data": {
            "image/png": "[encoded data removed]",
            "text/plain": [
              "<Figure size 864x576 with 1 Axes>"
            ]
          },
          "metadata": {}
        }
      ]
    },
    {
      "cell_type": "code",
      "metadata": {
        "colab": {
          "base_uri": "https://localhost:8080/",
          "height": 547
        },
        "id": "BHjhuFwASKvl",
        "outputId": "933aaf46-71b1-47c1-9358-e0d480ebe1dc"
      },
      "source": [
        "# Scatter plot of Diet and Female Pre-Weight\n",
        "ax1 = df[df['gender'] == 1].plot(kind='scatter', x='Diet', y='pre.weight', color='blue', alpha=0.5, figsize=(12, 8))\n",
        "plt.title('Relationship between Diet and Pre-Weight in Males', size=24)\n",
        "plt.xlabel('Diet', size=18)\n",
        "plt.ylabel('Pre-Weight', size=18)"
      ],
      "execution_count": null,
      "outputs": [
        {
          "output_type": "execute_result",
          "data": {
            "text/plain": [
              "Text(0, 0.5, 'Pre-Weight')"
            ]
          },
          "metadata": {},
          "execution_count": 26
        },
        {
          "output_type": "display_data",
          "data": {
            "image/png": "[encoded data removed]",
            "text/plain": [
              "<Figure size 864x576 with 1 Axes>"
            ]
          },
          "metadata": {}
        }
      ]
    },
    {
      "cell_type": "code",
      "metadata": {
        "colab": {
          "base_uri": "https://localhost:8080/",
          "height": 547
        },
        "id": "a1IUp0YyVZuO",
        "outputId": "37dae084-4199-4c02-e376-3e5e2c76adc4"
      },
      "source": [
        "# Scatter plot of Diet and Female weight6weeks\n",
        "ax1 = df[df['gender'] == 0].plot(kind='scatter', x='Diet', y='pre.weight', color='magenta', alpha=0.5, figsize=(12, 8))\n",
        "plt.title('Relationship between Diet and Pre-Weight in Females', size=24)\n",
        "plt.xlabel('Diet', size=18)\n",
        "plt.ylabel('Pre-Weight', size=18)"
      ],
      "execution_count": null,
      "outputs": [
        {
          "output_type": "execute_result",
          "data": {
            "text/plain": [
              "Text(0, 0.5, 'Pre-Weight')"
            ]
          },
          "metadata": {},
          "execution_count": 27
        },
        {
          "output_type": "display_data",
          "data": {
            "image/png": "[encoded data removed]",
            "text/plain": [
              "<Figure size 864x576 with 1 Axes>"
            ]
          },
          "metadata": {}
        }
      ]
    },
    {
      "cell_type": "code",
      "metadata": {
        "colab": {
          "base_uri": "https://localhost:8080/",
          "height": 295
        },
        "id": "v9TiwAEsY9mx",
        "outputId": "659b2a19-e018-4ad8-8ab6-9a8837ba0351"
      },
      "source": [
        "df_male = df[df['gender'] == 1]\n",
        "df_male.describe()"
      ],
      "execution_count": null,
      "outputs": [
        {
          "output_type": "execute_result",
          "data": {
            "text/html": [
              "<div>\n",
              "<style scoped>\n",
              "    .dataframe tbody tr th:only-of-type {\n",
              "        vertical-align: middle;\n",
              "    }\n",
              "\n",
              "    .dataframe tbody tr th {\n",
              "        vertical-align: top;\n",
              "    }\n",
              "\n",
              "    .dataframe thead th {\n",
              "        text-align: right;\n",
              "    }\n",
              "</style>\n",
              "<table border=\"1\" class=\"dataframe\">\n",
              "  <thead>\n",
              "    <tr style=\"text-align: right;\">\n",
              "      <th></th>\n",
              "      <th>Person</th>\n",
              "      <th>gender</th>\n",
              "      <th>Age</th>\n",
              "      <th>Height</th>\n",
              "      <th>pre.weight</th>\n",
              "      <th>Diet</th>\n",
              "      <th>weight6weeks</th>\n",
              "    </tr>\n",
              "  </thead>\n",
              "  <tbody>\n",
              "    <tr>\n",
              "      <th>count</th>\n",
              "      <td>33.000000</td>\n",
              "      <td>33.0</td>\n",
              "      <td>33.000000</td>\n",
              "      <td>33.000000</td>\n",
              "      <td>33.000000</td>\n",
              "      <td>33.000000</td>\n",
              "      <td>33.000000</td>\n",
              "    </tr>\n",
              "    <tr>\n",
              "      <th>mean</th>\n",
              "      <td>47.606061</td>\n",
              "      <td>1.0</td>\n",
              "      <td>39.363636</td>\n",
              "      <td>175.242424</td>\n",
              "      <td>79.030303</td>\n",
              "      <td>2.060606</td>\n",
              "      <td>75.015152</td>\n",
              "    </tr>\n",
              "    <tr>\n",
              "      <th>std</th>\n",
              "      <td>22.149971</td>\n",
              "      <td>0.0</td>\n",
              "      <td>7.716938</td>\n",
              "      <td>12.326370</td>\n",
              "      <td>4.940172</td>\n",
              "      <td>0.826869</td>\n",
              "      <td>4.629398</td>\n",
              "    </tr>\n",
              "    <tr>\n",
              "      <th>min</th>\n",
              "      <td>15.000000</td>\n",
              "      <td>1.0</td>\n",
              "      <td>25.000000</td>\n",
              "      <td>155.000000</td>\n",
              "      <td>71.000000</td>\n",
              "      <td>1.000000</td>\n",
              "      <td>66.800000</td>\n",
              "    </tr>\n",
              "    <tr>\n",
              "      <th>25%</th>\n",
              "      <td>23.000000</td>\n",
              "      <td>1.0</td>\n",
              "      <td>35.000000</td>\n",
              "      <td>166.000000</td>\n",
              "      <td>76.000000</td>\n",
              "      <td>1.000000</td>\n",
              "      <td>71.600000</td>\n",
              "    </tr>\n",
              "    <tr>\n",
              "      <th>50%</th>\n",
              "      <td>47.000000</td>\n",
              "      <td>1.0</td>\n",
              "      <td>39.000000</td>\n",
              "      <td>175.000000</td>\n",
              "      <td>79.000000</td>\n",
              "      <td>2.000000</td>\n",
              "      <td>73.900000</td>\n",
              "    </tr>\n",
              "    <tr>\n",
              "      <th>75%</th>\n",
              "      <td>70.000000</td>\n",
              "      <td>1.0</td>\n",
              "      <td>44.000000</td>\n",
              "      <td>182.000000</td>\n",
              "      <td>83.000000</td>\n",
              "      <td>3.000000</td>\n",
              "      <td>79.100000</td>\n",
              "    </tr>\n",
              "    <tr>\n",
              "      <th>max</th>\n",
              "      <td>78.000000</td>\n",
              "      <td>1.0</td>\n",
              "      <td>54.000000</td>\n",
              "      <td>199.000000</td>\n",
              "      <td>88.000000</td>\n",
              "      <td>3.000000</td>\n",
              "      <td>84.500000</td>\n",
              "    </tr>\n",
              "  </tbody>\n",
              "</table>\n",
              "</div>"
            ],
            "text/plain": [
              "          Person  gender        Age  ...  pre.weight       Diet  weight6weeks\n",
              "count  33.000000    33.0  33.000000  ...   33.000000  33.000000     33.000000\n",
              "mean   47.606061     1.0  39.363636  ...   79.030303   2.060606     75.015152\n",
              "std    22.149971     0.0   7.716938  ...    4.940172   0.826869      4.629398\n",
              "min    15.000000     1.0  25.000000  ...   71.000000   1.000000     66.800000\n",
              "25%    23.000000     1.0  35.000000  ...   76.000000   1.000000     71.600000\n",
              "50%    47.000000     1.0  39.000000  ...   79.000000   2.000000     73.900000\n",
              "75%    70.000000     1.0  44.000000  ...   83.000000   3.000000     79.100000\n",
              "max    78.000000     1.0  54.000000  ...   88.000000   3.000000     84.500000\n",
              "\n",
              "[8 rows x 7 columns]"
            ]
          },
          "metadata": {},
          "execution_count": 28
        }
      ]
    },
    {
      "cell_type": "code",
      "metadata": {
        "colab": {
          "base_uri": "https://localhost:8080/",
          "height": 295
        },
        "id": "gmsdE9crZLsr",
        "outputId": "7227085c-7c31-4ab6-ac05-9b64cf2f23b0"
      },
      "source": [
        "df_male = df[df['gender'] == 0]\n",
        "df_male.describe()"
      ],
      "execution_count": null,
      "outputs": [
        {
          "output_type": "execute_result",
          "data": {
            "text/html": [
              "<div>\n",
              "<style scoped>\n",
              "    .dataframe tbody tr th:only-of-type {\n",
              "        vertical-align: middle;\n",
              "    }\n",
              "\n",
              "    .dataframe tbody tr th {\n",
              "        vertical-align: top;\n",
              "    }\n",
              "\n",
              "    .dataframe thead th {\n",
              "        text-align: right;\n",
              "    }\n",
              "</style>\n",
              "<table border=\"1\" class=\"dataframe\">\n",
              "  <thead>\n",
              "    <tr style=\"text-align: right;\">\n",
              "      <th></th>\n",
              "      <th>Person</th>\n",
              "      <th>gender</th>\n",
              "      <th>Age</th>\n",
              "      <th>Height</th>\n",
              "      <th>pre.weight</th>\n",
              "      <th>Diet</th>\n",
              "      <th>weight6weeks</th>\n",
              "    </tr>\n",
              "  </thead>\n",
              "  <tbody>\n",
              "    <tr>\n",
              "      <th>count</th>\n",
              "      <td>43.000000</td>\n",
              "      <td>43.0</td>\n",
              "      <td>43.000000</td>\n",
              "      <td>43.000000</td>\n",
              "      <td>43.000000</td>\n",
              "      <td>43.000000</td>\n",
              "      <td>43.000000</td>\n",
              "    </tr>\n",
              "    <tr>\n",
              "      <th>mean</th>\n",
              "      <td>33.930233</td>\n",
              "      <td>0.0</td>\n",
              "      <td>39.116279</td>\n",
              "      <td>167.348837</td>\n",
              "      <td>67.116279</td>\n",
              "      <td>2.023256</td>\n",
              "      <td>63.223256</td>\n",
              "    </tr>\n",
              "    <tr>\n",
              "      <th>std</th>\n",
              "      <td>21.791649</td>\n",
              "      <td>0.0</td>\n",
              "      <td>11.398014</td>\n",
              "      <td>9.456375</td>\n",
              "      <td>5.645096</td>\n",
              "      <td>0.830616</td>\n",
              "      <td>6.150874</td>\n",
              "    </tr>\n",
              "    <tr>\n",
              "      <th>min</th>\n",
              "      <td>1.000000</td>\n",
              "      <td>0.0</td>\n",
              "      <td>16.000000</td>\n",
              "      <td>141.000000</td>\n",
              "      <td>58.000000</td>\n",
              "      <td>1.000000</td>\n",
              "      <td>53.000000</td>\n",
              "    </tr>\n",
              "    <tr>\n",
              "      <th>25%</th>\n",
              "      <td>11.500000</td>\n",
              "      <td>0.0</td>\n",
              "      <td>31.000000</td>\n",
              "      <td>163.000000</td>\n",
              "      <td>63.000000</td>\n",
              "      <td>1.000000</td>\n",
              "      <td>59.750000</td>\n",
              "    </tr>\n",
              "    <tr>\n",
              "      <th>50%</th>\n",
              "      <td>34.000000</td>\n",
              "      <td>0.0</td>\n",
              "      <td>37.000000</td>\n",
              "      <td>169.000000</td>\n",
              "      <td>67.000000</td>\n",
              "      <td>2.000000</td>\n",
              "      <td>62.400000</td>\n",
              "    </tr>\n",
              "    <tr>\n",
              "      <th>75%</th>\n",
              "      <td>55.500000</td>\n",
              "      <td>0.0</td>\n",
              "      <td>48.000000</td>\n",
              "      <td>171.000000</td>\n",
              "      <td>71.000000</td>\n",
              "      <td>3.000000</td>\n",
              "      <td>67.500000</td>\n",
              "    </tr>\n",
              "    <tr>\n",
              "      <th>max</th>\n",
              "      <td>66.000000</td>\n",
              "      <td>0.0</td>\n",
              "      <td>60.000000</td>\n",
              "      <td>201.000000</td>\n",
              "      <td>82.000000</td>\n",
              "      <td>3.000000</td>\n",
              "      <td>81.100000</td>\n",
              "    </tr>\n",
              "  </tbody>\n",
              "</table>\n",
              "</div>"
            ],
            "text/plain": [
              "          Person  gender        Age  ...  pre.weight       Diet  weight6weeks\n",
              "count  43.000000    43.0  43.000000  ...   43.000000  43.000000     43.000000\n",
              "mean   33.930233     0.0  39.116279  ...   67.116279   2.023256     63.223256\n",
              "std    21.791649     0.0  11.398014  ...    5.645096   0.830616      6.150874\n",
              "min     1.000000     0.0  16.000000  ...   58.000000   1.000000     53.000000\n",
              "25%    11.500000     0.0  31.000000  ...   63.000000   1.000000     59.750000\n",
              "50%    34.000000     0.0  37.000000  ...   67.000000   2.000000     62.400000\n",
              "75%    55.500000     0.0  48.000000  ...   71.000000   3.000000     67.500000\n",
              "max    66.000000     0.0  60.000000  ...   82.000000   3.000000     81.100000\n",
              "\n",
              "[8 rows x 7 columns]"
            ]
          },
          "metadata": {},
          "execution_count": 29
        }
      ]
    },
    {
      "cell_type": "markdown",
      "metadata": {
        "id": "XH8us4yodjzB"
      },
      "source": [
        "#Q2"
      ]
    },
    {
      "cell_type": "code",
      "metadata": {
        "colab": {
          "base_uri": "https://localhost:8080/"
        },
        "id": "mnfB5Gdrb-fo",
        "outputId": "63b98742-aa7f-4fcc-c01f-a3cca79c546b"
      },
      "source": [
        "f_oneway(df[df['Diet']==1]['pre.weight'], df[df['Diet']==2]['pre.weight'], df[df['Diet']==3]['pre.weight'])"
      ],
      "execution_count": null,
      "outputs": [
        {
          "output_type": "execute_result",
          "data": {
            "text/plain": [
              "F_onewayResult(statistic=1.247834694837041, pvalue=0.29317702104020305)"
            ]
          },
          "metadata": {},
          "execution_count": 30
        }
      ]
    },
    {
      "cell_type": "markdown",
      "metadata": {
        "id": "3kEv02FDT1C5"
      },
      "source": [
        "Pvalue of 0.29 give significant evidence that we cannot reject null hypothesis"
      ]
    },
    {
      "cell_type": "code",
      "metadata": {
        "colab": {
          "base_uri": "https://localhost:8080/"
        },
        "id": "vdwvflXDc_um",
        "outputId": "631cdfdd-b195-43c0-e461-e072b1e95d73"
      },
      "source": [
        "f_oneway(df[df['Diet']==1]['weight6weeks'], df[df['Diet']==2]['weight6weeks'], df[df['Diet']==3]['weight6weeks'])"
      ],
      "execution_count": null,
      "outputs": [
        {
          "output_type": "execute_result",
          "data": {
            "text/plain": [
              "F_onewayResult(statistic=0.6190428460698888, pvalue=0.5412619353734642)"
            ]
          },
          "metadata": {},
          "execution_count": 31
        }
      ]
    },
    {
      "cell_type": "markdown",
      "metadata": {
        "id": "zawRGXaMUAQJ"
      },
      "source": [
        "Pvalue of 0.54 give significant evidence that we cannot reject null hypothesis"
      ]
    },
    {
      "cell_type": "markdown",
      "metadata": {
        "id": "I72oCvOueejt"
      },
      "source": [
        "#**Task 3**"
      ]
    },
    {
      "cell_type": "code",
      "metadata": {
        "id": "_K1DklKUenL1"
      },
      "source": [
        "df = pd.read_csv(\"https://raw.githubusercontent.com/researchpy/Data-sets/master/blood_pressure.csv\")"
      ],
      "execution_count": null,
      "outputs": []
    },
    {
      "cell_type": "code",
      "metadata": {
        "colab": {
          "base_uri": "https://localhost:8080/",
          "height": 357
        },
        "id": "c8WWLvc0eppL",
        "outputId": "14935474-6a2a-435e-af39-fd051a66ba2f"
      },
      "source": [
        "df.sample(10)"
      ],
      "execution_count": null,
      "outputs": [
        {
          "output_type": "execute_result",
          "data": {
            "text/html": [
              "<div>\n",
              "<style scoped>\n",
              "    .dataframe tbody tr th:only-of-type {\n",
              "        vertical-align: middle;\n",
              "    }\n",
              "\n",
              "    .dataframe tbody tr th {\n",
              "        vertical-align: top;\n",
              "    }\n",
              "\n",
              "    .dataframe thead th {\n",
              "        text-align: right;\n",
              "    }\n",
              "</style>\n",
              "<table border=\"1\" class=\"dataframe\">\n",
              "  <thead>\n",
              "    <tr style=\"text-align: right;\">\n",
              "      <th></th>\n",
              "      <th>patient</th>\n",
              "      <th>sex</th>\n",
              "      <th>agegrp</th>\n",
              "      <th>bp_before</th>\n",
              "      <th>bp_after</th>\n",
              "    </tr>\n",
              "  </thead>\n",
              "  <tbody>\n",
              "    <tr>\n",
              "      <th>1</th>\n",
              "      <td>2</td>\n",
              "      <td>Male</td>\n",
              "      <td>30-45</td>\n",
              "      <td>163</td>\n",
              "      <td>170</td>\n",
              "    </tr>\n",
              "    <tr>\n",
              "      <th>103</th>\n",
              "      <td>104</td>\n",
              "      <td>Female</td>\n",
              "      <td>60+</td>\n",
              "      <td>148</td>\n",
              "      <td>148</td>\n",
              "    </tr>\n",
              "    <tr>\n",
              "      <th>0</th>\n",
              "      <td>1</td>\n",
              "      <td>Male</td>\n",
              "      <td>30-45</td>\n",
              "      <td>143</td>\n",
              "      <td>153</td>\n",
              "    </tr>\n",
              "    <tr>\n",
              "      <th>58</th>\n",
              "      <td>59</td>\n",
              "      <td>Male</td>\n",
              "      <td>60+</td>\n",
              "      <td>172</td>\n",
              "      <td>161</td>\n",
              "    </tr>\n",
              "    <tr>\n",
              "      <th>35</th>\n",
              "      <td>36</td>\n",
              "      <td>Male</td>\n",
              "      <td>46-59</td>\n",
              "      <td>159</td>\n",
              "      <td>171</td>\n",
              "    </tr>\n",
              "    <tr>\n",
              "      <th>38</th>\n",
              "      <td>39</td>\n",
              "      <td>Male</td>\n",
              "      <td>46-59</td>\n",
              "      <td>185</td>\n",
              "      <td>140</td>\n",
              "    </tr>\n",
              "    <tr>\n",
              "      <th>48</th>\n",
              "      <td>49</td>\n",
              "      <td>Male</td>\n",
              "      <td>60+</td>\n",
              "      <td>171</td>\n",
              "      <td>185</td>\n",
              "    </tr>\n",
              "    <tr>\n",
              "      <th>36</th>\n",
              "      <td>37</td>\n",
              "      <td>Male</td>\n",
              "      <td>46-59</td>\n",
              "      <td>149</td>\n",
              "      <td>157</td>\n",
              "    </tr>\n",
              "    <tr>\n",
              "      <th>37</th>\n",
              "      <td>38</td>\n",
              "      <td>Male</td>\n",
              "      <td>46-59</td>\n",
              "      <td>140</td>\n",
              "      <td>159</td>\n",
              "    </tr>\n",
              "    <tr>\n",
              "      <th>21</th>\n",
              "      <td>22</td>\n",
              "      <td>Male</td>\n",
              "      <td>46-59</td>\n",
              "      <td>156</td>\n",
              "      <td>155</td>\n",
              "    </tr>\n",
              "  </tbody>\n",
              "</table>\n",
              "</div>"
            ],
            "text/plain": [
              "     patient     sex agegrp  bp_before  bp_after\n",
              "1          2    Male  30-45        163       170\n",
              "103      104  Female    60+        148       148\n",
              "0          1    Male  30-45        143       153\n",
              "58        59    Male    60+        172       161\n",
              "35        36    Male  46-59        159       171\n",
              "38        39    Male  46-59        185       140\n",
              "48        49    Male    60+        171       185\n",
              "36        37    Male  46-59        149       157\n",
              "37        38    Male  46-59        140       159\n",
              "21        22    Male  46-59        156       155"
            ]
          },
          "metadata": {},
          "execution_count": 33
        }
      ]
    },
    {
      "cell_type": "markdown",
      "metadata": {
        "id": "XymYYo4NnJrE"
      },
      "source": [
        "#Q1"
      ]
    },
    {
      "cell_type": "code",
      "metadata": {
        "colab": {
          "base_uri": "https://localhost:8080/",
          "height": 543
        },
        "id": "CyqWKoh8exlF",
        "outputId": "298a2299-a093-459e-a4c6-163ec80837ca"
      },
      "source": [
        "axl = df[df['sex'] == \"Male\"].plot(kind='scatter', x = 'patient',  y='bp_after', color='blue', alpha=0.5, figsize=(12, 8))\n",
        "df[df['sex'] == \"Female\"].plot(kind='scatter', x='patient', y='bp_after', color='magenta', alpha=0.5, figsize=(12, 8), ax = axl)\n",
        "plt.legend(labels=['Males', 'Females'])\n",
        "plt.title('Scatter Plot of Post Blood Pressure', size=20)\n",
        "plt.xlabel('Patient', size=18)\n",
        "plt.ylabel('Post-BP', size=18)"
      ],
      "execution_count": null,
      "outputs": [
        {
          "output_type": "execute_result",
          "data": {
            "text/plain": [
              "Text(0, 0.5, 'Post-BP')"
            ]
          },
          "metadata": {},
          "execution_count": 34
        },
        {
          "output_type": "display_data",
          "data": {
            "image/png": "[encoded data removed]",
            "text/plain": [
              "<Figure size 864x576 with 1 Axes>"
            ]
          },
          "metadata": {}
        }
      ]
    },
    {
      "cell_type": "markdown",
      "metadata": {
        "id": "Cy1DItC9nPah"
      },
      "source": [
        "#Q2"
      ]
    },
    {
      "cell_type": "code",
      "metadata": {
        "id": "Ptgtb1ktjx30"
      },
      "source": [
        "df_male = df[df['sex'] == 'Male'].set_index('patient')\n",
        "df_female = df[df['sex'] == 'Female'].set_index('patient')"
      ],
      "execution_count": null,
      "outputs": []
    },
    {
      "cell_type": "code",
      "metadata": {
        "colab": {
          "base_uri": "https://localhost:8080/",
          "height": 295
        },
        "id": "oFLa1wxHn3jk",
        "outputId": "a9b0bbb2-e424-42b7-9527-c2e381e15b94"
      },
      "source": [
        "# Descriptive statistics male\n",
        "statistics_male = df_male.describe()\n",
        "statistics_male.rename(columns=lambda x: x + '_male', inplace=True)\n",
        "\n",
        "# Descriptive statistics female\n",
        "statistics_female = df_female.describe()\n",
        "statistics_female.rename(columns=lambda x: x + '_female', inplace=True)\n",
        "\n",
        "# Dataframe that contains statistics for both male and female\n",
        "statistics = pd.concat([statistics_male, statistics_female], axis=1)\n",
        "statistics"
      ],
      "execution_count": null,
      "outputs": [
        {
          "output_type": "execute_result",
          "data": {
            "text/html": [
              "<div>\n",
              "<style scoped>\n",
              "    .dataframe tbody tr th:only-of-type {\n",
              "        vertical-align: middle;\n",
              "    }\n",
              "\n",
              "    .dataframe tbody tr th {\n",
              "        vertical-align: top;\n",
              "    }\n",
              "\n",
              "    .dataframe thead th {\n",
              "        text-align: right;\n",
              "    }\n",
              "</style>\n",
              "<table border=\"1\" class=\"dataframe\">\n",
              "  <thead>\n",
              "    <tr style=\"text-align: right;\">\n",
              "      <th></th>\n",
              "      <th>bp_before_male</th>\n",
              "      <th>bp_after_male</th>\n",
              "      <th>bp_before_female</th>\n",
              "      <th>bp_after_female</th>\n",
              "    </tr>\n",
              "  </thead>\n",
              "  <tbody>\n",
              "    <tr>\n",
              "      <th>count</th>\n",
              "      <td>60.000000</td>\n",
              "      <td>60.000000</td>\n",
              "      <td>60.000000</td>\n",
              "      <td>60.000000</td>\n",
              "    </tr>\n",
              "    <tr>\n",
              "      <th>mean</th>\n",
              "      <td>159.266667</td>\n",
              "      <td>155.516667</td>\n",
              "      <td>153.633333</td>\n",
              "      <td>147.200000</td>\n",
              "    </tr>\n",
              "    <tr>\n",
              "      <th>std</th>\n",
              "      <td>11.413442</td>\n",
              "      <td>15.243217</td>\n",
              "      <td>10.735600</td>\n",
              "      <td>11.742722</td>\n",
              "    </tr>\n",
              "    <tr>\n",
              "      <th>min</th>\n",
              "      <td>140.000000</td>\n",
              "      <td>125.000000</td>\n",
              "      <td>138.000000</td>\n",
              "      <td>127.000000</td>\n",
              "    </tr>\n",
              "    <tr>\n",
              "      <th>25%</th>\n",
              "      <td>150.750000</td>\n",
              "      <td>145.000000</td>\n",
              "      <td>144.750000</td>\n",
              "      <td>138.000000</td>\n",
              "    </tr>\n",
              "    <tr>\n",
              "      <th>50%</th>\n",
              "      <td>158.000000</td>\n",
              "      <td>158.500000</td>\n",
              "      <td>151.000000</td>\n",
              "      <td>146.000000</td>\n",
              "    </tr>\n",
              "    <tr>\n",
              "      <th>75%</th>\n",
              "      <td>170.000000</td>\n",
              "      <td>164.750000</td>\n",
              "      <td>161.250000</td>\n",
              "      <td>152.000000</td>\n",
              "    </tr>\n",
              "    <tr>\n",
              "      <th>max</th>\n",
              "      <td>185.000000</td>\n",
              "      <td>185.000000</td>\n",
              "      <td>185.000000</td>\n",
              "      <td>178.000000</td>\n",
              "    </tr>\n",
              "  </tbody>\n",
              "</table>\n",
              "</div>"
            ],
            "text/plain": [
              "       bp_before_male  bp_after_male  bp_before_female  bp_after_female\n",
              "count       60.000000      60.000000         60.000000        60.000000\n",
              "mean       159.266667     155.516667        153.633333       147.200000\n",
              "std         11.413442      15.243217         10.735600        11.742722\n",
              "min        140.000000     125.000000        138.000000       127.000000\n",
              "25%        150.750000     145.000000        144.750000       138.000000\n",
              "50%        158.000000     158.500000        151.000000       146.000000\n",
              "75%        170.000000     164.750000        161.250000       152.000000\n",
              "max        185.000000     185.000000        185.000000       178.000000"
            ]
          },
          "metadata": {},
          "execution_count": 36
        }
      ]
    },
    {
      "cell_type": "markdown",
      "metadata": {
        "id": "wsbktmMxUgKk"
      },
      "source": [
        "#Q3"
      ]
    },
    {
      "cell_type": "markdown",
      "metadata": {
        "id": "F1GoI989Uhq4"
      },
      "source": [
        "Null Hypothesis : Mean of blood pressure for both male and female are equal\n",
        "\n",
        "Alternate Hypothesis : Mean of blood pressure for both male and female are different"
      ]
    },
    {
      "cell_type": "code",
      "metadata": {
        "colab": {
          "base_uri": "https://localhost:8080/"
        },
        "id": "ddBb2eYjlVJG",
        "outputId": "c8040925-278c-490f-c491-8797871988cc"
      },
      "source": [
        "# Example of the Student's t-test\n",
        "from scipy.stats import ttest_ind\n",
        "\n",
        "stat, p = ttest_ind(df_male['bp_after'], df_female['bp_after'])\n",
        "print('stat=%.3f, p=%.3f' % (stat, p))\n",
        "if p > 0.05:\n",
        "\tprint('Probably the same distribution')\n",
        "else:\n",
        "\tprint('Probably different distributions')"
      ],
      "execution_count": null,
      "outputs": [
        {
          "output_type": "stream",
          "name": "stdout",
          "text": [
            "stat=3.348, p=0.001\n",
            "Probably different distributions\n"
          ]
        }
      ]
    },
    {
      "cell_type": "code",
      "metadata": {
        "id": "225h_M55llF5"
      },
      "source": [
        "# function for calculating the t-test for two independent samples\n",
        "def independent_ttest(data1, data2, alpha):\n",
        "\t# calculate means\n",
        "\tmean1, mean2 = mean(data1), mean(data2)\n",
        "\t# calculate standard errors\n",
        "\tse1, se2 = sem(data1), sem(data2)\n",
        "\t# standard error on the difference between the samples\n",
        "\tsed = sqrt(se1**2.0 + se2**2.0)\n",
        "\t# calculate the t statistic\n",
        "\tt_stat = (mean1 - mean2) / sed\n",
        "\t# degrees of freedom\n",
        "\tdf = len(data1) + len(data2) - 2\n",
        "\t# calculate the critical value\n",
        "\tcv = t.ppf(1.0 - alpha, df)\n",
        "\t# calculate the p-value\n",
        "\tp = (1.0 - t.cdf(abs(t_stat), df)) * 2.0\n",
        "\t# return everything\n",
        "\treturn t_stat, df, cv, p"
      ],
      "execution_count": null,
      "outputs": []
    },
    {
      "cell_type": "code",
      "metadata": {
        "colab": {
          "base_uri": "https://localhost:8080/"
        },
        "id": "TVYB71InmDOy",
        "outputId": "29b53ce0-4ca8-43dd-bb5c-95781f9bb579"
      },
      "source": [
        "# calculate the t test\n",
        "alpha = 0.05\n",
        "t_stat, df, cv, p = independent_ttest(df_male['bp_after'], df_female['bp_after'], alpha)\n",
        "print('t=%.3f, df=%d, cv=%.3f, p=%.3f' % (t_stat, df, cv, p))\n",
        "# interpret via critical value\n",
        "if abs(t_stat) <= cv:\n",
        "\tprint('Accept null hypothesis that the means are equal.')\n",
        "else:\n",
        "\tprint('Reject the null hypothesis that the means are equal.')\n",
        "# interpret via p-value\n",
        "if p > alpha:\n",
        "\tprint('Accept null hypothesis that the means are equal.')\n",
        "else:\n",
        "\tprint('Reject the null hypothesis that the means are equal.')"
      ],
      "execution_count": null,
      "outputs": [
        {
          "output_type": "stream",
          "name": "stdout",
          "text": [
            "t=3.348, df=118, cv=1.658, p=0.001\n",
            "Reject the null hypothesis that the means are equal.\n",
            "Reject the null hypothesis that the means are equal.\n"
          ]
        }
      ]
    },
    {
      "cell_type": "markdown",
      "metadata": {
        "id": "STLtuaefUNkF"
      },
      "source": [
        "We got t value as 3.348 and p = 0.001 which is less than significance level hence rejecting the Null Hypothesis"
      ]
    },
    {
      "cell_type": "markdown",
      "metadata": {
        "id": "aIqF4U4HqHk8"
      },
      "source": [
        "#**Task 4**"
      ]
    },
    {
      "cell_type": "code",
      "metadata": {
        "id": "qJuO6jdWqK5v"
      },
      "source": [
        "df = pd.read_csv('/content/drive/MyDrive/sp500_data.csv')"
      ],
      "execution_count": null,
      "outputs": []
    },
    {
      "cell_type": "code",
      "metadata": {
        "id": "w896mGNdz8Oo"
      },
      "source": [
        "df = df[['CVX', 'XOM']]"
      ],
      "execution_count": null,
      "outputs": []
    },
    {
      "cell_type": "code",
      "metadata": {
        "id": "qtFccMNx0txJ"
      },
      "source": [
        "def sample_mean(df, sample_size):\n",
        "  sample_means = []\n",
        "  for i in range(1000):\n",
        "      df_temp = df.sample(sample_size)\n",
        "      sample_means.append(df_temp.mean())\n",
        "  return sample_means"
      ],
      "execution_count": null,
      "outputs": []
    },
    {
      "cell_type": "code",
      "metadata": {
        "colab": {
          "base_uri": "https://localhost:8080/",
          "height": 282
        },
        "id": "1_iz033b3FcR",
        "outputId": "284663bf-7b2a-4a15-fafb-98bdbb56016a"
      },
      "source": [
        "sample_means = sample_mean(df['CVX'], 100)\n",
        "mn = np.mean(sample_means)\n",
        "std = np.std(sample_means)\n",
        "plt.hist(sample_means, density = True)\n",
        "plt.axvline(mn, color='blue')\n",
        "plt.axvline(mn-2*std, color = 'black')\n",
        "plt.axvline(mn+2*std, color = 'black')\n",
        "plt.xlabel('Sample_Mean')\n",
        "plt.ylabel('Probability Density')\n",
        "plt.show()"
      ],
      "execution_count": null,
      "outputs": [
        {
          "output_type": "display_data",
          "data": {
            "image/png": "[encoded data removed]",
            "text/plain": [
              "<Figure size 432x288 with 1 Axes>"
            ]
          },
          "metadata": {}
        }
      ]
    },
    {
      "cell_type": "code",
      "metadata": {
        "colab": {
          "base_uri": "https://localhost:8080/",
          "height": 282
        },
        "id": "urSs-w713cBV",
        "outputId": "675998ed-22d7-4aaf-fdc7-04bffe66cdb9"
      },
      "source": [
        "s = pd.Series(sample_means)\n",
        "mn = s.mean()\n",
        "std = s.std()\n",
        "ax = s.plot.kde()\n",
        "plt.axvline(mn, color='blue')\n",
        "plt.axvline(mn-2*std, color = 'black')\n",
        "plt.axvline(mn+2*std, color = 'black')"
      ],
      "execution_count": null,
      "outputs": [
        {
          "output_type": "execute_result",
          "data": {
            "text/plain": [
              "<matplotlib.lines.Line2D at 0x7f4dc7787690>"
            ]
          },
          "metadata": {},
          "execution_count": 44
        },
        {
          "output_type": "display_data",
          "data": {
            "image/png": "[encoded data removed]",
            "text/plain": [
              "<Figure size 432x288 with 1 Axes>"
            ]
          },
          "metadata": {}
        }
      ]
    },
    {
      "cell_type": "code",
      "metadata": {
        "colab": {
          "base_uri": "https://localhost:8080/",
          "height": 284
        },
        "id": "dLgNSJYj7Uvo",
        "outputId": "8226a42f-5aca-4826-8118-0b9a3028cf3d"
      },
      "source": [
        "sample_means = sample_mean(df['CVX'], 500)\n",
        "mn = np.mean(sample_means)\n",
        "std = np.std(sample_means)\n",
        "plt.hist(sample_means, density = True)\n",
        "plt.axvline(mn, color='blue')\n",
        "plt.axvline(mn-2*std, color = 'black')\n",
        "plt.axvline(mn+2*std, color = 'black')\n",
        "plt.xlabel('Sample_Mean')\n",
        "plt.ylabel('Probability Density')\n",
        "plt.show()"
      ],
      "execution_count": null,
      "outputs": [
        {
          "output_type": "display_data",
          "data": {
            "image/png": "[encoded data removed]",
            "text/plain": [
              "<Figure size 432x288 with 1 Axes>"
            ]
          },
          "metadata": {}
        }
      ]
    },
    {
      "cell_type": "code",
      "metadata": {
        "colab": {
          "base_uri": "https://localhost:8080/",
          "height": 286
        },
        "id": "9sLIIni37NE-",
        "outputId": "7999547b-48d0-4027-929b-d312a6872795"
      },
      "source": [
        "s = pd.Series(sample_means)\n",
        "mn = s.mean()\n",
        "std = s.std()\n",
        "ax = s.plot.kde()\n",
        "plt.axvline(mn, color='blue')\n",
        "plt.axvline(mn-2*std, color = 'black')\n",
        "plt.axvline(mn+2*std, color = 'black')"
      ],
      "execution_count": null,
      "outputs": [
        {
          "output_type": "execute_result",
          "data": {
            "text/plain": [
              "<matplotlib.lines.Line2D at 0x7f4dc56383d0>"
            ]
          },
          "metadata": {},
          "execution_count": 46
        },
        {
          "output_type": "display_data",
          "data": {
            "image/png": "[encoded data removed]",
            "text/plain": [
              "<Figure size 432x288 with 1 Axes>"
            ]
          },
          "metadata": {}
        }
      ]
    },
    {
      "cell_type": "code",
      "metadata": {
        "colab": {
          "base_uri": "https://localhost:8080/",
          "height": 282
        },
        "id": "9o8d4E4p69v-",
        "outputId": "59a18bae-7f81-4a61-9425-c77990c4386d"
      },
      "source": [
        "sample_means = sample_mean(df['CVX'], 1000)\n",
        "mn = np.mean(sample_means)\n",
        "std = np.std(sample_means)\n",
        "plt.hist(sample_means, density = True)\n",
        "plt.axvline(mn, color='blue')\n",
        "plt.axvline(mn-2*std, color = 'black')\n",
        "plt.axvline(mn+2*std, color = 'black')\n",
        "plt.xlabel('Sample_Mean')\n",
        "plt.ylabel('Probability Density')\n",
        "plt.show()"
      ],
      "execution_count": null,
      "outputs": [
        {
          "output_type": "display_data",
          "data": {
            "image/png": "[encoded data removed]",
            "text/plain": [
              "<Figure size 432x288 with 1 Axes>"
            ]
          },
          "metadata": {}
        }
      ]
    },
    {
      "cell_type": "code",
      "metadata": {
        "colab": {
          "base_uri": "https://localhost:8080/",
          "height": 282
        },
        "id": "cghEqPoV7Agw",
        "outputId": "288d4d6b-03c1-494b-daf6-266e974d6689"
      },
      "source": [
        "s = pd.Series(sample_means)\n",
        "mn = s.mean()\n",
        "std = s.std()\n",
        "ax = s.plot.kde()\n",
        "plt.axvline(mn, color='blue')\n",
        "plt.axvline(mn-2*std, color = 'black')\n",
        "plt.axvline(mn+2*std, color = 'black')"
      ],
      "execution_count": null,
      "outputs": [
        {
          "output_type": "execute_result",
          "data": {
            "text/plain": [
              "<matplotlib.lines.Line2D at 0x7f4dc54e1910>"
            ]
          },
          "metadata": {},
          "execution_count": 48
        },
        {
          "output_type": "display_data",
          "data": {
            "image/png": "[encoded data removed]",
            "text/plain": [
              "<Figure size 432x288 with 1 Axes>"
            ]
          },
          "metadata": {}
        }
      ]
    },
    {
      "cell_type": "markdown",
      "metadata": {
        "id": "mlBfRNeISZPK"
      },
      "source": [
        "We observed that on increasing the sample size from 100 to 500 to 1000 the standard deviation of sample mean decreases."
      ]
    },
    {
      "cell_type": "markdown",
      "metadata": {
        "id": "sTT0NMhn9T0u"
      },
      "source": [
        "#**Task 5**"
      ]
    },
    {
      "cell_type": "code",
      "metadata": {
        "id": "-9S1qj5m7fgX"
      },
      "source": [
        "def sample_std(df, sample_size):\n",
        "  sample_dev = []\n",
        "  for i in range(1000):\n",
        "      df_temp = df.sample(sample_size)\n",
        "      sample_dev.append(df_temp.std())\n",
        "  return sample_dev"
      ],
      "execution_count": null,
      "outputs": []
    },
    {
      "cell_type": "code",
      "metadata": {
        "colab": {
          "base_uri": "https://localhost:8080/",
          "height": 282
        },
        "id": "S86rYChO8Uf-",
        "outputId": "326a64ce-1abf-434c-e5f2-2e7ed152daa0"
      },
      "source": [
        "sample_dev = sample_std(df['XOM'], 100)\n",
        "mn = np.mean(sample_dev)\n",
        "std = np.std(sample_dev)\n",
        "plt.hist(sample_dev, density = True)\n",
        "plt.axvline(mn, color='blue')\n",
        "plt.axvline(mn-2*std, color = 'black')\n",
        "plt.axvline(mn+2*std, color = 'black')\n",
        "plt.xlabel('Sample_Mean')\n",
        "plt.ylabel('Probability Density')\n",
        "plt.show()"
      ],
      "execution_count": null,
      "outputs": [
        {
          "output_type": "display_data",
          "data": {
            "image/png": "[encoded data removed]",
            "text/plain": [
              "<Figure size 432x288 with 1 Axes>"
            ]
          },
          "metadata": {}
        }
      ]
    },
    {
      "cell_type": "code",
      "metadata": {
        "colab": {
          "base_uri": "https://localhost:8080/",
          "height": 286
        },
        "id": "-ayMJPjc9DyN",
        "outputId": "ef8744df-a2b2-404f-b5f4-5e1c1fc3d8e5"
      },
      "source": [
        "s = pd.Series(sample_dev)\n",
        "mn = s.mean()\n",
        "std = s.std()\n",
        "ax = s.plot.kde()\n",
        "plt.axvline(mn, color='blue')\n",
        "plt.axvline(mn-2*std, color = 'black')\n",
        "plt.axvline(mn+2*std, color = 'black')"
      ],
      "execution_count": null,
      "outputs": [
        {
          "output_type": "execute_result",
          "data": {
            "text/plain": [
              "<matplotlib.lines.Line2D at 0x7f4dc54096d0>"
            ]
          },
          "metadata": {},
          "execution_count": 51
        },
        {
          "output_type": "display_data",
          "data": {
            "image/png": "[encoded data removed]",
            "text/plain": [
              "<Figure size 432x288 with 1 Axes>"
            ]
          },
          "metadata": {}
        }
      ]
    },
    {
      "cell_type": "markdown",
      "metadata": {
        "id": "S-7akIoYSzjo"
      },
      "source": [
        "On sampling standard deviation values on XOM sp500 values. We found that it is highly positively skewed"
      ]
    },
    {
      "cell_type": "markdown",
      "metadata": {
        "id": "UBt3ug5T_XXD"
      },
      "source": [
        "#**Task 6**"
      ]
    },
    {
      "cell_type": "code",
      "metadata": {
        "id": "Bc7gvPs5_Zei"
      },
      "source": [
        "def probability_red(probability, no_of_experiments):\n",
        "  outcomes = []\n",
        "  rng = np.random.RandomState(1)\n",
        "  for i in range(no_of_experiments):\n",
        "    dice_rolls = rng.choice(np.arange(4), size = 100, p=probability)\n",
        "    num_six = (dice_rolls == 0).sum()\n",
        "    outcomes.append(num_six)\n",
        "  return outcomes"
      ],
      "execution_count": null,
      "outputs": []
    },
    {
      "cell_type": "code",
      "metadata": {
        "colab": {
          "base_uri": "https://localhost:8080/",
          "height": 282
        },
        "id": "qbriI20FBaMZ",
        "outputId": "269031b3-f617-4143-e65f-143b74770621"
      },
      "source": [
        "outcomes = probability_red([0.25, 0.25, 0.25, 0.25], 10000)\n",
        "mn = np.mean(outcomes)\n",
        "std = np.std(outcomes)\n",
        "plt.hist(outcomes, density=True)\n",
        "plt.xlabel('Number of Red Balls')\n",
        "plt.ylabel('Probability of outcome')\n",
        "plt.axvline(mn, color='blue')\n",
        "plt.axvline(mn-2*std, color = 'black')\n",
        "plt.axvline(mn+2*std, color = 'black')\n",
        "plt.show()"
      ],
      "execution_count": null,
      "outputs": [
        {
          "output_type": "display_data",
          "data": {
            "image/png": "[encoded data removed]",
            "text/plain": [
              "<Figure size 432x288 with 1 Axes>"
            ]
          },
          "metadata": {}
        }
      ]
    },
    {
      "cell_type": "code",
      "metadata": {
        "colab": {
          "base_uri": "https://localhost:8080/",
          "height": 282
        },
        "id": "PKg_P7eECg0z",
        "outputId": "bfb211a5-3535-4650-ac6e-c9005256d34f"
      },
      "source": [
        "s = pd.Series(outcomes)\n",
        "mn = s.mean()\n",
        "std = s.std()\n",
        "ax = s.plot.kde()\n",
        "plt.axvline(mn, color='blue')\n",
        "plt.axvline(mn-2*std, color = 'black')\n",
        "plt.axvline(mn+2*std, color = 'black')"
      ],
      "execution_count": null,
      "outputs": [
        {
          "output_type": "execute_result",
          "data": {
            "text/plain": [
              "<matplotlib.lines.Line2D at 0x7f4dc5276390>"
            ]
          },
          "metadata": {},
          "execution_count": 54
        },
        {
          "output_type": "display_data",
          "data": {
            "image/png": "[encoded data removed]",
            "text/plain": [
              "<Figure size 432x288 with 1 Axes>"
            ]
          },
          "metadata": {}
        }
      ]
    },
    {
      "cell_type": "code",
      "metadata": {
        "colab": {
          "base_uri": "https://localhost:8080/",
          "height": 282
        },
        "id": "nghz7bM-DUgo",
        "outputId": "579d5ef3-9be0-4f54-a3f8-7f843fb352e9"
      },
      "source": [
        "outcomes = probability_red([0.7, 0.1, 0.1, 0.1], 10000)\n",
        "mn = np.mean(outcomes)\n",
        "std = np.std(outcomes)\n",
        "plt.hist(outcomes, density=True)\n",
        "plt.xlabel('Number of Red Balls')\n",
        "plt.ylabel('Probability of outcome')\n",
        "plt.axvline(mn, color='blue')\n",
        "plt.axvline(mn-2*std, color = 'black')\n",
        "plt.axvline(mn+2*std, color = 'black')\n",
        "plt.show()"
      ],
      "execution_count": null,
      "outputs": [
        {
          "output_type": "display_data",
          "data": {
            "image/png": "[encoded data removed]",
            "text/plain": [
              "<Figure size 432x288 with 1 Axes>"
            ]
          },
          "metadata": {}
        }
      ]
    },
    {
      "cell_type": "code",
      "metadata": {
        "colab": {
          "base_uri": "https://localhost:8080/",
          "height": 282
        },
        "id": "qysxK09tDUgv",
        "outputId": "37916f82-d592-435f-924d-53bda2db5f5a"
      },
      "source": [
        "s = pd.Series(outcomes)\n",
        "mn = s.mean()\n",
        "std = s.std()\n",
        "ax = s.plot.kde()\n",
        "plt.axvline(mn, color='blue')\n",
        "plt.axvline(mn-2*std, color = 'black')\n",
        "plt.axvline(mn+2*std, color = 'black')"
      ],
      "execution_count": null,
      "outputs": [
        {
          "output_type": "execute_result",
          "data": {
            "text/plain": [
              "<matplotlib.lines.Line2D at 0x7f4dc53cf310>"
            ]
          },
          "metadata": {},
          "execution_count": 56
        },
        {
          "output_type": "display_data",
          "data": {
            "image/png": "[encoded data removed]",
            "text/plain": [
              "<Figure size 432x288 with 1 Axes>"
            ]
          },
          "metadata": {}
        }
      ]
    },
    {
      "cell_type": "markdown",
      "metadata": {
        "id": "g2u48VL3V0sI"
      },
      "source": [
        "We observed that the mean percentage of red balls is nearly equal to actual percentage of red balls in the bag. This is expected as no. of experiments done is large = 10000"
      ]
    }
  ]
}